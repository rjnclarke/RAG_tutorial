{
  "nbformat": 4,
  "nbformat_minor": 0,
  "metadata": {
    "colab": {
      "provenance": []
    },
    "kernelspec": {
      "name": "python3",
      "display_name": "Python 3"
    },
    "language_info": {
      "name": "python"
    }
  },
  "cells": [
    {
      "cell_type": "markdown",
      "source": [
        "# Agents\n",
        "\n",
        "The RAG workflow essentially feeds an LLM with relevant data, but in a given scenario a user query might go beyond the scope of the tool that we have developed to collect the data. In such a scenario a one dimensional RAG workflow might be...\n",
        "\n",
        "1) Input query.\n",
        "\n",
        "2) Get closest matches from vector store.\n",
        "\n",
        "3a) If information from vector store answers the question, then respond.\n",
        "\n",
        "3b) If information from the vector store does not answer the question, then explain that no response is possible.\n",
        "\n",
        "With Agentic RAG we look to equip the LLM with a series of tools. A single tool might be one document, say the procedure manual for a particular work flow. Let's say there are 8 of these. Each one of these tools has a description eg. \"Procedurues for Process A.\" Now when this is queried the query is recieved, the LLM checks which tool might be useful, on the basis of this analysis the LLM conducts the search in the appropriate vector store. The LLM may choose to use any number of these tools, each time checking to see if information allows the question to be answered. As an ultimate fallback the LLM might get the best results from the internet and make an attempt to answer the question.\n",
        "\n",
        "As an extension to this chain of reasoning logic can allow the LLM to break up the question, so that the total question is a sequential series of sub-questions. These subquestions might be answered with the help of numerous tools, the LLM step through each subquestion getting information until a final answer to the query can be made.\n",
        "\n",
        "Here as a first step in this process we take two such tools, two documents about Excel, one is the basic operations in Excel, and the other explain the improvements made in the 2010 version. Now given a query the LLM will decide which tool (if any) it should use.\n",
        "\n",
        "\n",
        "\n"
      ],
      "metadata": {
        "id": "XHM63qIhz3xW"
      }
    },
    {
      "cell_type": "markdown",
      "source": [
        "## $\\color{blue}{Sections:}$\n",
        "* Admin\n",
        "* Chain\n",
        "* Agent\n"
      ],
      "metadata": {
        "id": "gMJ_U1Lw3292"
      }
    },
    {
      "cell_type": "markdown",
      "source": [
        "---\n",
        "## $\\color{blue}{Admin}$\n",
        "---"
      ],
      "metadata": {
        "id": "1QZzT2o636Ok"
      }
    },
    {
      "cell_type": "code",
      "execution_count": null,
      "metadata": {
        "id": "Nqyo02bFxjPv"
      },
      "outputs": [],
      "source": [
        "%%capture\n",
        "pip install langchain"
      ]
    },
    {
      "cell_type": "code",
      "source": [
        "%%capture\n",
        "pip install langchainhub"
      ],
      "metadata": {
        "id": "zftmtKBIjcZ0"
      },
      "execution_count": null,
      "outputs": []
    },
    {
      "cell_type": "code",
      "source": [
        "%%capture\n",
        "pip install langchain-openai"
      ],
      "metadata": {
        "id": "XDfYwf9FxyMY"
      },
      "execution_count": null,
      "outputs": []
    },
    {
      "cell_type": "code",
      "source": [
        "%%capture\n",
        "pip install langchain-community"
      ],
      "metadata": {
        "id": "DuaxlVHkxyOx"
      },
      "execution_count": null,
      "outputs": []
    },
    {
      "cell_type": "code",
      "source": [
        "%%capture\n",
        "!pip install faiss-cpu"
      ],
      "metadata": {
        "id": "3ZMaBEwoZB-d"
      },
      "execution_count": null,
      "outputs": []
    },
    {
      "cell_type": "code",
      "source": [
        "from langchain.chains import RetrievalQA, LLMChain\n",
        "from langchain_openai import ChatOpenAI\n",
        "from langchain_openai import OpenAIEmbeddings\n",
        "from langchain.callbacks import StdOutCallbackHandler\n",
        "from langchain_community.vectorstores import FAISS\n",
        "from langchain.agents import Tool, ZeroShotAgent, AgentExecutor,create_react_agent\n",
        "from langchain.chains.combine_documents import create_stuff_documents_chain\n",
        "from langchain.chains import create_retrieval_chain\n",
        "from langchain import hub\n",
        "import getpass"
      ],
      "metadata": {
        "id": "eQICNfC2Xpim"
      },
      "execution_count": null,
      "outputs": []
    },
    {
      "cell_type": "code",
      "source": [
        "from google.colab import drive"
      ],
      "metadata": {
        "id": "cMICiTPOYgTf"
      },
      "execution_count": null,
      "outputs": []
    },
    {
      "cell_type": "code",
      "source": [
        "drive.mount(\"/content/drive\")\n",
        "%cd '/content/drive/MyDrive/'"
      ],
      "metadata": {
        "colab": {
          "base_uri": "https://localhost:8080/"
        },
        "id": "ayfZq9gCYiL-",
        "outputId": "a7f88c1f-e24c-487c-fcfc-e50444e0d3b2"
      },
      "execution_count": null,
      "outputs": [
        {
          "output_type": "stream",
          "name": "stdout",
          "text": [
            "Mounted at /content/drive\n",
            "/content/drive/MyDrive\n"
          ]
        }
      ]
    },
    {
      "cell_type": "markdown",
      "source": [
        "---\n",
        "## $\\color{blue}{Chain}$\n",
        "---\n",
        "\n",
        "Essentially we need three things in the chain.\n",
        "\n",
        "* Vector store where we will get our context info.\n",
        "* Prompt Template that defines how our prompt context info is formatted.\n",
        "* LLM to answer the question."
      ],
      "metadata": {
        "id": "Ca3481XZ7bMp"
      }
    },
    {
      "cell_type": "code",
      "source": [
        "#''"
      ],
      "metadata": {
        "id": "loBh_SJI4eus"
      },
      "execution_count": null,
      "outputs": []
    },
    {
      "cell_type": "code",
      "source": [
        "import os\n",
        "\n",
        "os.environ[\"OPENAI_API_KEY\"] = getpass.getpass('Your OpenAI API key please: ')"
      ],
      "metadata": {
        "id": "j0UrFsdzx2DX"
      },
      "execution_count": null,
      "outputs": []
    },
    {
      "cell_type": "code",
      "source": [
        "llm = ChatOpenAI(model='gpt-3.5-turbo')\n",
        "embeddings = OpenAIEmbeddings()\n",
        "handler = StdOutCallbackHandler()"
      ],
      "metadata": {
        "id": "QJ5mzS5mXcn1"
      },
      "execution_count": null,
      "outputs": []
    },
    {
      "cell_type": "code",
      "source": [
        "# pdfs transformed to databases in notebook 3, reload them\n",
        "\n",
        "# db_excel_2010 = FAISS.load_local(\"RAG_tutorial/dbs/excel_train.db\",embeddings,allow_dangerous_deserialization=True)\n",
        "# db_excel_basics = FAISS.load_local(\"RAG_tutorial/dbs/excel_basics.db\",embeddings,allow_dangerous_deserialization=True)"
      ],
      "metadata": {
        "id": "Uw5qR2O2Ytht"
      },
      "execution_count": null,
      "outputs": []
    },
    {
      "cell_type": "code",
      "source": [
        "db_excel_2010"
      ],
      "metadata": {
        "colab": {
          "base_uri": "https://localhost:8080/"
        },
        "id": "79gvGLLadDU6",
        "outputId": "9d262dea-0da2-4815-d718-c7d362b0f263"
      },
      "execution_count": null,
      "outputs": [
        {
          "output_type": "execute_result",
          "data": {
            "text/plain": [
              "<langchain_community.vectorstores.faiss.FAISS at 0x7d55693cfca0>"
            ]
          },
          "metadata": {},
          "execution_count": 12
        }
      ]
    },
    {
      "cell_type": "code",
      "source": [
        "retriever_2010 = db_excel_2010.as_retriever()\n",
        "retriever_basics = db_excel_basics.as_retriever()"
      ],
      "metadata": {
        "id": "MVpr9jLodJRg"
      },
      "execution_count": null,
      "outputs": []
    },
    {
      "cell_type": "code",
      "source": [
        "retrieval_qa_chat_prompt = hub.pull(\"langchain-ai/retrieval-qa-chat\")"
      ],
      "metadata": {
        "id": "PsKz-S3-pMF7"
      },
      "execution_count": null,
      "outputs": []
    },
    {
      "cell_type": "code",
      "source": [
        "retrieval_qa_chat_prompt\n"
      ],
      "metadata": {
        "colab": {
          "base_uri": "https://localhost:8080/"
        },
        "id": "cygscgG36FSV",
        "outputId": "a017107b-e9d9-428a-a261-6968960ed8c6"
      },
      "execution_count": null,
      "outputs": [
        {
          "output_type": "execute_result",
          "data": {
            "text/plain": [
              "ChatPromptTemplate(input_variables=['context', 'input'], input_types={'chat_history': typing.List[typing.Union[langchain_core.messages.ai.AIMessage, langchain_core.messages.human.HumanMessage, langchain_core.messages.chat.ChatMessage, langchain_core.messages.system.SystemMessage, langchain_core.messages.function.FunctionMessage, langchain_core.messages.tool.ToolMessage]]}, metadata={'lc_hub_owner': 'langchain-ai', 'lc_hub_repo': 'retrieval-qa-chat', 'lc_hub_commit_hash': 'b60afb6297176b022244feb83066e10ecadcda7b90423654c4a9d45e7a73cebc'}, messages=[SystemMessagePromptTemplate(prompt=PromptTemplate(input_variables=['context'], template='Answer any use questions based solely on the context below:\\n\\n<context>\\n{context}\\n</context>')), MessagesPlaceholder(variable_name='chat_history', optional=True), HumanMessagePromptTemplate(prompt=PromptTemplate(input_variables=['input'], template='{input}'))])"
            ]
          },
          "metadata": {},
          "execution_count": 20
        }
      ]
    },
    {
      "cell_type": "code",
      "source": [
        "combine_docs_chain = create_stuff_documents_chain(\n",
        "    llm, retrieval_qa_chat_prompt\n",
        ")"
      ],
      "metadata": {
        "id": "41kBkSI6pRya"
      },
      "execution_count": null,
      "outputs": []
    },
    {
      "cell_type": "code",
      "source": [
        "retrieval_chain_2010 = create_retrieval_chain(retriever_2010, combine_docs_chain)\n",
        "retrieval_chain_basics = create_retrieval_chain(retriever_basics, combine_docs_chain)"
      ],
      "metadata": {
        "id": "mEm0UGsOpYeK"
      },
      "execution_count": null,
      "outputs": []
    },
    {
      "cell_type": "markdown",
      "source": [
        "---\n",
        "## $\\color{blue}{Agent}$\n",
        "---\n",
        "\n",
        "Each single tool that the LLM can use is going to be defined as an instance of the Langchain agents Tool class. Each Tool will require a name,a nd a description and a function. The function will take a query and return a response. As the tools we have created require the invoke method, we define functions that wrap this formatting step."
      ],
      "metadata": {
        "id": "Nc0jwVfv7Pxw"
      }
    },
    {
      "cell_type": "code",
      "source": [
        "def query_2010(input):\n",
        "    return retrieval_chain_2010.invoke({'input': input})"
      ],
      "metadata": {
        "id": "WX68Hj_6pcJ3"
      },
      "execution_count": null,
      "outputs": []
    },
    {
      "cell_type": "code",
      "source": [
        "def query_basics(input):\n",
        "    return retrieval_chain_basics.invoke({'input': input})"
      ],
      "metadata": {
        "id": "Ai3gWw7dpeUS"
      },
      "execution_count": null,
      "outputs": []
    },
    {
      "cell_type": "code",
      "source": [
        "tools = [\n",
        "    Tool(\n",
        "        name = \"Excel2010\",\n",
        "        func= query_2010,\n",
        "        description=\"Useful for understanding the new features released in MS Excel 2010.\"\n",
        "    ),\n",
        "    Tool(\n",
        "        name = \"ExcelBasics\",\n",
        "        func=query_basics,\n",
        "        description=\"Useful for explaining how to perform basic operations in MS Excel.\"\n",
        "    ),\n",
        "]"
      ],
      "metadata": {
        "id": "P9X7-AXjpgmj"
      },
      "execution_count": null,
      "outputs": []
    },
    {
      "cell_type": "markdown",
      "source": [
        "This prompt template will have access to the input, the tools, and the agent scratchpad represents info learnt along the way by the LLM."
      ],
      "metadata": {
        "id": "4XH32uBD-Apv"
      }
    },
    {
      "cell_type": "code",
      "source": [
        "prompt = hub.pull(\"hwchase17/react\")"
      ],
      "metadata": {
        "id": "uAIlKDHnsSIy"
      },
      "execution_count": null,
      "outputs": []
    },
    {
      "cell_type": "code",
      "source": [
        "prompt"
      ],
      "metadata": {
        "colab": {
          "base_uri": "https://localhost:8080/"
        },
        "id": "zCQpSygC9gMA",
        "outputId": "d9669cb0-3d15-4181-a0cd-2bf33b9688a8"
      },
      "execution_count": null,
      "outputs": [
        {
          "output_type": "execute_result",
          "data": {
            "text/plain": [
              "PromptTemplate(input_variables=['agent_scratchpad', 'input', 'tool_names', 'tools'], metadata={'lc_hub_owner': 'hwchase17', 'lc_hub_repo': 'react', 'lc_hub_commit_hash': 'd15fe3c426f1c4b3f37c9198853e4a86e20c425ca7f4752ec0c9b0e97ca7ea4d'}, template='Answer the following questions as best you can. You have access to the following tools:\\n\\n{tools}\\n\\nUse the following format:\\n\\nQuestion: the input question you must answer\\nThought: you should always think about what to do\\nAction: the action to take, should be one of [{tool_names}]\\nAction Input: the input to the action\\nObservation: the result of the action\\n... (this Thought/Action/Action Input/Observation can repeat N times)\\nThought: I now know the final answer\\nFinal Answer: the final answer to the original input question\\n\\nBegin!\\n\\nQuestion: {input}\\nThought:{agent_scratchpad}')"
            ]
          },
          "metadata": {},
          "execution_count": 37
        }
      ]
    },
    {
      "cell_type": "code",
      "source": [
        "prompt.template"
      ],
      "metadata": {
        "colab": {
          "base_uri": "https://localhost:8080/",
          "height": 70
        },
        "id": "g34PgiZGsTgq",
        "outputId": "710c2e47-2b50-4b60-8094-7651f8bebf89"
      },
      "execution_count": null,
      "outputs": [
        {
          "output_type": "execute_result",
          "data": {
            "text/plain": [
              "'Answer the following questions as best you can. You have access to the following tools:\\n\\n{tools}\\n\\nUse the following format:\\n\\nQuestion: the input question you must answer\\nThought: you should always think about what to do\\nAction: the action to take, should be one of [{tool_names}]\\nAction Input: the input to the action\\nObservation: the result of the action\\n... (this Thought/Action/Action Input/Observation can repeat N times)\\nThought: I now know the final answer\\nFinal Answer: the final answer to the original input question\\n\\nBegin!\\n\\nQuestion: {input}\\nThought:{agent_scratchpad}'"
            ],
            "application/vnd.google.colaboratory.intrinsic+json": {
              "type": "string"
            }
          },
          "metadata": {},
          "execution_count": 36
        }
      ]
    },
    {
      "cell_type": "code",
      "source": [
        "excel_agent = create_react_agent(llm, tools, prompt)"
      ],
      "metadata": {
        "id": "NlaCEit8rpgM"
      },
      "execution_count": null,
      "outputs": []
    },
    {
      "cell_type": "code",
      "source": [
        "#excel_agent = ZeroShotAgent(llm_chain=llm_chain, tools=tools, verbose=True)\n",
        "excel_agent_chain = AgentExecutor.from_agent_and_tools(agent=excel_agent, tools=tools, verbose=True,return_intermediate_steps=True)"
      ],
      "metadata": {
        "id": "HQuP1OrPdSwA"
      },
      "execution_count": null,
      "outputs": []
    },
    {
      "cell_type": "code",
      "source": [
        "r = excel_agent_chain.invoke({'input': 'I need to format numbers in basic Excel,  and use new version of Excel to discover patterns and trends in my data'})"
      ],
      "metadata": {
        "colab": {
          "base_uri": "https://localhost:8080/"
        },
        "id": "MjZ5Jluhsotu",
        "outputId": "6550bb30-efb9-4e75-b24e-bb9e9616dc0e"
      },
      "execution_count": null,
      "outputs": [
        {
          "output_type": "stream",
          "name": "stdout",
          "text": [
            "\n",
            "\n",
            "\u001b[1m> Entering new AgentExecutor chain...\u001b[0m\n",
            "\u001b[32;1m\u001b[1;3mI should first learn how to format numbers in basic Excel and then explore the new features in Excel 2010 to analyze patterns and trends in my data.\n",
            "Action: ExcelBasics\n",
            "Action Input: Learn how to format numbers in Excel\u001b[0m\u001b[33;1m\u001b[1;3m{'input': 'Learn how to format numbers in Excel', 'context': [Document(page_content='1. Select the range to format  \\n2. Click on the HOME  tab, then click on the \\ndrop arrow for Number  Format  in the \\nNumber  group  \\n3. Click on the desired number format  \\n7 \\nHandy to Know…  \\n\\uf0b7Excel may appear to round values up or \\ndown as necessary – however, the value in \\nthe cell does not change. Sometimes you’ll \\nsee minor rounding discrepancies.  \\n\\uf0b7The Currency  format shows the currency \\nformat and symbol appropriate to the country \\nyour computer is configured for.', metadata={'source': './pdfs/excel_valid.pdf', 'page': 20}, _lc_kwargs={'page_content': '1. Select the range to format  \\n2. Click on the HOME  tab, then click on the \\ndrop arrow for Number  Format  in the \\nNumber  group  \\n3. Click on the desired number format  \\n7 \\nHandy to Know…  \\n\\uf0b7Excel may appear to round values up or \\ndown as necessary – however, the value in \\nthe cell does not change. Sometimes you’ll \\nsee minor rounding discrepancies.  \\n\\uf0b7The Currency  format shows the currency \\nformat and symbol appropriate to the country \\nyour computer is configured for.', 'metadata': {'source': './pdfs/excel_valid.pdf', 'page': 20}}), Document(page_content=', then click in cell E13 to \\nselect the range containing \\nunits of measure  \\n\\uf035 Click on the drop arrow for \\nNumber  Format , then select \\nNumber  to display these as \\nnumbers with  2 decimal places  \\n\\uf036 Repeat the above steps to \\nchange G4:G13  to Currency  \\n\\uf037 Repeat the above steps and \\nchange the following ranges \\nas shown:  \\nH4:H14  Percentage  \\nI4:I4 Accounting  \\nG15:I15  Currency  \\n \\n2 \\nFor Your Reference…  \\nTo apply  general formatting  to number s: \\n1. Select the range to format', metadata={'source': './pdfs/excel_valid.pdf', 'page': 20}, _lc_kwargs={'page_content': ', then click in cell E13 to \\nselect the range containing \\nunits of measure  \\n\\uf035 Click on the drop arrow for \\nNumber  Format , then select \\nNumber  to display these as \\nnumbers with  2 decimal places  \\n\\uf036 Repeat the above steps to \\nchange G4:G13  to Currency  \\n\\uf037 Repeat the above steps and \\nchange the following ranges \\nas shown:  \\nH4:H14  Percentage  \\nI4:I4 Accounting  \\nG15:I15  Currency  \\n \\n2 \\nFor Your Reference…  \\nTo apply  general formatting  to number s: \\n1. Select the range to format', 'metadata': {'source': './pdfs/excel_valid.pdf', 'page': 20}}), Document(page_content='Microsoft Excel  \\nITTraining@sgul.ac.uk  Page 17 St. George’s Information Services  APPLYING GENERAL FORMATTING  \\n \\n \\n \\n \\n \\n \\n \\n \\n \\n \\n \\n \\n \\n \\n \\n \\n \\n \\n \\n \\n \\n \\n \\n \\nThe Number Format  comm and in the Number  \\ngroup on the HOME  tab contains a drop arrow \\nthat provides a gallery of the more commonly \\nused number formats. You can apply these  \\nformats easily and quickly to a selected cell or \\nrange of cells in the worksheet.  \\nTry This Yourself:  Open \\nFile Before starting this exercise', metadata={'source': './pdfs/excel_valid.pdf', 'page': 20}, _lc_kwargs={'page_content': 'Microsoft Excel  \\nITTraining@sgul.ac.uk  Page 17 St. George’s Information Services  APPLYING GENERAL FORMATTING  \\n \\n \\n \\n \\n \\n \\n \\n \\n \\n \\n \\n \\n \\n \\n \\n \\n \\n \\n \\n \\n \\n \\n \\n \\nThe Number Format  comm and in the Number  \\ngroup on the HOME  tab contains a drop arrow \\nthat provides a gallery of the more commonly \\nused number formats. You can apply these  \\nformats easily and quickly to a selected cell or \\nrange of cells in the worksheet.  \\nTry This Yourself:  Open \\nFile Before starting this exercise', 'metadata': {'source': './pdfs/excel_valid.pdf', 'page': 20}}), Document(page_content='a range of number formatting options on the ribbon that allow you to apply formatting to numbers after \\nthey have been entered into a worksheet.', metadata={'source': './pdfs/excel_valid.pdf', 'page': 19}, _lc_kwargs={'page_content': 'a range of number formatting options on the ribbon that allow you to apply formatting to numbers after \\nthey have been entered into a worksheet.', 'metadata': {'source': './pdfs/excel_valid.pdf', 'page': 19}})], 'answer': 'To format numbers in Excel, follow these steps:\\n1. Select the range of cells containing the numbers you want to format.\\n2. Click on the HOME tab.\\n3. In the Number group, click on the drop arrow for Number Format.\\n4. Choose the desired number format from the options provided (e.g., Number, Currency, Percentage, Accounting).\\n5. If needed, adjust the specific formatting options such as decimal places.\\n6. Repeat the above steps for different ranges of cells as required.\\n7. Remember that Excel may round values for display purposes, but the actual value in the cell remains unchanged.'}\u001b[0m\u001b[32;1m\u001b[1;3mI should now explore the new features in Excel 2010 to analyze patterns and trends in my data.\n",
            "Action: Excel2010\n",
            "Action Input: Explore new features in Excel 2010 for data analysis\u001b[0m\u001b[36;1m\u001b[1;3m{'input': 'Explore new features in Excel 2010 for data analysis', 'context': [Document(page_content='1 \\n \\nMicrosoft Excel 2010: An Overview \\nMicrosoft® Excel® 2010 delivers rich, new and enhanced features to the world’s most popular \\nproductivity suite. Excel 2010 makes it possible to analyze, manage, and share information in \\nmore ways than ever before, helping you make better, smarter decisions. With new data analysis \\nand visualization tools, along with managed self-service business intelligence technologies, you', metadata={'source': 'pdfs/excel_train.pdf', 'file_path': 'pdfs/excel_train.pdf', 'page': 3, 'total_pages': 76, 'format': 'PDF 1.5', 'title': '', 'author': 'kimsc', 'subject': '', 'keywords': '', 'creator': 'Microsoft® Word 2010', 'producer': 'Microsoft® Word 2010', 'creationDate': \"D:20100406201457-05'00'\", 'modDate': \"D:20100406201457-05'00'\", 'trapped': ''}, _lc_kwargs={'page_content': '1 \\n \\nMicrosoft Excel 2010: An Overview \\nMicrosoft® Excel® 2010 delivers rich, new and enhanced features to the world’s most popular \\nproductivity suite. Excel 2010 makes it possible to analyze, manage, and share information in \\nmore ways than ever before, helping you make better, smarter decisions. With new data analysis \\nand visualization tools, along with managed self-service business intelligence technologies, you', 'metadata': {'source': 'pdfs/excel_train.pdf', 'file_path': 'pdfs/excel_train.pdf', 'page': 3, 'total_pages': 76, 'format': 'PDF 1.5', 'title': '', 'author': 'kimsc', 'subject': '', 'keywords': '', 'creator': 'Microsoft® Word 2010', 'producer': 'Microsoft® Word 2010', 'creationDate': \"D:20100406201457-05'00'\", 'modDate': \"D:20100406201457-05'00'\", 'trapped': ''}}), Document(page_content='Obtain powerful analysis from your desktop. \\nWhether at work or home, you need to be able to manipulate and analyze your information in a \\nway that gives you new insight to make better decisions—and the faster you can finish your task \\nthe better. Many refinements and performance improvements in Excel 2010 make it easier and \\nfaster for you to accomplish your work. \\n\\uf0b7 \\nGet more power from Excel. For those who need additional power for your analysis,', metadata={'source': 'pdfs/excel_train.pdf', 'file_path': 'pdfs/excel_train.pdf', 'page': 5, 'total_pages': 76, 'format': 'PDF 1.5', 'title': '', 'author': 'kimsc', 'subject': '', 'keywords': '', 'creator': 'Microsoft® Word 2010', 'producer': 'Microsoft® Word 2010', 'creationDate': \"D:20100406201457-05'00'\", 'modDate': \"D:20100406201457-05'00'\", 'trapped': ''}, _lc_kwargs={'page_content': 'Obtain powerful analysis from your desktop. \\nWhether at work or home, you need to be able to manipulate and analyze your information in a \\nway that gives you new insight to make better decisions—and the faster you can finish your task \\nthe better. Many refinements and performance improvements in Excel 2010 make it easier and \\nfaster for you to accomplish your work. \\n\\uf0b7 \\nGet more power from Excel. For those who need additional power for your analysis,', 'metadata': {'source': 'pdfs/excel_train.pdf', 'file_path': 'pdfs/excel_train.pdf', 'page': 5, 'total_pages': 76, 'format': 'PDF 1.5', 'title': '', 'author': 'kimsc', 'subject': '', 'keywords': '', 'creator': 'Microsoft® Word 2010', 'producer': 'Microsoft® Word 2010', 'creationDate': \"D:20100406201457-05'00'\", 'modDate': \"D:20100406201457-05'00'\", 'trapped': ''}}), Document(page_content='46 \\n \\nConclusion \\nDesigned to meet your evolving needs and work-styles, Excel 2010 delivers powerful tools to \\nhelp you organize and understand your information. With Excel 2010, you get a better user \\nexperience in which you can create impactful data analysis and provide visual representations of \\nyour results. You can also share and work together seamlessly with team members on a school \\nproject, at work, or with other family members and even work with them simultaneously on a', metadata={'source': 'pdfs/excel_train.pdf', 'file_path': 'pdfs/excel_train.pdf', 'page': 48, 'total_pages': 76, 'format': 'PDF 1.5', 'title': '', 'author': 'kimsc', 'subject': '', 'keywords': '', 'creator': 'Microsoft® Word 2010', 'producer': 'Microsoft® Word 2010', 'creationDate': \"D:20100406201457-05'00'\", 'modDate': \"D:20100406201457-05'00'\", 'trapped': ''}, _lc_kwargs={'page_content': '46 \\n \\nConclusion \\nDesigned to meet your evolving needs and work-styles, Excel 2010 delivers powerful tools to \\nhelp you organize and understand your information. With Excel 2010, you get a better user \\nexperience in which you can create impactful data analysis and provide visual representations of \\nyour results. You can also share and work together seamlessly with team members on a school \\nproject, at work, or with other family members and even work with them simultaneously on a', 'metadata': {'source': 'pdfs/excel_train.pdf', 'file_path': 'pdfs/excel_train.pdf', 'page': 48, 'total_pages': 76, 'format': 'PDF 1.5', 'title': '', 'author': 'kimsc', 'subject': '', 'keywords': '', 'creator': 'Microsoft® Word 2010', 'producer': 'Microsoft® Word 2010', 'creationDate': \"D:20100406201457-05'00'\", 'modDate': \"D:20100406201457-05'00'\", 'trapped': ''}}), Document(page_content='student records. Your needs may be increasing but there’s no need to outsource and hire a \\nconsultant to meet them. With Excel 2010, you can quickly create polished and professional \\nwork. New data analysis and visualization capabilities have been added and long-time favorites \\nhave been enhanced to help increase your productivity and help you gain insights resulting in \\nbetter decisions.  \\nGet easier access to the right tools, at the right time.', metadata={'source': 'pdfs/excel_train.pdf', 'file_path': 'pdfs/excel_train.pdf', 'page': 4, 'total_pages': 76, 'format': 'PDF 1.5', 'title': '', 'author': 'kimsc', 'subject': '', 'keywords': '', 'creator': 'Microsoft® Word 2010', 'producer': 'Microsoft® Word 2010', 'creationDate': \"D:20100406201457-05'00'\", 'modDate': \"D:20100406201457-05'00'\", 'trapped': ''}, _lc_kwargs={'page_content': 'student records. Your needs may be increasing but there’s no need to outsource and hire a \\nconsultant to meet them. With Excel 2010, you can quickly create polished and professional \\nwork. New data analysis and visualization capabilities have been added and long-time favorites \\nhave been enhanced to help increase your productivity and help you gain insights resulting in \\nbetter decisions.  \\nGet easier access to the right tools, at the right time.', 'metadata': {'source': 'pdfs/excel_train.pdf', 'file_path': 'pdfs/excel_train.pdf', 'page': 4, 'total_pages': 76, 'format': 'PDF 1.5', 'title': '', 'author': 'kimsc', 'subject': '', 'keywords': '', 'creator': 'Microsoft® Word 2010', 'producer': 'Microsoft® Word 2010', 'creationDate': \"D:20100406201457-05'00'\", 'modDate': \"D:20100406201457-05'00'\", 'trapped': ''}})], 'answer': 'Excel 2010 introduces new data analysis and visualization tools, as well as managed self-service business intelligence technologies. These features allow users to analyze, manage, and share information in more ways than ever before, helping them make better decisions. The enhancements in Excel 2010 make it easier and faster to manipulate and analyze information, providing users with new insights to make better decisions. Additionally, Excel 2010 offers powerful tools for organizing and understanding information, creating impactful data analysis, and providing visual representations of results. These new capabilities, along with enhanced long-time favorites, aim to increase productivity and help users gain insights leading to better decisions.'}\u001b[0m\u001b[32;1m\u001b[1;3mI now have the necessary knowledge to format numbers in Excel and analyze patterns and trends using Excel 2010.\n",
            "Final Answer: You can format numbers in Excel by selecting the range of cells, clicking on the HOME tab, and choosing the desired number format. Excel 2010 introduces new data analysis and visualization tools, along with managed self-service business intelligence technologies, to help users make better decisions and analyze information in various ways.\u001b[0m\n",
            "\n",
            "\u001b[1m> Finished chain.\u001b[0m\n"
          ]
        }
      ]
    },
    {
      "cell_type": "code",
      "source": [
        "# input/ output/ intermediate_steps\n",
        "question = f\"Initial query... {r['input']}\\n\\n\"\n",
        "response = f\"Final response... {r['output']}\\n\\n\"\n",
        "hold = \"\"\n",
        "for i in range(len(r['intermediate_steps'])):\n",
        "  reflection = r['intermediate_steps'][i][0].log.split('\\n')[0]\n",
        "  tool = r['intermediate_steps'][i][0].tool\n",
        "  tool_in = r['intermediate_steps'][i][0].tool_input\n",
        "  resp = r['intermediate_steps'][i][1]['answer']\n",
        "  hold += f'Step {i+1}:\\n'\n",
        "  hold += f'The agent considers... \"{reflection}\"\\n'\n",
        "  hold += f'The angent chooses the tool...  \"{tool}.\"\\n'\n",
        "  hold += f'The angent queries the tool... \"{tool_in}.\"\\n'\n",
        "  hold += f'The angent recieves the response...\\n\"{resp}\"\\n\\n'\n",
        "\n",
        "print_response = question + response + hold\n",
        "\n",
        "\n",
        "print(print_response)\n"
      ],
      "metadata": {
        "colab": {
          "base_uri": "https://localhost:8080/"
        },
        "id": "iUhCtnv6wEwE",
        "outputId": "aec6beea-beec-44f7-ea8a-3ab8f8a1d289"
      },
      "execution_count": null,
      "outputs": [
        {
          "output_type": "stream",
          "name": "stdout",
          "text": [
            "Initial query... I need to format numbers in basic Excel,  and use new version of Excel to discover patterns and trends in my data\n",
            "\n",
            "Final response... You can format numbers in Excel by selecting the range of cells, clicking on the HOME tab, and choosing the desired number format. Excel 2010 introduces new data analysis and visualization tools, along with managed self-service business intelligence technologies, to help users make better decisions and analyze information in various ways.\n",
            "\n",
            "Step 1:\n",
            "The agent considers... \"I should first learn how to format numbers in basic Excel and then explore the new features in Excel 2010 to analyze patterns and trends in my data.\"\n",
            "The angent chooses the tool...  \"ExcelBasics.\"\n",
            "The angent queries the tool... \"Learn how to format numbers in Excel.\"\n",
            "The angent recieves the response...\n",
            "\"To format numbers in Excel, follow these steps:\n",
            "1. Select the range of cells containing the numbers you want to format.\n",
            "2. Click on the HOME tab.\n",
            "3. In the Number group, click on the drop arrow for Number Format.\n",
            "4. Choose the desired number format from the options provided (e.g., Number, Currency, Percentage, Accounting).\n",
            "5. If needed, adjust the specific formatting options such as decimal places.\n",
            "6. Repeat the above steps for different ranges of cells as required.\n",
            "7. Remember that Excel may round values for display purposes, but the actual value in the cell remains unchanged.\"\n",
            "\n",
            "Step 2:\n",
            "The agent considers... \"I should now explore the new features in Excel 2010 to analyze patterns and trends in my data.\"\n",
            "The angent chooses the tool...  \"Excel2010.\"\n",
            "The angent queries the tool... \"Explore new features in Excel 2010 for data analysis.\"\n",
            "The angent recieves the response...\n",
            "\"Excel 2010 introduces new data analysis and visualization tools, as well as managed self-service business intelligence technologies. These features allow users to analyze, manage, and share information in more ways than ever before, helping them make better decisions. The enhancements in Excel 2010 make it easier and faster to manipulate and analyze information, providing users with new insights to make better decisions. Additionally, Excel 2010 offers powerful tools for organizing and understanding information, creating impactful data analysis, and providing visual representations of results. These new capabilities, along with enhanced long-time favorites, aim to increase productivity and help users gain insights leading to better decisions.\"\n",
            "\n",
            "\n"
          ]
        }
      ]
    }
  ]
}