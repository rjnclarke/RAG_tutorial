{
  "nbformat": 4,
  "nbformat_minor": 0,
  "metadata": {
    "colab": {
      "provenance": [],
      "toc_visible": true
    },
    "kernelspec": {
      "name": "python3",
      "display_name": "Python 3"
    },
    "language_info": {
      "name": "python"
    }
  },
  "cells": [
    {
      "cell_type": "markdown",
      "source": [
        "\n",
        "\n",
        "\n",
        "```\n",
        "\n",
        "# $\\color{blue}{Langchain}$\n",
        "\n",
        "---"
      ],
      "metadata": {
        "id": "UdiNk6zJ5INT"
      }
    },
    {
      "cell_type": "code",
      "source": [
        "# Link to file\n",
        "from google.colab import drive\n",
        "\n",
        "drive.mount(\"/content/drive\")\n",
        "%cd '/content/drive/MyDrive/'"
      ],
      "metadata": {
        "id": "BxLPelB4yHaq"
      },
      "execution_count": null,
      "outputs": []
    },
    {
      "cell_type": "markdown",
      "source": [
        "---\n",
        "\n",
        "### $\\color{red}{LCEL}$\n",
        "\n",
        "---\n",
        "\n",
        "At a high level Langchain is library for interacting with LLMs, it has a extensive functionality and avoids us reinventing the wheel when we're dealing with LLMs.\n",
        "\n",
        "The name Langchain is a hint at its underlying logic that we create a chain where an initial input will be passed to a module transformed and passed to the next, until it resurfaces as some final response.\n",
        "\n",
        "This chaining is acomplished with Langchain's Runnable class, and the | pipe operator and is referred to as Langchain Expression Language.\n",
        "\n",
        "---"
      ],
      "metadata": {
        "id": "NKXT-jKj5O1y"
      }
    },
    {
      "cell_type": "markdown",
      "source": [
        "---\n",
        "\n",
        "##### $\\color{orange}{Runnables}$\n",
        "\n",
        "---\n",
        "\n",
        "The most simple case we can imaging is using a prompt template and an LLM.\n",
        "\n",
        "Let's install Langcahin"
      ],
      "metadata": {
        "id": "qy2nGG648H4v"
      }
    },
    {
      "cell_type": "code",
      "execution_count": null,
      "metadata": {
        "id": "0HkW9I_b5GzY"
      },
      "outputs": [],
      "source": [
        "%%capture\n",
        "!pip install -U -q langchain"
      ]
    },
    {
      "cell_type": "markdown",
      "source": [
        "**Let's check the Prompt Template...**"
      ],
      "metadata": {
        "id": "auZMEBNz9YNM"
      }
    },
    {
      "cell_type": "code",
      "source": [
        "from langchain.prompts import ChatPromptTemplate\n",
        "\n",
        "template = \"\"\"Answer the question by referring to information in the context. If their is insufficient information in the context to answer the question then respond with 'No information.':\n",
        "\n",
        "### CONTEXT\n",
        "{context}\n",
        "\n",
        "### QUESTION\n",
        "Question: {input}\n",
        "\"\"\"\n",
        "\n",
        "qa_prompt = ChatPromptTemplate.from_template(template)"
      ],
      "metadata": {
        "id": "W2v1ykY78417"
      },
      "execution_count": null,
      "outputs": []
    },
    {
      "cell_type": "markdown",
      "source": [
        "**What is it?**"
      ],
      "metadata": {
        "id": "zLNoaoLt9ksm"
      }
    },
    {
      "cell_type": "code",
      "source": [
        "type(qa_prompt)"
      ],
      "metadata": {
        "id": "_LMXNuVS9f1-"
      },
      "execution_count": null,
      "outputs": []
    },
    {
      "cell_type": "code",
      "source": [
        "from langchain_core.runnables import Runnable\n"
      ],
      "metadata": {
        "id": "x7JuNA7j-NHo"
      },
      "execution_count": null,
      "outputs": []
    },
    {
      "cell_type": "code",
      "source": [
        "isinstance(qa_prompt, ChatPromptTemplate)"
      ],
      "metadata": {
        "id": "pdx_cbyk-UMD"
      },
      "execution_count": null,
      "outputs": []
    },
    {
      "cell_type": "code",
      "source": [
        "isinstance(qa_prompt, Runnable)"
      ],
      "metadata": {
        "id": "nmN1rwFy-j3T"
      },
      "execution_count": null,
      "outputs": []
    },
    {
      "cell_type": "markdown",
      "source": [
        "**So we inherit from Runnable, what does it need?**"
      ],
      "metadata": {
        "id": "nz8HWp-v-qCK"
      }
    },
    {
      "cell_type": "code",
      "source": [
        "qa_prompt.InputType"
      ],
      "metadata": {
        "id": "DBcbepXh-o-K"
      },
      "execution_count": null,
      "outputs": []
    },
    {
      "cell_type": "code",
      "source": [
        "qa_prompt.input_schema.schema()['properties']"
      ],
      "metadata": {
        "id": "VFo6rEPp_nUE"
      },
      "execution_count": null,
      "outputs": []
    },
    {
      "cell_type": "code",
      "source": [
        "prompt_in = {\n",
        "    'context': \"Contrary to popular belief fish haven't always lived on land. As early as the third millenium they were known to also inhabit the sea\",\n",
        "    'input': \"What do we know of fish's natural habitat?\"\n",
        "}"
      ],
      "metadata": {
        "id": "lB_3ocgODVoX"
      },
      "execution_count": null,
      "outputs": []
    },
    {
      "cell_type": "code",
      "source": [
        "prompt_out = qa_prompt.invoke(prompt_in)"
      ],
      "metadata": {
        "id": "g_Sn5bAREI54"
      },
      "execution_count": null,
      "outputs": []
    },
    {
      "cell_type": "markdown",
      "source": [
        "**We get this HumanMessage object out with a string field call content**"
      ],
      "metadata": {
        "id": "lHznRTkaGQpO"
      }
    },
    {
      "cell_type": "code",
      "source": [
        "print(prompt_out.messages[0].content)"
      ],
      "metadata": {
        "id": "bXFttFvTFGuQ"
      },
      "execution_count": null,
      "outputs": []
    },
    {
      "cell_type": "code",
      "source": [
        "type(prompt_out)"
      ],
      "metadata": {
        "id": "xIjASHBS0SB0"
      },
      "execution_count": null,
      "outputs": []
    },
    {
      "cell_type": "code",
      "source": [
        "prompt_out.messages[0].to_json()"
      ],
      "metadata": {
        "id": "1akuI6fAIoUl",
        "collapsed": true
      },
      "execution_count": null,
      "outputs": []
    },
    {
      "cell_type": "markdown",
      "source": [
        "**Let's get an LLM**"
      ],
      "metadata": {
        "id": "WB0xz2SNGgin"
      }
    },
    {
      "cell_type": "code",
      "source": [
        "import getpass\n",
        "import os\n",
        "openai_api_key = getpass.getpass(\"Enter your OpenAI API Key: \")\n",
        "os.environ[\"OPENAI_API_KEY\"] = openai_api_key"
      ],
      "metadata": {
        "id": "k5rFod-5GfHH"
      },
      "execution_count": null,
      "outputs": []
    },
    {
      "cell_type": "code",
      "source": [
        "%%capture\n",
        "!pip install langchain_openai"
      ],
      "metadata": {
        "id": "WeqNHSrcHk3t"
      },
      "execution_count": null,
      "outputs": []
    },
    {
      "cell_type": "code",
      "source": [
        "from langchain_openai import ChatOpenAI"
      ],
      "metadata": {
        "id": "v97yvLigHt2m"
      },
      "execution_count": null,
      "outputs": []
    },
    {
      "cell_type": "code",
      "source": [
        "qa_llm = ChatOpenAI(model=\"gpt-3.5-turbo\", temperature = 0)"
      ],
      "metadata": {
        "id": "SnR4rhdyHrhn"
      },
      "execution_count": null,
      "outputs": []
    },
    {
      "cell_type": "code",
      "source": [
        "isinstance(qa_llm, ChatOpenAI)"
      ],
      "metadata": {
        "id": "mqb_PHKOHv-w"
      },
      "execution_count": null,
      "outputs": []
    },
    {
      "cell_type": "code",
      "source": [
        "isinstance(qa_llm, Runnable)"
      ],
      "metadata": {
        "id": "8jP4uGicH4aG"
      },
      "execution_count": null,
      "outputs": []
    },
    {
      "cell_type": "markdown",
      "source": [
        "**It's a runnable, what does it want**"
      ],
      "metadata": {
        "id": "aWrfGEN0IC7O"
      }
    },
    {
      "cell_type": "code",
      "source": [
        "qa_llm.InputType"
      ],
      "metadata": {
        "id": "kSm2IP_AIH4e"
      },
      "execution_count": null,
      "outputs": []
    },
    {
      "cell_type": "markdown",
      "source": [
        "**It accepts a human message with a content field**"
      ],
      "metadata": {
        "id": "vAR_EmSoJ11F"
      }
    },
    {
      "cell_type": "markdown",
      "source": [
        "**Let's Invoke**"
      ],
      "metadata": {
        "id": "n0tatn9OKAQU"
      }
    },
    {
      "cell_type": "code",
      "source": [
        "llm_out = qa_llm.invoke(prompt_out)"
      ],
      "metadata": {
        "id": "1HQ45HjWJ-Yc"
      },
      "execution_count": null,
      "outputs": []
    },
    {
      "cell_type": "code",
      "source": [
        "llm_out"
      ],
      "metadata": {
        "id": "KWrsgJ8XKXjd"
      },
      "execution_count": null,
      "outputs": []
    },
    {
      "cell_type": "markdown",
      "source": [
        "**Invent a Human Message to see it works**"
      ],
      "metadata": {
        "id": "H05DfM5vLzE5"
      }
    },
    {
      "cell_type": "code",
      "source": [
        "from langchain_core.messages.human import HumanMessage\n",
        "\n",
        "content = \"Answer the question by referring to information in the context. Elaborate and invent other facts if you want.':\\n\\n### CONTEXT\\nContrary to popular belief fish haven't always lived on land. As early as the third millenium they were known to also inhabit the sea\\n\\n### QUESTION\\nQuestion: What do we know of our natural habitat?\\n\"\n",
        "human_message = HumanMessage(content=content)"
      ],
      "metadata": {
        "id": "TXeMGo07L4IA"
      },
      "execution_count": null,
      "outputs": []
    },
    {
      "cell_type": "code",
      "source": [
        "qa_llm.invoke([human_message])"
      ],
      "metadata": {
        "id": "i0bYcMiNMMqD"
      },
      "execution_count": null,
      "outputs": []
    },
    {
      "cell_type": "markdown",
      "source": [
        "**So the LLM expects a list of messages or a prompt value. It returns another BaseMessage specifically and AIMessage**"
      ],
      "metadata": {
        "id": "NcA1TFwSMmsA"
      }
    },
    {
      "cell_type": "markdown",
      "source": [
        "**Let's run it through an output parser.**"
      ],
      "metadata": {
        "id": "OE4V60LiNfBH"
      }
    },
    {
      "cell_type": "code",
      "source": [
        "from langchain_core.output_parsers.string import StrOutputParser"
      ],
      "metadata": {
        "id": "sbNyNh8fNm4u"
      },
      "execution_count": null,
      "outputs": []
    },
    {
      "cell_type": "code",
      "source": [
        "parser = StrOutputParser()"
      ],
      "metadata": {
        "id": "HCHkexSpNsOV"
      },
      "execution_count": null,
      "outputs": []
    },
    {
      "cell_type": "code",
      "source": [
        "isinstance(parser, StrOutputParser)"
      ],
      "metadata": {
        "id": "hAVqHATGNyTd"
      },
      "execution_count": null,
      "outputs": []
    },
    {
      "cell_type": "code",
      "source": [
        "isinstance(parser, Runnable)"
      ],
      "metadata": {
        "id": "mS_RZRd1N33F"
      },
      "execution_count": null,
      "outputs": []
    },
    {
      "cell_type": "code",
      "source": [
        "parser.InputType"
      ],
      "metadata": {
        "id": "Dv-h-afKN85F"
      },
      "execution_count": null,
      "outputs": []
    },
    {
      "cell_type": "code",
      "source": [
        "parser.output_schema.schema()"
      ],
      "metadata": {
        "id": "gwGvYIc5Oxs0"
      },
      "execution_count": null,
      "outputs": []
    },
    {
      "cell_type": "markdown",
      "source": [
        "**let's invoke**"
      ],
      "metadata": {
        "id": "GtFCsov7ObD6"
      }
    },
    {
      "cell_type": "code",
      "source": [
        "parser_out = parser.invoke(llm_out)"
      ],
      "metadata": {
        "id": "wekeNSGKOZ6L"
      },
      "execution_count": null,
      "outputs": []
    },
    {
      "cell_type": "code",
      "source": [
        "parser_out"
      ],
      "metadata": {
        "id": "ZAhhrJCmOrFr"
      },
      "execution_count": null,
      "outputs": []
    },
    {
      "cell_type": "code",
      "source": [
        "type(parser_out)"
      ],
      "metadata": {
        "id": "O_5X6MmWOv1F"
      },
      "execution_count": null,
      "outputs": []
    },
    {
      "cell_type": "markdown",
      "source": [
        "**So we see how we can just pass one output to another module, so let's make a chain**"
      ],
      "metadata": {
        "id": "b0g92uwPO608"
      }
    },
    {
      "cell_type": "code",
      "source": [
        "chain = qa_prompt | qa_llm | parser"
      ],
      "metadata": {
        "id": "N3eFEU2XPhNw"
      },
      "execution_count": null,
      "outputs": []
    },
    {
      "cell_type": "code",
      "source": [
        "type(chain)"
      ],
      "metadata": {
        "id": "heF-q8oVPolq"
      },
      "execution_count": null,
      "outputs": []
    },
    {
      "cell_type": "code",
      "source": [
        "isinstance(chain, Runnable)"
      ],
      "metadata": {
        "id": "qApa1cdSPtRy"
      },
      "execution_count": null,
      "outputs": []
    },
    {
      "cell_type": "code",
      "source": [
        "chain.input_schema.schema()['properties']"
      ],
      "metadata": {
        "id": "zGFMbJnuP5hx"
      },
      "execution_count": null,
      "outputs": []
    },
    {
      "cell_type": "code",
      "source": [
        "chain.output_schema.schema()"
      ],
      "metadata": {
        "id": "cG5Mc3THQAYZ"
      },
      "execution_count": null,
      "outputs": []
    },
    {
      "cell_type": "markdown",
      "source": [
        "**We need the input of the first module and get the output of the last module**"
      ],
      "metadata": {
        "id": "90f3TvHcQOon"
      }
    },
    {
      "cell_type": "code",
      "source": [
        "prompt_in"
      ],
      "metadata": {
        "id": "EzvWu8dKQEqw"
      },
      "execution_count": null,
      "outputs": []
    },
    {
      "cell_type": "code",
      "source": [
        "chain.invoke(prompt_in)"
      ],
      "metadata": {
        "id": "9L1hwSI0QsCI"
      },
      "execution_count": null,
      "outputs": []
    },
    {
      "cell_type": "code",
      "source": [
        "from langchain.chains.llm import LLMChain"
      ],
      "metadata": {
        "id": "H5eoeLDvTROo"
      },
      "execution_count": null,
      "outputs": []
    },
    {
      "cell_type": "code",
      "source": [
        "wrapped_chain = LLMChain(\n",
        "    llm=qa_llm,\n",
        "    prompt=qa_prompt,\n",
        "    output_parser=parser,\n",
        "    verbose=False,\n",
        ")"
      ],
      "metadata": {
        "id": "-ROcKRcxS6TL"
      },
      "execution_count": null,
      "outputs": []
    },
    {
      "cell_type": "code",
      "source": [
        "type(wrapped_chain)"
      ],
      "metadata": {
        "id": "r4nlR4JLTozx"
      },
      "execution_count": null,
      "outputs": []
    },
    {
      "cell_type": "code",
      "source": [
        "wrapped_chain == chain"
      ],
      "metadata": {
        "id": "seUes6FPTtO5"
      },
      "execution_count": null,
      "outputs": []
    },
    {
      "cell_type": "code",
      "source": [
        "isinstance(wrapped_chain, Runnable)"
      ],
      "metadata": {
        "id": "8OZfl-zWT1Sy"
      },
      "execution_count": null,
      "outputs": []
    },
    {
      "cell_type": "code",
      "source": [
        "wrapped_chain.input_schema.schema()['properties']"
      ],
      "metadata": {
        "id": "oUKXJvYGVKAG"
      },
      "execution_count": null,
      "outputs": []
    },
    {
      "cell_type": "code",
      "source": [
        "wrapped_chain.output_schema.schema()['properties']"
      ],
      "metadata": {
        "id": "4mERGV0NT723"
      },
      "execution_count": null,
      "outputs": []
    },
    {
      "cell_type": "code",
      "source": [
        "res = wrapped_chain.invoke(prompt_in)"
      ],
      "metadata": {
        "id": "pThACISjVane"
      },
      "execution_count": null,
      "outputs": []
    },
    {
      "cell_type": "code",
      "source": [
        "res"
      ],
      "metadata": {
        "id": "peykkiXXVgZV"
      },
      "execution_count": null,
      "outputs": []
    },
    {
      "cell_type": "markdown",
      "source": [
        "---\n",
        "\n",
        "##### $\\color{orange}{Conclusion}$\n",
        "\n",
        "---\n",
        "\n",
        "So the chains are created with instances of Langchain Runnables, that can be linked together with the pipe operator providing that the preceding module's output matches the current module's input.\n",
        "\n",
        "Whilst a custom chain can be created, there are Langchain chain methods, that do the chaining under the hood, and we specify the modules as arguments to the method.\n",
        "\n",
        "---"
      ],
      "metadata": {
        "id": "kCI7f8TsWSz0"
      }
    },
    {
      "cell_type": "markdown",
      "source": [
        "---\n",
        "\n",
        "### $\\color{red}{Pipe}$\n",
        "\n",
        "---\n",
        "\n",
        "So this is what the __or__ method does, but we are going to override it."
      ],
      "metadata": {
        "id": "W3e4zzHXbjeX"
      }
    },
    {
      "cell_type": "code",
      "source": [
        "n = 2\n",
        "if (1 > n) | (3 > n):\n",
        "  print(\"Greater than 2\")\n",
        "if (1 < n) | (3 < n):\n",
        "  print(\"Less than 2\")"
      ],
      "metadata": {
        "id": "GpcMGVHDXDP6"
      },
      "execution_count": null,
      "outputs": []
    },
    {
      "cell_type": "markdown",
      "source": [
        "**full visibility**\n",
        "\n",
        "Code from [coding crashcourses](https://www.youtube.com/watch?v=LzxSY7197ns)."
      ],
      "metadata": {
        "id": "9mABEGayrcJj"
      }
    },
    {
      "cell_type": "code",
      "source": [
        "# First import ABC and abstractmethod\n",
        "# We will created a class that will be inherited from but never instanciated, an abstract class\n",
        "# The abstract method will be overwritten by the inheriting class\n",
        "\n",
        "from abc import ABC, abstractmethod\n",
        "\n",
        "class Link(ABC):\n",
        "  def __init__(self):\n",
        "    super().__init__()\n",
        "\n",
        "  @abstractmethod\n",
        "  def process(self, data):\n",
        "    \"\"\"\n",
        "    This is defined but only implemented in subclasses\n",
        "    \"\"\"\n",
        "    pass\n",
        "\n",
        "  # return the process method defined by subclass\n",
        "  def invoke(self, data):\n",
        "    print(f'\\nrunning invoke on {type(self)} from {hex(id(self))}')\n",
        "    return self.process(data)\n",
        "\n",
        "  # Here the or method will return an instance of our yet to be defined subclass\n",
        "  def __or__(self, other):\n",
        "    print(f'\\nrequesting a chain Chain with __or__: first = {hex(id(self))} and second = {hex(id(other))}')\n",
        "    return Chain(self, other)\n",
        "\n",
        "\n",
        "\n",
        "\n",
        "class Chain(Link):\n",
        "\n",
        "  # The instantiation will take place with the or operator that will\n",
        "  # instantiate the instance with the objects on either side of the |\n",
        "  def __init__(self, first, second):\n",
        "    super().__init__()\n",
        "    print(f'\\ninstantiating a sequence with {hex(id(first))} and {hex(id(second))}')\n",
        "    print(f'created {hex(id(self))}')\n",
        "    self.first = first\n",
        "    self.second = second\n",
        "\n",
        "  def process(self, data):\n",
        "    print(f'processing to data for sequence at {hex(id(self))}')\n",
        "    return data\n",
        "\n",
        "  def invoke(self, data):\n",
        "    print(f'\\nrunning invoke on {hex(id(self))}')\n",
        "    first_result = self.first.invoke(data)\n",
        "    print(f'\\ngot a first result by calling invoke on {hex(id(self.first))}')\n",
        "    second_result = self.second.invoke(first_result)\n",
        "    print(f'returning a second result by passing to invoke of {hex(id(self.second))}')\n",
        "    return second_result"
      ],
      "metadata": {
        "id": "6SumbIb1zYta"
      },
      "execution_count": null,
      "outputs": []
    },
    {
      "cell_type": "code",
      "source": [
        "class AddTen(Link):\n",
        "  def process(self, data):\n",
        "    print(f'\\ncalling process on {hex(id(self))}')\n",
        "    return data + 10\n",
        "\n",
        "class MultTen(Link):\n",
        "  def process(self, data):\n",
        "    print(f'\\ncalling process on {hex(id(self))}')\n",
        "    return data * 10\n",
        "\n",
        "class ConvertToString(Link):\n",
        "  def process(self, data):\n",
        "    print(f'\\ncalling process on {hex(id(self))}')\n",
        "    return f\"Result: {data}\""
      ],
      "metadata": {
        "id": "ZQc59pgj1wIh"
      },
      "execution_count": null,
      "outputs": []
    },
    {
      "cell_type": "code",
      "source": [
        "a = AddTen()\n",
        "b = MultTen()\n",
        "c = ConvertToString()"
      ],
      "metadata": {
        "id": "bdyzS9KL1zas"
      },
      "execution_count": null,
      "outputs": []
    },
    {
      "cell_type": "code",
      "source": [
        "chain = a | b"
      ],
      "metadata": {
        "id": "wgmKXIU01_Mx"
      },
      "execution_count": null,
      "outputs": []
    },
    {
      "cell_type": "code",
      "source": [
        "print(\"A: \", hex(id(a)))\n",
        "print(\"B: \", hex(id(b)))\n",
        "print(\"Chain: \", hex(id(chain)))"
      ],
      "metadata": {
        "id": "zhD3Wm156Eax"
      },
      "execution_count": null,
      "outputs": []
    },
    {
      "cell_type": "code",
      "source": [
        "chain.invoke(5)"
      ],
      "metadata": {
        "id": "mxwPhU4O2ERc"
      },
      "execution_count": null,
      "outputs": []
    },
    {
      "cell_type": "code",
      "source": [
        "chain = a | b | c"
      ],
      "metadata": {
        "id": "B2f9oLbR6gSR"
      },
      "execution_count": null,
      "outputs": []
    },
    {
      "cell_type": "code",
      "source": [
        "print(\"A: \", hex(id(a)))\n",
        "print(\"B: \", hex(id(b)))\n",
        "print(\"C: \", hex(id(c)))\n",
        "print(\"Chain: \", hex(id(b)))"
      ],
      "metadata": {
        "id": "U02AUCH66jwI"
      },
      "execution_count": null,
      "outputs": []
    },
    {
      "cell_type": "code",
      "source": [
        "chain.invoke(5)"
      ],
      "metadata": {
        "id": "ggT66FC-69Qx"
      },
      "execution_count": null,
      "outputs": []
    },
    {
      "cell_type": "markdown",
      "source": [
        "---\n",
        "\n",
        "### $\\color{red}{Runnables}$\n",
        "\n",
        "---\n",
        "\n",
        "So here we have fundamental methods to bind our chains"
      ],
      "metadata": {
        "id": "DENNI1OW7W1E"
      }
    },
    {
      "cell_type": "code",
      "source": [
        "from langchain_core.runnables import RunnablePassthrough, RunnableLambda, RunnableParallel"
      ],
      "metadata": {
        "id": "03azSmR17nOm"
      },
      "execution_count": null,
      "outputs": []
    },
    {
      "cell_type": "markdown",
      "source": [
        "**Runnables that are usefull**"
      ],
      "metadata": {
        "id": "5V8OoEth8SjT"
      }
    },
    {
      "cell_type": "markdown",
      "source": [
        "---\n",
        "\n",
        "##### $\\color{orange}{Passthrough}$\n",
        "\n",
        "---"
      ],
      "metadata": {
        "id": "XvOEhgnF9LXI"
      }
    },
    {
      "cell_type": "code",
      "source": [
        "a = RunnablePassthrough()"
      ],
      "metadata": {
        "id": "IoMI7U2u8YCt"
      },
      "execution_count": null,
      "outputs": []
    },
    {
      "cell_type": "code",
      "source": [
        "isinstance(a, Runnable)"
      ],
      "metadata": {
        "id": "89zWvgdf8iuO",
        "colab": {
          "base_uri": "https://localhost:8080/"
        },
        "outputId": "f6248e92-e0e4-422a-cf9e-ebf69079d965"
      },
      "execution_count": null,
      "outputs": [
        {
          "output_type": "execute_result",
          "data": {
            "text/plain": [
              "True"
            ]
          },
          "metadata": {},
          "execution_count": 186
        }
      ]
    },
    {
      "cell_type": "code",
      "source": [
        "b = RunnablePassthrough()"
      ],
      "metadata": {
        "id": "-2-Bgq-s8n68"
      },
      "execution_count": null,
      "outputs": []
    },
    {
      "cell_type": "code",
      "source": [
        "chain = a | b"
      ],
      "metadata": {
        "id": "2AHtk1WU8rZ1"
      },
      "execution_count": null,
      "outputs": []
    },
    {
      "cell_type": "code",
      "source": [
        "prompt_in"
      ],
      "metadata": {
        "id": "le9EZ1lZ842D",
        "colab": {
          "base_uri": "https://localhost:8080/"
        },
        "outputId": "6f201e66-bd92-49e4-e6c5-8f969cb591e1"
      },
      "execution_count": null,
      "outputs": [
        {
          "output_type": "execute_result",
          "data": {
            "text/plain": [
              "{'context': \"Contrary to popular belief fish haven't always lived on land. As early as the third millenium they were known to also inhabit the sea\",\n",
              " 'input': \"What do we know of fish's natural habitat?\"}"
            ]
          },
          "metadata": {},
          "execution_count": 189
        }
      ]
    },
    {
      "cell_type": "code",
      "source": [
        "chain.invoke(prompt_in)"
      ],
      "metadata": {
        "id": "S3SqmVT-8vgT",
        "colab": {
          "base_uri": "https://localhost:8080/"
        },
        "outputId": "f5400bcf-9ce9-482c-b84e-fcb07ec7ddc3"
      },
      "execution_count": null,
      "outputs": [
        {
          "output_type": "execute_result",
          "data": {
            "text/plain": [
              "{'context': \"Contrary to popular belief fish haven't always lived on land. As early as the third millenium they were known to also inhabit the sea\",\n",
              " 'input': \"What do we know of fish's natural habitat?\"}"
            ]
          },
          "metadata": {},
          "execution_count": 190
        }
      ]
    },
    {
      "cell_type": "code",
      "source": [
        "chain.invoke(8)"
      ],
      "metadata": {
        "id": "PDeQP9wJ88z4",
        "colab": {
          "base_uri": "https://localhost:8080/"
        },
        "outputId": "938312a5-a0b5-4218-969c-e754bcaed026"
      },
      "execution_count": null,
      "outputs": [
        {
          "output_type": "execute_result",
          "data": {
            "text/plain": [
              "8"
            ]
          },
          "metadata": {},
          "execution_count": 191
        }
      ]
    },
    {
      "cell_type": "code",
      "source": [
        "chain.invoke('Hello')"
      ],
      "metadata": {
        "id": "2C6DRUXk9Fi1",
        "colab": {
          "base_uri": "https://localhost:8080/",
          "height": 35
        },
        "outputId": "74ba23a7-57c3-4fc1-c280-c6a8640728cd"
      },
      "execution_count": null,
      "outputs": [
        {
          "output_type": "execute_result",
          "data": {
            "text/plain": [
              "'Hello'"
            ],
            "application/vnd.google.colaboratory.intrinsic+json": {
              "type": "string"
            }
          },
          "metadata": {},
          "execution_count": 192
        }
      ]
    },
    {
      "cell_type": "markdown",
      "source": [
        "---\n",
        "\n",
        "##### $\\color{orange}{Lambda}$\n",
        "\n",
        "---\n",
        "\n",
        "Specify any function and the runnable lambda will Runnablize it."
      ],
      "metadata": {
        "id": "pn_5Hddi9TIY"
      }
    },
    {
      "cell_type": "code",
      "source": [
        "def add_ten(n):\n",
        "  return n + 10\n",
        "\n",
        "def mult_ten(n):\n",
        "  return n * 10\n",
        "\n",
        "def convert_to_string(n):\n",
        "  return str(n)"
      ],
      "metadata": {
        "id": "tXiywQqm93Mg"
      },
      "execution_count": null,
      "outputs": []
    },
    {
      "cell_type": "code",
      "source": [
        "a = RunnableLambda(add_ten)\n",
        "b = RunnableLambda(mult_ten)\n",
        "c = RunnableLambda(convert_to_string)"
      ],
      "metadata": {
        "id": "Ia8jXAa_9WEi"
      },
      "execution_count": null,
      "outputs": []
    },
    {
      "cell_type": "code",
      "source": [
        "chain = a | b | c"
      ],
      "metadata": {
        "id": "pTJzoSYj-cTR"
      },
      "execution_count": null,
      "outputs": []
    },
    {
      "cell_type": "code",
      "source": [
        "chain.invoke(5)"
      ],
      "metadata": {
        "id": "B2fYJUz6-fli",
        "colab": {
          "base_uri": "https://localhost:8080/",
          "height": 35
        },
        "outputId": "a3fd5d4c-35ea-4d3b-b9bd-546d49c45bfe"
      },
      "execution_count": null,
      "outputs": [
        {
          "output_type": "execute_result",
          "data": {
            "text/plain": [
              "'150'"
            ],
            "application/vnd.google.colaboratory.intrinsic+json": {
              "type": "string"
            }
          },
          "metadata": {},
          "execution_count": 196
        }
      ]
    },
    {
      "cell_type": "markdown",
      "source": [
        "---\n",
        "\n",
        "##### $\\color{orange}{Parallel}$\n",
        "\n",
        "---\n",
        "\n",
        "Process inputs through two paths."
      ],
      "metadata": {
        "id": "1sI393Sx-x27"
      }
    },
    {
      "cell_type": "code",
      "source": [
        "d = RunnablePassthrough()"
      ],
      "metadata": {
        "id": "wIA8mLVS-xC0"
      },
      "execution_count": null,
      "outputs": []
    },
    {
      "cell_type": "code",
      "source": [
        "path_1 = d | b | c"
      ],
      "metadata": {
        "id": "dXO-q3-5_QV0"
      },
      "execution_count": null,
      "outputs": []
    },
    {
      "cell_type": "code",
      "source": [
        "path_2 = a | b | c"
      ],
      "metadata": {
        "id": "4x_FgTaw_Zfo"
      },
      "execution_count": null,
      "outputs": []
    },
    {
      "cell_type": "code",
      "source": [
        "paths = {\n",
        "  \"path_1\" : path_1,\n",
        "  \"path_2\" : path_2\n",
        "}"
      ],
      "metadata": {
        "id": "EOvF2lkx_e8s"
      },
      "execution_count": null,
      "outputs": []
    },
    {
      "cell_type": "code",
      "source": [
        "chain = RunnableParallel(paths)"
      ],
      "metadata": {
        "id": "sqaYt1ko_uNc"
      },
      "execution_count": null,
      "outputs": []
    },
    {
      "cell_type": "code",
      "source": [
        "chain.invoke(5)"
      ],
      "metadata": {
        "id": "zXrxMyrF_wSx",
        "colab": {
          "base_uri": "https://localhost:8080/"
        },
        "outputId": "2ee166d8-80f9-430a-d834-3ff73ce3c0ea"
      },
      "execution_count": null,
      "outputs": [
        {
          "output_type": "execute_result",
          "data": {
            "text/plain": [
              "{'path_1': '50', 'path_2': '150'}"
            ]
          },
          "metadata": {},
          "execution_count": 202
        }
      ]
    },
    {
      "cell_type": "code",
      "source": [
        "path_1 = chain"
      ],
      "metadata": {
        "id": "sv2q8itQCPeT"
      },
      "execution_count": null,
      "outputs": []
    },
    {
      "cell_type": "code",
      "source": [
        "path_2 = a | a"
      ],
      "metadata": {
        "id": "qU5-yG4_CnEt"
      },
      "execution_count": null,
      "outputs": []
    },
    {
      "cell_type": "code",
      "source": [
        "path_3 = d"
      ],
      "metadata": {
        "id": "sBJPBLgaC3U3"
      },
      "execution_count": null,
      "outputs": []
    },
    {
      "cell_type": "code",
      "source": [
        "nested_chain = RunnableParallel(p1 = path_1, p2 = path_2, input = path_3)"
      ],
      "metadata": {
        "id": "cGNZE2JHBaai"
      },
      "execution_count": null,
      "outputs": []
    },
    {
      "cell_type": "code",
      "source": [
        "nested_chain.invoke(5)"
      ],
      "metadata": {
        "id": "HcM7RvDWDDn2",
        "colab": {
          "base_uri": "https://localhost:8080/"
        },
        "outputId": "1cbd229e-2149-423a-97a1-475358580716"
      },
      "execution_count": null,
      "outputs": [
        {
          "output_type": "execute_result",
          "data": {
            "text/plain": [
              "{'p1': {'path_1': '50', 'path_2': '150'}, 'p2': 25, 'input': 5}"
            ]
          },
          "metadata": {},
          "execution_count": 207
        }
      ]
    },
    {
      "cell_type": "markdown",
      "source": [
        "---\n",
        "\n",
        "# $\\color{red}{Example}$\n",
        "\n",
        "---\n",
        "\n",
        "So we'll set up a complicated pipeline with LCEL, then we'll be able to simply run the pipeline, and get results."
      ],
      "metadata": {
        "id": "1j1k6BcODS7-"
      }
    },
    {
      "cell_type": "markdown",
      "source": [
        "---\n",
        "\n",
        "### $\\color{orange}{Task}$\n",
        "\n",
        "---\n",
        "\n",
        "The task is going to be a NER (Named Entity Recognition) annotation of some input text. That means we want the system to identify the Entities in our text. An example of an entity is a Person, so we want the system to exact all the People from the text. We'll be identifying Person, Location, Organization, and Miscellaneous entity types.\n",
        "\n",
        "To do this we'll use some tagging scheme like below:\n",
        "* Input: Brad Pitt comes from the USA.\n",
        "* Output: @@Brad Pitt##Person comes from the @@USA##Location\n",
        "\n",
        "Now (just to complicate the task), we'll assume that sometimes the LLM is more capable of identifying one entity type at a time. So we'll ask it to identify\n",
        "just Person, then just Location etc... then we'll amalgomate these 4 responses then we'll pass those to another model that will also use the initial input to come up with the final answer."
      ],
      "metadata": {
        "id": "dthAtzM91EPH"
      }
    },
    {
      "cell_type": "code",
      "source": [
        "from IPython.display import Image\n",
        "Image(\"RAG_tutorial/pipeline.png\")"
      ],
      "metadata": {
        "id": "HWAF-7zYtSkK",
        "colab": {
          "base_uri": "https://localhost:8080/",
          "height": 644
        },
        "outputId": "098d2bc7-f8f9-49bf-d45d-fe5ba2426e7f"
      },
      "execution_count": null,
      "outputs": [
        {
          "output_type": "execute_result",
          "data": {
            "image/png": "[encoded data removed]",
            "text/plain": [
              "<IPython.core.display.Image object>"
            ]
          },
          "metadata": {},
          "execution_count": 208
        }
      ]
    },
    {
      "cell_type": "markdown",
      "source": [
        "So here we get the text send it through 4 prompts, one for each entity type. These get fed into 4 LLMs, and the responses are passed into another prompt along with the initial input. This amalgamated/ comparisson prompt is fed into another LLM for the final answer. All the intermediate LLM responses are passed forward, so the whole process is logged.\n",
        "\n",
        "So this is a fairly complicated pipeline, that may or may not have benefits in terms of annotating our text. But the goal is that we use LCEL to connect all of these modules, make the call to the chain, and get back everything that we need.\n",
        "\n"
      ],
      "metadata": {
        "id": "6bQFwJOW3dxu"
      }
    },
    {
      "cell_type": "markdown",
      "source": [
        "---\n",
        "\n",
        "### $\\color{orange}{Chain}$\n",
        "\n",
        "---"
      ],
      "metadata": {
        "id": "3OVWbMQv7dB6"
      }
    },
    {
      "cell_type": "markdown",
      "source": [
        "**First let's create a the prompts.**"
      ],
      "metadata": {
        "id": "hsAA-5AaCdFJ"
      }
    },
    {
      "cell_type": "code",
      "source": [
        "sample_input = \"\"\"\n",
        "The star of the Democrats has been rising in recent weeks. Kamala Harris was at the side of Joe Biden for speech in front of the National Rifle Association.\\\n",
        "It is a response to complains made to the UN that American's rights would be infringed on during by suggested on social media.\\\n",
        "Many prominant Republicans including Donald Trump are rubbing there hands in glee, at the thought of the reception the\\\n",
        "democrats will get in front of the NRA, especially after the criticism of the legalization of the AK47 rifle from Washington.\n",
        "\"\"\"\n",
        "print(sample_input)"
      ],
      "metadata": {
        "id": "pKw0_4cZFBpz",
        "colab": {
          "base_uri": "https://localhost:8080/"
        },
        "outputId": "ece3c4c2-9be0-458d-b5d7-6851b8add5ba"
      },
      "execution_count": null,
      "outputs": [
        {
          "output_type": "stream",
          "name": "stdout",
          "text": [
            "\n",
            "The star of the Democrats has been rising in recent weeks. Kamala Harris was at the side of Joe Biden for speech in front of the National Rifle Association.It is a response to complains made to the UN that American's rights would be infringed on during by suggested on social media.Many prominant Republicans including Donald Trump are rubbing there hands in glee, at the thought of the reception thedemocrats will get in front of the NRA, especially after the criticism of the legalization of the AK47 rifle from Washington.\n",
            "\n"
          ]
        }
      ]
    },
    {
      "cell_type": "code",
      "source": [
        "person_template = \"\"\"Your task is to identify the Person entities in a given input text. You should output the response in the format suggested below:\\n\n",
        "### Example\n",
        "input: The Scientological Society is headed by Tom Cruise. The actor from the USA was in attendance at the baseball World Series over the weekend.\n",
        "output: The Scientological Society is headed by @@Tom Cruise##Person. The actor from the USA was in attendance at the baseball World Series over the weekend.\n",
        "\n",
        "### Task\n",
        "input: {input}\n",
        "output:\n",
        "\"\"\"\n",
        "\n",
        "person_prompt = ChatPromptTemplate.from_template(person_template)"
      ],
      "metadata": {
        "id": "Hd1KPgOp7fk1"
      },
      "execution_count": null,
      "outputs": []
    },
    {
      "cell_type": "code",
      "source": [
        "location_template = \"\"\"Your task is to identify the Location entities in a given input text. You should output the response in the format suggested below:\\n\n",
        "### Example\n",
        "input: The Scientological Society is headed by Tom Cruise. The actor from the USA was in attendance at the baseball World Series over the weekend.\n",
        "output: The Scientological Society is headed by Tom Cruise. The actor from the @@USA##Location was in attendance at the baseball World Series over the weekend.\n",
        "\n",
        "### Task\n",
        "input: {input}\n",
        "output:\n",
        "\"\"\"\n",
        "\n",
        "location_prompt = ChatPromptTemplate.from_template(location_template)"
      ],
      "metadata": {
        "id": "6XZrybFHEkEh"
      },
      "execution_count": null,
      "outputs": []
    },
    {
      "cell_type": "code",
      "source": [
        "organization_template = \"\"\"Your task is to identify the Organization entities in a given input text. You should output the response in the format suggested below:\\n\n",
        "### Example\n",
        "input: The Scientological Society is headed by Tom Cruise. The actor from the USA was in attendance at the baseball World Series over the weekend.\n",
        "output: The @@Scientological Society##Organization is headed by Tom Cruise. The actor from the USA was in attendance at the baseball World Series over the weekend.\n",
        "\n",
        "### Task\n",
        "input: {input}\n",
        "output:\n",
        "\"\"\"\n",
        "\n",
        "organization_prompt = ChatPromptTemplate.from_template(organization_template)"
      ],
      "metadata": {
        "id": "nlt9MeIIHX1U"
      },
      "execution_count": null,
      "outputs": []
    },
    {
      "cell_type": "code",
      "source": [
        "miscellaneous_template = \"\"\"Your task is to identify the Miscellaneous entities in a given input text. A miscellaneous entity is any entity that is not an example of\\\n",
        "Person, Location, or Organization entity types. You should output the response in the format suggested below:\\n\n",
        "### Example\n",
        "input: The Scientological Society is headed by Tom Cruise. The actor from the USA was in attendance at the baseball World Series over the weekend.\n",
        "output: The Scientological Society is headed by Tom Cruise. The actor from the USA was in attendance at the baseball @@World Series##Miscellaneous over the weekend.\n",
        "\n",
        "### Task\n",
        "input: {input}\n",
        "output:\n",
        "\"\"\"\n",
        "\n",
        "miscellaneous_prompt = ChatPromptTemplate.from_template(miscellaneous_template)"
      ],
      "metadata": {
        "id": "ET2BESPQIANx"
      },
      "execution_count": null,
      "outputs": []
    },
    {
      "cell_type": "markdown",
      "source": [
        "**Lets make 4 indvidual llm chains**"
      ],
      "metadata": {
        "id": "5HbaM--gJFRo"
      }
    },
    {
      "cell_type": "code",
      "source": [
        "person_llm = ChatOpenAI(model=\"gpt-3.5-turbo\", temperature = 0)\n",
        "organization_llm = ChatOpenAI(model=\"gpt-3.5-turbo\", temperature = 0)\n",
        "location_llm = ChatOpenAI(model=\"gpt-3.5-turbo\", temperature = 0)\n",
        "miscellaneous_llm = ChatOpenAI(model=\"gpt-3.5-turbo\", temperature = 0)"
      ],
      "metadata": {
        "id": "_i2nc87QJEN5"
      },
      "execution_count": null,
      "outputs": []
    },
    {
      "cell_type": "code",
      "source": [
        "from langchain_core.messages import AIMessage"
      ],
      "metadata": {
        "id": "NaSv8LegKhnk"
      },
      "execution_count": null,
      "outputs": []
    },
    {
      "cell_type": "code",
      "source": [
        "def parser_fn(ai_message : AIMessage):\n",
        "  return ai_message.content"
      ],
      "metadata": {
        "id": "WmjuOiA1Kr1g"
      },
      "execution_count": null,
      "outputs": []
    },
    {
      "cell_type": "code",
      "source": [
        "parser = RunnableLambda(parser_fn)"
      ],
      "metadata": {
        "id": "aeatZAjGK1Rh"
      },
      "execution_count": null,
      "outputs": []
    },
    {
      "cell_type": "code",
      "source": [
        "person_chain = person_prompt | person_llm | parser\n",
        "location_chain = location_prompt | location_llm | parser\n",
        "organization_chain = organization_prompt | organization_llm | parser\n",
        "miscellaneous_chain = miscellaneous_prompt | miscellaneous_llm | parser"
      ],
      "metadata": {
        "id": "x7delQkJK8j6"
      },
      "execution_count": null,
      "outputs": []
    },
    {
      "cell_type": "code",
      "source": [
        "person_response = person_chain.invoke(input=sample_input)"
      ],
      "metadata": {
        "id": "vCmoTGPBMXph"
      },
      "execution_count": null,
      "outputs": []
    },
    {
      "cell_type": "code",
      "source": [
        "print(person_response)"
      ],
      "metadata": {
        "id": "Rh-NynHKMk3x",
        "colab": {
          "base_uri": "https://localhost:8080/"
        },
        "outputId": "f273eae8-4bc9-43c0-9ae6-f1fd9045fee7"
      },
      "execution_count": null,
      "outputs": [
        {
          "output_type": "stream",
          "name": "stdout",
          "text": [
            "The star of the Democrats has been rising in recent weeks. @@Kamala Harris##Person was at the side of @@Joe Biden##Person for speech in front of the National Rifle Association. It is a response to complains made to the UN that American's rights would be infringed on during by suggested on social media. Many prominant Republicans including @@Donald Trump##Person are rubbing there hands in glee, at the thought of the reception the Democrats will get in front of the NRA, especially after the criticism of the legalization of the AK47 rifle from Washington.\n"
          ]
        }
      ]
    },
    {
      "cell_type": "markdown",
      "source": [
        "**That seems to be in order, let'sl put them in a parellel with the RunnablePassthrough**"
      ],
      "metadata": {
        "id": "HgUKTtKOM3hq"
      }
    },
    {
      "cell_type": "code",
      "source": [
        "input_chain = RunnableParallel(\n",
        "    person_chain = person_chain,\n",
        "    location_chain = location_chain,\n",
        "    organization_chain = organization_chain,\n",
        "    miscellaneous_chain = miscellaneous_chain,\n",
        "    input = RunnablePassthrough(),\n",
        ")"
      ],
      "metadata": {
        "id": "puvXE-rzNO3w"
      },
      "execution_count": null,
      "outputs": []
    },
    {
      "cell_type": "code",
      "source": [
        "response = input_chain.invoke(input=sample_input)"
      ],
      "metadata": {
        "id": "hhGEvflxOg5q"
      },
      "execution_count": null,
      "outputs": []
    },
    {
      "cell_type": "code",
      "source": [
        "response"
      ],
      "metadata": {
        "id": "rpTphlXdOo_i",
        "colab": {
          "base_uri": "https://localhost:8080/"
        },
        "outputId": "8c8b703c-5607-4df4-f72c-39f1a0de75e2"
      },
      "execution_count": null,
      "outputs": [
        {
          "output_type": "execute_result",
          "data": {
            "text/plain": [
              "{'person_chain': \"The star of the Democrats has been rising in recent weeks. @@Kamala Harris##Person was at the side of @@Joe Biden##Person for speech in front of the National Rifle Association. It is a response to complains made to the UN that American's rights would be infringed on during by suggested on social media. Many prominant Republicans including @@Donald Trump##Person are rubbing there hands in glee, at the thought of the reception the Democrats will get in front of the NRA, especially after the criticism of the legalization of the AK47 rifle from Washington.\",\n",
              " 'location_chain': \"The star of the Democrats has been rising in recent weeks. Kamala Harris was at the side of Joe Biden for speech in front of the @@National Rifle Association##Location. It is a response to complains made to the @@UN##Location that American's rights would be infringed on during by suggested on social media. Many prominant Republicans including Donald Trump are rubbing there hands in glee, at the thought of the reception the Democrats will get in front of the NRA, especially after the criticism of the legalization of the AK47 rifle from @@Washington##Location.\",\n",
              " 'organization_chain': \"The star of the @@Democrats##Organization has been rising in recent weeks. Kamala Harris was at the side of Joe Biden for speech in front of the @@National Rifle Association##Organization. It is a response to complains made to the UN that American's rights would be infringed on during by suggested on social media. Many prominant Republicans including @@Donald Trump##Organization are rubbing there hands in glee, at the thought of the reception the @@Democrats##Organization will get in front of the @@NRA##Organization, especially after the criticism of the legalization of the AK47 rifle from Washington.\",\n",
              " 'miscellaneous_chain': \"The star of the Democrats has been rising in recent weeks. Kamala Harris was at the side of Joe Biden for speech in front of the National Rifle Association. It is a response to complains made to the UN that American's rights would be infringed on during by suggested on social media. Many prominent Republicans including Donald Trump are rubbing their hands in glee, at the thought of the reception the Democrats will get in front of the NRA, especially after the criticism of the legalization of the AK47 rifle from Washington.@@National Rifle Association##Miscellaneous@@UN##Miscellaneous@@AK47##Miscellaneous\",\n",
              " 'input': \"\\nThe star of the Democrats has been rising in recent weeks. Kamala Harris was at the side of Joe Biden for speech in front of the National Rifle Association.It is a response to complains made to the UN that American's rights would be infringed on during by suggested on social media.Many prominant Republicans including Donald Trump are rubbing there hands in glee, at the thought of the reception thedemocrats will get in front of the NRA, especially after the criticism of the legalization of the AK47 rifle from Washington.\\n\"}"
            ]
          },
          "metadata": {},
          "execution_count": 219
        }
      ]
    },
    {
      "cell_type": "markdown",
      "source": [
        "**Now we will implement two multipath chain that takes from this response.**\n",
        "\n",
        "**Lets deal with the logging**"
      ],
      "metadata": {
        "id": "nSMifWksPH-I"
      }
    },
    {
      "cell_type": "code",
      "source": [
        "import re\n",
        "def parse_logs(response_dict: dict) -> dict:\n",
        "\n",
        "  person_pattern = r'@@(.*?)##Person'\n",
        "  location_pattern = r'@@(.*?)##Location'\n",
        "  organization_pattern = r'@@(.*?)##Organization'\n",
        "  miscellaneous_pattern = r'@@(.*?)##Miscellaneous'\n",
        "\n",
        "  D = dict()\n",
        "  D['person'] = re.findall(person_pattern, response_dict['person_chain'])\n",
        "  D['location'] = re.findall(location_pattern, response_dict['location_chain'])\n",
        "  D['organization'] = re.findall(organization_pattern, response_dict['organization_chain'])\n",
        "  D['miscellaneous'] = re.findall(miscellaneous_pattern, response_dict['miscellaneous_chain'])\n",
        "\n",
        "  return D"
      ],
      "metadata": {
        "id": "DxwvC4XSuBrB"
      },
      "execution_count": null,
      "outputs": []
    },
    {
      "cell_type": "code",
      "source": [
        "parse_logs = RunnableLambda(parse_logs)"
      ],
      "metadata": {
        "id": "CUq9rvw4vINR"
      },
      "execution_count": null,
      "outputs": []
    },
    {
      "cell_type": "code",
      "source": [
        "parse_logs.invoke(response)"
      ],
      "metadata": {
        "id": "WCd8EAyAgtWM",
        "colab": {
          "base_uri": "https://localhost:8080/"
        },
        "outputId": "c933c30e-d7bb-4381-a340-93bf9e8a358f"
      },
      "execution_count": null,
      "outputs": [
        {
          "output_type": "execute_result",
          "data": {
            "text/plain": [
              "{'person': ['Kamala Harris', 'Joe Biden', 'Donald Trump'],\n",
              " 'location': ['National Rifle Association', 'UN', 'Washington'],\n",
              " 'organization': ['Democrats',\n",
              "  'National Rifle Association',\n",
              "  'Donald Trump',\n",
              "  'Democrats',\n",
              "  'NRA'],\n",
              " 'miscellaneous': ['National Rifle Association', 'UN', 'AK47']}"
            ]
          },
          "metadata": {},
          "execution_count": 222
        }
      ]
    },
    {
      "cell_type": "markdown",
      "source": [
        "**Let's do the format for the final prompt**"
      ],
      "metadata": {
        "id": "_-WJJDMby_aq"
      }
    },
    {
      "cell_type": "code",
      "source": [
        "def format_input(response_dict: dict):\n",
        "  res = f\"\"\"input: {response_dict['input']}.\n",
        "  Person attempt: {response_dict['person_chain']}.\\n\n",
        "  Location attempt: {response_dict['location_chain']}.\\n\n",
        "  Organization attempt: {response_dict['organization_chain']}.\\n\n",
        "  Miscellaneous attempt: {response_dict['miscellaneous_chain']}.\\n\n",
        "  \"\"\"\n",
        "  return res"
      ],
      "metadata": {
        "id": "QeZ_8_v6jFpM"
      },
      "execution_count": null,
      "outputs": []
    },
    {
      "cell_type": "code",
      "source": [
        "format = RunnableLambda(format_input)"
      ],
      "metadata": {
        "id": "jQ7Mk451lsTk"
      },
      "execution_count": null,
      "outputs": []
    },
    {
      "cell_type": "code",
      "source": [
        "comparison_template = \"\"\"Your task is to identify the Person, Location, Organization, and Miscellaneous entities in a given input text.\\\n",
        "You will be given the following information:\\n\\n\n",
        "\n",
        "* The original input text.\\n\n",
        "* A version of the input text wherea an attempt has been made to identify Person entities.\\n\n",
        "* A version of the input text where an attempt has been made to identify Location entities.\\n\n",
        "* A version of the input text where an attempt has been made to identify Organization entities.\\n\n",
        "* A version of the input text where an attempt has been made to identify Miscellaneous entities.\\n\n",
        "\n",
        "You should use your judgement in creating the final 'Correct output' checking the attempts to see if they are correct, and ensuring that the output comforms to the format in the following example.\\n\n",
        "### Example\n",
        "Input: The Scientological Society is headed by Tom Cruise. The actor from the USA was in attendance at the baseball World Series over the weekend.\\n\n",
        "Person attempt: The Scientological Society is headed by @@Tom Cruise##Person. The actor from the USA was in attendance at the baseball World Series over the weekend.\\n\n",
        "Location attempt: The Scientological Society is headed by Tom Cruise. The actor from the @@USA##Location was in attendance at the baseball World Series over the weekend.\\n\n",
        "Organization attempt: The @@Scientological Society##Organization is headed by Tom Cruise. The actor from the USA was in attendance at the baseball World Series over the weekend.\\n\n",
        "Miscellaneous attempt: The Scientological Society is headed by Tom Cruise. The actor from the USA was in attendance at the baseball @@World Series##Miscellaneous over the weekend.\\n\n",
        "Correct output: The @@Scientological Society##Organization is headed by @@Tom Cruise##Person. The actor from the @@USA##Location was in attendance at the baseball @@World Series##Miscellaneous over the weekend.\\n\\n\n",
        "\n",
        "###Task\n",
        "{input}\n",
        "Correct output:\n",
        "\"\"\"\n",
        "\n",
        "comparison_prompt = ChatPromptTemplate.from_template(comparison_template)"
      ],
      "metadata": {
        "id": "VosIPNteROyz"
      },
      "execution_count": null,
      "outputs": []
    },
    {
      "cell_type": "code",
      "source": [
        "llm_comparison = ChatOpenAI(model='gpt-3.5-turbo', temperature=0)"
      ],
      "metadata": {
        "id": "dt5GoUUZqegK"
      },
      "execution_count": null,
      "outputs": []
    },
    {
      "cell_type": "markdown",
      "source": [
        "**a final parse**"
      ],
      "metadata": {
        "id": "FSe5PQxOz1is"
      }
    },
    {
      "cell_type": "code",
      "source": [
        "def parse_final(string: str) -> dict:\n",
        "\n",
        "  person_pattern = r'@@([a-zA-Z\\s]*)##Person'\n",
        "  location_pattern = r'@@([a-zA-Z\\s]*)##Location'\n",
        "  organization_pattern = r'@@([a-zA-Z\\s]*)##Organization'\n",
        "  miscellaneous_pattern = r'@@([a-zA-Z\\s]*)##Miscellaneous'\n",
        "\n",
        "  D = dict()\n",
        "  D['person'] = re.findall(person_pattern, string)\n",
        "  D['location'] = re.findall(location_pattern, string)\n",
        "  D['organization'] = re.findall(organization_pattern, string)\n",
        "  D['miscellaneous'] = re.findall(miscellaneous_pattern, string)\n",
        "\n",
        "  return D"
      ],
      "metadata": {
        "id": "bpqFqJxuz47x"
      },
      "execution_count": null,
      "outputs": []
    },
    {
      "cell_type": "code",
      "source": [
        "parse_final = RunnableLambda(parse_final)"
      ],
      "metadata": {
        "id": "jUyiDdEt0P36"
      },
      "execution_count": null,
      "outputs": []
    },
    {
      "cell_type": "markdown",
      "source": [
        "**Now the response chain**"
      ],
      "metadata": {
        "id": "GuJyLe6Lzduz"
      }
    },
    {
      "cell_type": "code",
      "source": [
        "response_chain = RunnableParallel(logger= parse_logs, response =  format | comparison_prompt | llm_comparison | parser | parse_final)"
      ],
      "metadata": {
        "id": "CppU708vmTW6"
      },
      "execution_count": null,
      "outputs": []
    },
    {
      "cell_type": "markdown",
      "source": [
        "**Now we can link the two ends of the chain**"
      ],
      "metadata": {
        "id": "QFzf0qKa3rJQ"
      }
    },
    {
      "cell_type": "code",
      "source": [
        "chain = input_chain | response_chain"
      ],
      "metadata": {
        "id": "0rVSXqWY3qYk"
      },
      "execution_count": null,
      "outputs": []
    },
    {
      "cell_type": "code",
      "source": [
        "final_response = chain.invoke(input=sample_input)"
      ],
      "metadata": {
        "id": "qvnItN7t34Dm"
      },
      "execution_count": null,
      "outputs": []
    },
    {
      "cell_type": "code",
      "source": [
        "final_response.keys()"
      ],
      "metadata": {
        "id": "4UiMvU_t4Cxd",
        "colab": {
          "base_uri": "https://localhost:8080/"
        },
        "outputId": "18636727-90c8-4ba8-b8ac-f3b5ad012625"
      },
      "execution_count": null,
      "outputs": [
        {
          "output_type": "execute_result",
          "data": {
            "text/plain": [
              "dict_keys(['logger', 'response'])"
            ]
          },
          "metadata": {},
          "execution_count": 231
        }
      ]
    },
    {
      "cell_type": "code",
      "source": [
        "final_response['logger']"
      ],
      "metadata": {
        "id": "mpAHpjr44G3M",
        "colab": {
          "base_uri": "https://localhost:8080/"
        },
        "outputId": "3d9022ae-b577-4e5d-bef4-cb43ee56f035"
      },
      "execution_count": null,
      "outputs": [
        {
          "output_type": "execute_result",
          "data": {
            "text/plain": [
              "{'person': ['Kamala Harris', 'Joe Biden', 'Donald Trump'],\n",
              " 'location': ['National Rifle Association', 'UN', 'NRA', 'Washington'],\n",
              " 'organization': ['Democrats',\n",
              "  'National Rifle Association',\n",
              "  'UN',\n",
              "  'Republicans',\n",
              "  'Democrats',\n",
              "  'NRA'],\n",
              " 'miscellaneous': ['National Rifle Association', 'UN', 'AK47']}"
            ]
          },
          "metadata": {},
          "execution_count": 232
        }
      ]
    },
    {
      "cell_type": "code",
      "source": [
        "final_response['response']"
      ],
      "metadata": {
        "id": "WR6iyaKa4NL4",
        "colab": {
          "base_uri": "https://localhost:8080/"
        },
        "outputId": "2e771010-392e-4cef-c011-18828ea9d52c"
      },
      "execution_count": null,
      "outputs": [
        {
          "output_type": "execute_result",
          "data": {
            "text/plain": [
              "{'person': ['Kamala Harris', 'Joe Biden', 'Donald Trump'],\n",
              " 'location': ['Washington'],\n",
              " 'organization': ['Democrats',\n",
              "  'National Rifle Association',\n",
              "  'UN',\n",
              "  'Republicans',\n",
              "  'Democrats',\n",
              "  'NRA'],\n",
              " 'miscellaneous': []}"
            ]
          },
          "metadata": {},
          "execution_count": 233
        }
      ]
    },
    {
      "cell_type": "code",
      "source": [
        "straight_template = \"\"\"Your task is to identify the Person, Location, Organization, and Miscellaneous entities in a given input text.\\\n",
        "Conform to the format in the following example:\\n\\n\n",
        "\n",
        "### Example\n",
        "Input: The Scientological Society is headed by Tom Cruise. The actor from the USA was in attendance at the baseball World Series over the weekend.\\n\n",
        "Output: The @@Scientological Society##Organization is headed by @@Tom Cruise##Person. The actor from the @@USA##Location was in attendance at the baseball @@World Series##Miscellaneous over the weekend.\\n\\n\n",
        "\n",
        "###Task\n",
        "Input: {input}\\n\n",
        "Output:\n",
        "\"\"\"\n",
        "\n",
        "straight_prompt = ChatPromptTemplate.from_template(comparison_template)"
      ],
      "metadata": {
        "id": "GSaKdVI64cy7"
      },
      "execution_count": null,
      "outputs": []
    },
    {
      "cell_type": "code",
      "source": [
        "llm = ChatOpenAI(model='gpt-3.5-turbo', temperature=0)"
      ],
      "metadata": {
        "id": "oV1nvjNW5HU6"
      },
      "execution_count": null,
      "outputs": []
    },
    {
      "cell_type": "code",
      "source": [
        "straight_chain = straight_prompt | llm | parser | parse_final"
      ],
      "metadata": {
        "id": "xNieL2YT5KzZ"
      },
      "execution_count": null,
      "outputs": []
    },
    {
      "cell_type": "code",
      "source": [
        "straight_chain.invoke(sample_input)"
      ],
      "metadata": {
        "id": "lOg1F9A85bxx"
      },
      "execution_count": null,
      "outputs": []
    },
    {
      "cell_type": "markdown",
      "source": [
        "---\n",
        "\n",
        "### $\\color{orange}{Conclusion}$\n",
        "\n",
        "---\n",
        "\n",
        "**Apart from defining functions and prompts. We have implemented the pipeleine with the following code.**"
      ],
      "metadata": {
        "id": "KbIQVZu16wRQ"
      }
    },
    {
      "cell_type": "code",
      "source": [
        "from IPython.display import Image\n",
        "Image(\"RAG_tutorial/pipeline.png\")"
      ],
      "metadata": {
        "colab": {
          "base_uri": "https://localhost:8080/",
          "height": 644
        },
        "id": "9MIrCc0r7c1b",
        "outputId": "617fb63a-d602-4903-c936-84cb0f7316ac"
      },
      "execution_count": null,
      "outputs": [
        {
          "output_type": "execute_result",
          "data": {
            "image/png": "[encoded data removed]",
            "text/plain": [
              "<IPython.core.display.Image object>"
            ]
          },
          "metadata": {},
          "execution_count": 234
        }
      ]
    },
    {
      "cell_type": "code",
      "source": [
        "# person_chain = person_prompt | person_llm | parser\n",
        "# location_chain = location_prompt | location_llm | parser\n",
        "# organization_chain = organization_prompt | organization_llm | parser\n",
        "# miscellaneous_chain = miscellaneous_prompt | miscellaneous_llm | parser\n",
        "\n",
        "# input_chain = RunnableParallel(\n",
        "#     person_chain = person_chain,\n",
        "#     location_chain = location_chain,\n",
        "#     organization_chain = organization_chain,\n",
        "#     miscellaneous_chain = miscellaneous_chain,\n",
        "#     input = RunnablePassthrough(),\n",
        "# )\n",
        "\n",
        "# response_chain = RunnableParallel(logger= parse_logs, response =  format | comparison_prompt | llm_comparison | parser | parse_final)\n",
        "\n",
        "# chain = input_chain | response_chain\n",
        "\n",
        "# chain.invoke(input=input)\n"
      ],
      "metadata": {
        "id": "t-WLjkC27IZd"
      },
      "execution_count": null,
      "outputs": []
    }
  ]
}