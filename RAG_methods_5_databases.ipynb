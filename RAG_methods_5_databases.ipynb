{
  "nbformat": 4,
  "nbformat_minor": 0,
  "metadata": {
    "colab": {
      "provenance": [],
      "toc_visible": true
    },
    "kernelspec": {
      "name": "python3",
      "display_name": "Python 3"
    },
    "language_info": {
      "name": "python"
    }
  },
  "cells": [
    {
      "cell_type": "markdown",
      "source": [
        "# RAG DB\n",
        "\n",
        "---\n",
        "\n",
        "This is a demonstation notebook showing how to create the a LLM agent that will interact with a Database. With a URI it is possible to connect to practically all SQL databases. Here we simply work with pythons SQLite3, where we load a database from CSV > Pandas > SQlite.\n",
        "\n",
        "It is worth noting that getting basic functionality from Langchain is a formality, but the chain is quite complex. Ideally our final system with have lots of failsafe's and will dictate which tools and types of queries we want the LLM to use. It is here that I have encountered problems implementing more advanced functionality, and the final system did not act as required. No doubt workarounds can be found, but it feels like this Langchain functionality is still WIP.\n",
        "\n",
        "---"
      ],
      "metadata": {
        "id": "pjrpFdHC8FTx"
      }
    },
    {
      "cell_type": "markdown",
      "source": [
        "## $\\color{blue}{Sections:}$\n",
        "* Admin\n",
        "* Data\n",
        "* Tests"
      ],
      "metadata": {
        "id": "aDBIln3S8YW0"
      }
    },
    {
      "cell_type": "markdown",
      "source": [
        "---\n",
        "## $\\color{blue}{Admin}$\n",
        "---"
      ],
      "metadata": {
        "id": "wKjd0mBQ8gsb"
      }
    },
    {
      "cell_type": "code",
      "source": [
        "%%capture\n",
        "pip install langchain-openai"
      ],
      "metadata": {
        "id": "Gz1G7jFrJ-qs"
      },
      "execution_count": null,
      "outputs": []
    },
    {
      "cell_type": "code",
      "source": [
        "%%capture\n",
        "!pip install langchain"
      ],
      "metadata": {
        "id": "GBZo3HDso-lL"
      },
      "execution_count": null,
      "outputs": []
    },
    {
      "cell_type": "code",
      "source": [
        "from langchain.agents import create_sql_agent\n",
        "from langchain.agents.agent_toolkits import SQLDatabaseToolkit\n",
        "from langchain.sql_database import SQLDatabase\n",
        "from langchain.llms.openai import OpenAI\n",
        "from langchain.agents import AgentExecutor\n",
        "from langchain.agents.agent_types import AgentType\n",
        "from langchain_openai import ChatOpenAI\n",
        "\n",
        "from google.colab import drive\n",
        "import sqlite3\n",
        "import pandas as pd\n",
        "import os"
      ],
      "metadata": {
        "id": "zhiOTcJqHjK6"
      },
      "execution_count": null,
      "outputs": []
    },
    {
      "cell_type": "code",
      "source": [
        "drive.mount(\"/content/drive\")\n",
        "%cd '/content/drive/MyDrive'"
      ],
      "metadata": {
        "colab": {
          "base_uri": "https://localhost:8080/"
        },
        "id": "rcvQVsVYHXb6",
        "outputId": "a33628bc-f801-4ebf-aeb6-00c05e016a26"
      },
      "execution_count": null,
      "outputs": [
        {
          "output_type": "stream",
          "name": "stdout",
          "text": [
            "Mounted at /content/drive\n",
            "/content/drive/MyDrive\n"
          ]
        }
      ]
    },
    {
      "cell_type": "markdown",
      "source": [
        "---\n",
        "## $\\color{blue}{Data}$\n",
        "---\n",
        "For the purposes of demonstration, we load a CSV into pandas DataFrame.\n",
        "The DataFrame is used to create a database with SQLite. This database is then wrapped by the Langchain wrapper.\n",
        "\n",
        "The Langchain wrapper builds from a URI. In theory we can connect to any database with the URI."
      ],
      "metadata": {
        "id": "El2WJky48kJj"
      }
    },
    {
      "cell_type": "markdown",
      "source": [
        "---\n",
        "#### $\\color{red}{DataFrame}$\n",
        "---\n",
        "\n",
        "The data is an extended version of the classic Titanic dataset. There may be some ambiguity in the column names, eg. Sibsp refers to the siblings and spouses. This is the type of information the may confuse the LLM, and there may be some work to do to make the LLM understand the data."
      ],
      "metadata": {
        "id": "8VE3DAF88sUj"
      }
    },
    {
      "cell_type": "code",
      "source": [
        "df = pd.read_csv('RAG_tutorial/Data/full.csv')"
      ],
      "metadata": {
        "id": "t5TJxzkoyInq"
      },
      "execution_count": null,
      "outputs": []
    },
    {
      "cell_type": "code",
      "source": [
        "df.columns"
      ],
      "metadata": {
        "colab": {
          "base_uri": "https://localhost:8080/"
        },
        "id": "kDSOUly69hEN",
        "outputId": "8e810c6a-c5f3-4515-cf44-c5e4ba5fc580"
      },
      "execution_count": null,
      "outputs": [
        {
          "output_type": "execute_result",
          "data": {
            "text/plain": [
              "Index(['PassengerId', 'Survived', 'Pclass', 'Name', 'Sex', 'Age', 'SibSp',\n",
              "       'Parch', 'Ticket', 'Fare', 'Cabin', 'Embarked', 'WikiId', 'Name_wiki',\n",
              "       'Age_wiki', 'Hometown', 'Boarded', 'Destination', 'Lifeboat', 'Body',\n",
              "       'Class'],\n",
              "      dtype='object')"
            ]
          },
          "metadata": {},
          "execution_count": 6
        }
      ]
    },
    {
      "cell_type": "code",
      "source": [
        "df.head()"
      ],
      "metadata": {
        "colab": {
          "base_uri": "https://localhost:8080/",
          "height": 340
        },
        "id": "zCfRyFQoyt1v",
        "outputId": "97ae977b-dbff-4a31-9d19-0bcbbf697b21"
      },
      "execution_count": null,
      "outputs": [
        {
          "output_type": "execute_result",
          "data": {
            "text/plain": [
              "   PassengerId  Survived  Pclass  \\\n",
              "0            1       0.0       3   \n",
              "1            2       1.0       1   \n",
              "2            3       1.0       3   \n",
              "3            4       1.0       1   \n",
              "4            5       0.0       3   \n",
              "\n",
              "                                                Name     Sex   Age  SibSp  \\\n",
              "0                            Braund, Mr. Owen Harris    male  22.0      1   \n",
              "1  Cumings, Mrs. John Bradley (Florence Briggs Th...  female  38.0      1   \n",
              "2                             Heikkinen, Miss. Laina  female  26.0      0   \n",
              "3       Futrelle, Mrs. Jacques Heath (Lily May Peel)  female  35.0      1   \n",
              "4                           Allen, Mr. William Henry    male  35.0      0   \n",
              "\n",
              "   Parch            Ticket     Fare  ... Embarked WikiId  \\\n",
              "0      0         A/5 21171   7.2500  ...        S  691.0   \n",
              "1      0          PC 17599  71.2833  ...        C   90.0   \n",
              "2      0  STON/O2. 3101282   7.9250  ...        S  865.0   \n",
              "3      0            113803  53.1000  ...        S  127.0   \n",
              "4      0            373450   8.0500  ...        S  627.0   \n",
              "\n",
              "                                    Name_wiki Age_wiki  \\\n",
              "0                     Braund, Mr. Owen Harris     22.0   \n",
              "1  Cumings, Mrs. Florence Briggs (née Thayer)     35.0   \n",
              "2                       Heikkinen, Miss Laina     26.0   \n",
              "3          Futrelle, Mrs. Lily May (née Peel)     35.0   \n",
              "4                    Allen, Mr. William Henry     35.0   \n",
              "\n",
              "                             Hometown      Boarded  \\\n",
              "0          Bridgerule, Devon, England  Southampton   \n",
              "1              New York, New York, US    Cherbourg   \n",
              "2                  Jyväskylä, Finland  Southampton   \n",
              "3         Scituate, Massachusetts, US  Southampton   \n",
              "4  Birmingham, West Midlands, England  Southampton   \n",
              "\n",
              "                               Destination Lifeboat Body Class  \n",
              "0  Qu'Appelle Valley, Saskatchewan, Canada      NaN  NaN   3.0  \n",
              "1                   New York, New York, US        4  NaN   1.0  \n",
              "2                            New York City      14?  NaN   3.0  \n",
              "3              Scituate, Massachusetts, US        D  NaN   1.0  \n",
              "4                            New York City      NaN  NaN   3.0  \n",
              "\n",
              "[5 rows x 21 columns]"
            ],
            "text/html": [
              "\n",
              "  <div id=\"df-d79eb1c4-dae9-4935-a271-eee0366a413f\" class=\"colab-df-container\">\n",
              "    <div>\n",
              "<style scoped>\n",
              "    .dataframe tbody tr th:only-of-type {\n",
              "        vertical-align: middle;\n",
              "    }\n",
              "\n",
              "    .dataframe tbody tr th {\n",
              "        vertical-align: top;\n",
              "    }\n",
              "\n",
              "    .dataframe thead th {\n",
              "        text-align: right;\n",
              "    }\n",
              "</style>\n",
              "<table border=\"1\" class=\"dataframe\">\n",
              "  <thead>\n",
              "    <tr style=\"text-align: right;\">\n",
              "      <th></th>\n",
              "      <th>PassengerId</th>\n",
              "      <th>Survived</th>\n",
              "      <th>Pclass</th>\n",
              "      <th>Name</th>\n",
              "      <th>Sex</th>\n",
              "      <th>Age</th>\n",
              "      <th>SibSp</th>\n",
              "      <th>Parch</th>\n",
              "      <th>Ticket</th>\n",
              "      <th>Fare</th>\n",
              "      <th>...</th>\n",
              "      <th>Embarked</th>\n",
              "      <th>WikiId</th>\n",
              "      <th>Name_wiki</th>\n",
              "      <th>Age_wiki</th>\n",
              "      <th>Hometown</th>\n",
              "      <th>Boarded</th>\n",
              "      <th>Destination</th>\n",
              "      <th>Lifeboat</th>\n",
              "      <th>Body</th>\n",
              "      <th>Class</th>\n",
              "    </tr>\n",
              "  </thead>\n",
              "  <tbody>\n",
              "    <tr>\n",
              "      <th>0</th>\n",
              "      <td>1</td>\n",
              "      <td>0.0</td>\n",
              "      <td>3</td>\n",
              "      <td>Braund, Mr. Owen Harris</td>\n",
              "      <td>male</td>\n",
              "      <td>22.0</td>\n",
              "      <td>1</td>\n",
              "      <td>0</td>\n",
              "      <td>A/5 21171</td>\n",
              "      <td>7.2500</td>\n",
              "      <td>...</td>\n",
              "      <td>S</td>\n",
              "      <td>691.0</td>\n",
              "      <td>Braund, Mr. Owen Harris</td>\n",
              "      <td>22.0</td>\n",
              "      <td>Bridgerule, Devon, England</td>\n",
              "      <td>Southampton</td>\n",
              "      <td>Qu'Appelle Valley, Saskatchewan, Canada</td>\n",
              "      <td>NaN</td>\n",
              "      <td>NaN</td>\n",
              "      <td>3.0</td>\n",
              "    </tr>\n",
              "    <tr>\n",
              "      <th>1</th>\n",
              "      <td>2</td>\n",
              "      <td>1.0</td>\n",
              "      <td>1</td>\n",
              "      <td>Cumings, Mrs. John Bradley (Florence Briggs Th...</td>\n",
              "      <td>female</td>\n",
              "      <td>38.0</td>\n",
              "      <td>1</td>\n",
              "      <td>0</td>\n",
              "      <td>PC 17599</td>\n",
              "      <td>71.2833</td>\n",
              "      <td>...</td>\n",
              "      <td>C</td>\n",
              "      <td>90.0</td>\n",
              "      <td>Cumings, Mrs. Florence Briggs (née Thayer)</td>\n",
              "      <td>35.0</td>\n",
              "      <td>New York, New York, US</td>\n",
              "      <td>Cherbourg</td>\n",
              "      <td>New York, New York, US</td>\n",
              "      <td>4</td>\n",
              "      <td>NaN</td>\n",
              "      <td>1.0</td>\n",
              "    </tr>\n",
              "    <tr>\n",
              "      <th>2</th>\n",
              "      <td>3</td>\n",
              "      <td>1.0</td>\n",
              "      <td>3</td>\n",
              "      <td>Heikkinen, Miss. Laina</td>\n",
              "      <td>female</td>\n",
              "      <td>26.0</td>\n",
              "      <td>0</td>\n",
              "      <td>0</td>\n",
              "      <td>STON/O2. 3101282</td>\n",
              "      <td>7.9250</td>\n",
              "      <td>...</td>\n",
              "      <td>S</td>\n",
              "      <td>865.0</td>\n",
              "      <td>Heikkinen, Miss Laina</td>\n",
              "      <td>26.0</td>\n",
              "      <td>Jyväskylä, Finland</td>\n",
              "      <td>Southampton</td>\n",
              "      <td>New York City</td>\n",
              "      <td>14?</td>\n",
              "      <td>NaN</td>\n",
              "      <td>3.0</td>\n",
              "    </tr>\n",
              "    <tr>\n",
              "      <th>3</th>\n",
              "      <td>4</td>\n",
              "      <td>1.0</td>\n",
              "      <td>1</td>\n",
              "      <td>Futrelle, Mrs. Jacques Heath (Lily May Peel)</td>\n",
              "      <td>female</td>\n",
              "      <td>35.0</td>\n",
              "      <td>1</td>\n",
              "      <td>0</td>\n",
              "      <td>113803</td>\n",
              "      <td>53.1000</td>\n",
              "      <td>...</td>\n",
              "      <td>S</td>\n",
              "      <td>127.0</td>\n",
              "      <td>Futrelle, Mrs. Lily May (née Peel)</td>\n",
              "      <td>35.0</td>\n",
              "      <td>Scituate, Massachusetts, US</td>\n",
              "      <td>Southampton</td>\n",
              "      <td>Scituate, Massachusetts, US</td>\n",
              "      <td>D</td>\n",
              "      <td>NaN</td>\n",
              "      <td>1.0</td>\n",
              "    </tr>\n",
              "    <tr>\n",
              "      <th>4</th>\n",
              "      <td>5</td>\n",
              "      <td>0.0</td>\n",
              "      <td>3</td>\n",
              "      <td>Allen, Mr. William Henry</td>\n",
              "      <td>male</td>\n",
              "      <td>35.0</td>\n",
              "      <td>0</td>\n",
              "      <td>0</td>\n",
              "      <td>373450</td>\n",
              "      <td>8.0500</td>\n",
              "      <td>...</td>\n",
              "      <td>S</td>\n",
              "      <td>627.0</td>\n",
              "      <td>Allen, Mr. William Henry</td>\n",
              "      <td>35.0</td>\n",
              "      <td>Birmingham, West Midlands, England</td>\n",
              "      <td>Southampton</td>\n",
              "      <td>New York City</td>\n",
              "      <td>NaN</td>\n",
              "      <td>NaN</td>\n",
              "      <td>3.0</td>\n",
              "    </tr>\n",
              "  </tbody>\n",
              "</table>\n",
              "<p>5 rows × 21 columns</p>\n",
              "</div>\n",
              "    <div class=\"colab-df-buttons\">\n",
              "\n",
              "  <div class=\"colab-df-container\">\n",
              "    <button class=\"colab-df-convert\" onclick=\"convertToInteractive('df-d79eb1c4-dae9-4935-a271-eee0366a413f')\"\n",
              "            title=\"Convert this dataframe to an interactive table.\"\n",
              "            style=\"display:none;\">\n",
              "\n",
              "  <svg xmlns=\"http://www.w3.org/2000/svg\" height=\"24px\" viewBox=\"0 -960 960 960\">\n",
              "    <path d=\"M120-120v-720h720v720H120Zm60-500h600v-160H180v160Zm220 220h160v-160H400v160Zm0 220h160v-160H400v160ZM180-400h160v-160H180v160Zm440 0h160v-160H620v160ZM180-180h160v-160H180v160Zm440 0h160v-160H620v160Z\"/>\n",
              "  </svg>\n",
              "    </button>\n",
              "\n",
              "  <style>\n",
              "    .colab-df-container {\n",
              "      display:flex;\n",
              "      gap: 12px;\n",
              "    }\n",
              "\n",
              "    .colab-df-convert {\n",
              "      background-color: #E8F0FE;\n",
              "      border: none;\n",
              "      border-radius: 50%;\n",
              "      cursor: pointer;\n",
              "      display: none;\n",
              "      fill: #1967D2;\n",
              "      height: 32px;\n",
              "      padding: 0 0 0 0;\n",
              "      width: 32px;\n",
              "    }\n",
              "\n",
              "    .colab-df-convert:hover {\n",
              "      background-color: #E2EBFA;\n",
              "      box-shadow: 0px 1px 2px rgba(60, 64, 67, 0.3), 0px 1px 3px 1px rgba(60, 64, 67, 0.15);\n",
              "      fill: #174EA6;\n",
              "    }\n",
              "\n",
              "    .colab-df-buttons div {\n",
              "      margin-bottom: 4px;\n",
              "    }\n",
              "\n",
              "    [theme=dark] .colab-df-convert {\n",
              "      background-color: #3B4455;\n",
              "      fill: #D2E3FC;\n",
              "    }\n",
              "\n",
              "    [theme=dark] .colab-df-convert:hover {\n",
              "      background-color: #434B5C;\n",
              "      box-shadow: 0px 1px 3px 1px rgba(0, 0, 0, 0.15);\n",
              "      filter: drop-shadow(0px 1px 2px rgba(0, 0, 0, 0.3));\n",
              "      fill: #FFFFFF;\n",
              "    }\n",
              "  </style>\n",
              "\n",
              "    <script>\n",
              "      const buttonEl =\n",
              "        document.querySelector('#df-d79eb1c4-dae9-4935-a271-eee0366a413f button.colab-df-convert');\n",
              "      buttonEl.style.display =\n",
              "        google.colab.kernel.accessAllowed ? 'block' : 'none';\n",
              "\n",
              "      async function convertToInteractive(key) {\n",
              "        const element = document.querySelector('#df-d79eb1c4-dae9-4935-a271-eee0366a413f');\n",
              "        const dataTable =\n",
              "          await google.colab.kernel.invokeFunction('convertToInteractive',\n",
              "                                                    [key], {});\n",
              "        if (!dataTable) return;\n",
              "\n",
              "        const docLinkHtml = 'Like what you see? Visit the ' +\n",
              "          '<a target=\"_blank\" href=https://colab.research.google.com/notebooks/data_table.ipynb>data table notebook</a>'\n",
              "          + ' to learn more about interactive tables.';\n",
              "        element.innerHTML = '';\n",
              "        dataTable['output_type'] = 'display_data';\n",
              "        await google.colab.output.renderOutput(dataTable, element);\n",
              "        const docLink = document.createElement('div');\n",
              "        docLink.innerHTML = docLinkHtml;\n",
              "        element.appendChild(docLink);\n",
              "      }\n",
              "    </script>\n",
              "  </div>\n",
              "\n",
              "\n",
              "<div id=\"df-5b794f83-8759-4fed-8ef6-cdcdee1095e8\">\n",
              "  <button class=\"colab-df-quickchart\" onclick=\"quickchart('df-5b794f83-8759-4fed-8ef6-cdcdee1095e8')\"\n",
              "            title=\"Suggest charts\"\n",
              "            style=\"display:none;\">\n",
              "\n",
              "<svg xmlns=\"http://www.w3.org/2000/svg\" height=\"24px\"viewBox=\"0 0 24 24\"\n",
              "     width=\"24px\">\n",
              "    <g>\n",
              "        <path d=\"M19 3H5c-1.1 0-2 .9-2 2v14c0 1.1.9 2 2 2h14c1.1 0 2-.9 2-2V5c0-1.1-.9-2-2-2zM9 17H7v-7h2v7zm4 0h-2V7h2v10zm4 0h-2v-4h2v4z\"/>\n",
              "    </g>\n",
              "</svg>\n",
              "  </button>\n",
              "\n",
              "<style>\n",
              "  .colab-df-quickchart {\n",
              "      --bg-color: #E8F0FE;\n",
              "      --fill-color: #1967D2;\n",
              "      --hover-bg-color: #E2EBFA;\n",
              "      --hover-fill-color: #174EA6;\n",
              "      --disabled-fill-color: #AAA;\n",
              "      --disabled-bg-color: #DDD;\n",
              "  }\n",
              "\n",
              "  [theme=dark] .colab-df-quickchart {\n",
              "      --bg-color: #3B4455;\n",
              "      --fill-color: #D2E3FC;\n",
              "      --hover-bg-color: #434B5C;\n",
              "      --hover-fill-color: #FFFFFF;\n",
              "      --disabled-bg-color: #3B4455;\n",
              "      --disabled-fill-color: #666;\n",
              "  }\n",
              "\n",
              "  .colab-df-quickchart {\n",
              "    background-color: var(--bg-color);\n",
              "    border: none;\n",
              "    border-radius: 50%;\n",
              "    cursor: pointer;\n",
              "    display: none;\n",
              "    fill: var(--fill-color);\n",
              "    height: 32px;\n",
              "    padding: 0;\n",
              "    width: 32px;\n",
              "  }\n",
              "\n",
              "  .colab-df-quickchart:hover {\n",
              "    background-color: var(--hover-bg-color);\n",
              "    box-shadow: 0 1px 2px rgba(60, 64, 67, 0.3), 0 1px 3px 1px rgba(60, 64, 67, 0.15);\n",
              "    fill: var(--button-hover-fill-color);\n",
              "  }\n",
              "\n",
              "  .colab-df-quickchart-complete:disabled,\n",
              "  .colab-df-quickchart-complete:disabled:hover {\n",
              "    background-color: var(--disabled-bg-color);\n",
              "    fill: var(--disabled-fill-color);\n",
              "    box-shadow: none;\n",
              "  }\n",
              "\n",
              "  .colab-df-spinner {\n",
              "    border: 2px solid var(--fill-color);\n",
              "    border-color: transparent;\n",
              "    border-bottom-color: var(--fill-color);\n",
              "    animation:\n",
              "      spin 1s steps(1) infinite;\n",
              "  }\n",
              "\n",
              "  @keyframes spin {\n",
              "    0% {\n",
              "      border-color: transparent;\n",
              "      border-bottom-color: var(--fill-color);\n",
              "      border-left-color: var(--fill-color);\n",
              "    }\n",
              "    20% {\n",
              "      border-color: transparent;\n",
              "      border-left-color: var(--fill-color);\n",
              "      border-top-color: var(--fill-color);\n",
              "    }\n",
              "    30% {\n",
              "      border-color: transparent;\n",
              "      border-left-color: var(--fill-color);\n",
              "      border-top-color: var(--fill-color);\n",
              "      border-right-color: var(--fill-color);\n",
              "    }\n",
              "    40% {\n",
              "      border-color: transparent;\n",
              "      border-right-color: var(--fill-color);\n",
              "      border-top-color: var(--fill-color);\n",
              "    }\n",
              "    60% {\n",
              "      border-color: transparent;\n",
              "      border-right-color: var(--fill-color);\n",
              "    }\n",
              "    80% {\n",
              "      border-color: transparent;\n",
              "      border-right-color: var(--fill-color);\n",
              "      border-bottom-color: var(--fill-color);\n",
              "    }\n",
              "    90% {\n",
              "      border-color: transparent;\n",
              "      border-bottom-color: var(--fill-color);\n",
              "    }\n",
              "  }\n",
              "</style>\n",
              "\n",
              "  <script>\n",
              "    async function quickchart(key) {\n",
              "      const quickchartButtonEl =\n",
              "        document.querySelector('#' + key + ' button');\n",
              "      quickchartButtonEl.disabled = true;  // To prevent multiple clicks.\n",
              "      quickchartButtonEl.classList.add('colab-df-spinner');\n",
              "      try {\n",
              "        const charts = await google.colab.kernel.invokeFunction(\n",
              "            'suggestCharts', [key], {});\n",
              "      } catch (error) {\n",
              "        console.error('Error during call to suggestCharts:', error);\n",
              "      }\n",
              "      quickchartButtonEl.classList.remove('colab-df-spinner');\n",
              "      quickchartButtonEl.classList.add('colab-df-quickchart-complete');\n",
              "    }\n",
              "    (() => {\n",
              "      let quickchartButtonEl =\n",
              "        document.querySelector('#df-5b794f83-8759-4fed-8ef6-cdcdee1095e8 button');\n",
              "      quickchartButtonEl.style.display =\n",
              "        google.colab.kernel.accessAllowed ? 'block' : 'none';\n",
              "    })();\n",
              "  </script>\n",
              "</div>\n",
              "    </div>\n",
              "  </div>\n"
            ],
            "application/vnd.google.colaboratory.intrinsic+json": {
              "type": "dataframe",
              "variable_name": "df"
            }
          },
          "metadata": {},
          "execution_count": 7
        }
      ]
    },
    {
      "cell_type": "markdown",
      "source": [
        "---\n",
        "#### $\\color{red}{Database}$\n",
        "---\n",
        "\n",
        "Now we have the DataFrame, we can quickly transform it into a database."
      ],
      "metadata": {
        "id": "B-NT2Kk5-CTb"
      }
    },
    {
      "cell_type": "code",
      "source": [
        "def dataframe_to_sqlite(df, db_name, table_name):\n",
        "    \"\"\"\n",
        "    Converts a Pandas DataFrame to an SQLite database table.\n",
        "\n",
        "    Args:\n",
        "        df (pd.DataFrame): The DataFrame to be converted.\n",
        "        db_name (str): Name of the SQLite database file.\n",
        "        table_name (str): Name of the table to be created in the database.\n",
        "\n",
        "    Returns:\n",
        "        None\n",
        "    \"\"\"\n",
        "    try:\n",
        "        # Create an SQLite connection\n",
        "        conn = sqlite3.connect(db_name)\n",
        "\n",
        "        # Write the DataFrame to the specified table\n",
        "        df.to_sql(name=table_name, con=conn, if_exists='replace', index=False)\n",
        "\n",
        "        print(f\"DataFrame successfully written to SQLite table '{table_name}' in '{db_name}'.\")\n",
        "    except Exception as e:\n",
        "        print(f\"Error: {e}\")\n",
        "    finally:\n",
        "        # Close the connection\n",
        "        conn.close()"
      ],
      "metadata": {
        "id": "_MchNr55xiSR"
      },
      "execution_count": null,
      "outputs": []
    },
    {
      "cell_type": "code",
      "source": [
        "db_name = 'titanic.db'\n",
        "db_table = 'titanic_table'\n",
        "uri = \"sqlite:///titanic.db\""
      ],
      "metadata": {
        "id": "55FCb23S31pd"
      },
      "execution_count": null,
      "outputs": []
    },
    {
      "cell_type": "code",
      "source": [
        "dataframe_to_sqlite(df, db_name, db_table)"
      ],
      "metadata": {
        "colab": {
          "base_uri": "https://localhost:8080/"
        },
        "id": "L_jEahY76k7T",
        "outputId": "79e491a2-d6a9-449f-99ad-859ca9a86241"
      },
      "execution_count": null,
      "outputs": [
        {
          "output_type": "stream",
          "name": "stdout",
          "text": [
            "DataFrame successfully written to SQLite table 'titanic_table' in 'titanic.db'.\n"
          ]
        }
      ]
    },
    {
      "cell_type": "markdown",
      "source": [
        "---\n",
        "We can check that the underlying database is functioning.\n",
        "---\n",
        "---"
      ],
      "metadata": {
        "id": "g37kFwv0-VLb"
      }
    },
    {
      "cell_type": "code",
      "source": [
        "conn = sqlite3.connect(db_name)\n",
        "cursor = conn.cursor()\n",
        "cursor.execute(f'SELECT * FROM {db_table};')\n",
        "rows = cursor.fetchall()\n",
        "for row in rows[:10]:\n",
        "    print(row)"
      ],
      "metadata": {
        "colab": {
          "base_uri": "https://localhost:8080/"
        },
        "id": "bnQT2h9140Ic",
        "outputId": "e3ab1d8c-2335-4314-9e3c-2ded88665f3c"
      },
      "execution_count": null,
      "outputs": [
        {
          "output_type": "stream",
          "name": "stdout",
          "text": [
            "(1, 0.0, 3, 'Braund, Mr. Owen Harris', 'male', 22.0, 1, 0, 'A/5 21171', 7.25, None, 'S', 691.0, 'Braund, Mr. Owen Harris', 22.0, 'Bridgerule, Devon, England', 'Southampton', \"Qu'Appelle Valley, Saskatchewan, Canada\", None, None, 3.0)\n",
            "(2, 1.0, 1, 'Cumings, Mrs. John Bradley (Florence Briggs Thayer)', 'female', 38.0, 1, 0, 'PC 17599', 71.2833, 'C85', 'C', 90.0, 'Cumings, Mrs. Florence Briggs (née Thayer)', 35.0, 'New York, New York, US', 'Cherbourg', 'New York, New York, US', '4', None, 1.0)\n",
            "(3, 1.0, 3, 'Heikkinen, Miss. Laina', 'female', 26.0, 0, 0, 'STON/O2. 3101282', 7.925, None, 'S', 865.0, 'Heikkinen, Miss Laina', 26.0, 'Jyväskylä, Finland', 'Southampton', 'New York City', '14?', None, 3.0)\n",
            "(4, 1.0, 1, 'Futrelle, Mrs. Jacques Heath (Lily May Peel)', 'female', 35.0, 1, 0, '113803', 53.1, 'C123', 'S', 127.0, 'Futrelle, Mrs. Lily May (née Peel)', 35.0, 'Scituate, Massachusetts, US', 'Southampton', 'Scituate, Massachusetts, US', 'D', None, 1.0)\n",
            "(5, 0.0, 3, 'Allen, Mr. William Henry', 'male', 35.0, 0, 0, '373450', 8.05, None, 'S', 627.0, 'Allen, Mr. William Henry', 35.0, 'Birmingham, West Midlands, England', 'Southampton', 'New York City', None, None, 3.0)\n",
            "(6, 0.0, 3, 'Moran, Mr. James', 'male', None, 0, 0, '330877', 8.4583, None, 'Q', 785.0, 'Doherty, Mr. William John (aka \"James Moran\")', 22.0, 'Cork, Ireland', 'Queenstown', 'New York City', None, None, 3.0)\n",
            "(7, 0.0, 1, 'McCarthy, Mr. Timothy J', 'male', 54.0, 0, 0, '17463', 51.8625, 'E46', 'S', 200.0, 'McCarthy, Mr. Timothy J.', 54.0, 'Dorchester, Massachusetts, US', 'Southampton', 'Dorchester, Massachusetts, US', None, '175MB', 1.0)\n",
            "(8, 0.0, 3, 'Palsson, Master. Gosta Leonard', 'male', 2.0, 3, 1, '349909', 21.075, None, 'S', 1108.0, 'Pålsson, Master Gösta Leonard', 2.0, 'Bjuv, Skåne, Sweden', 'Southampton', 'Chicago, Illinois, US', None, None, 3.0)\n",
            "(9, 1.0, 3, 'Johnson, Mrs. Oscar W (Elisabeth Vilhelmina Berg)', 'female', 27.0, 0, 2, '347742', 11.1333, None, 'S', 902.0, 'Johnson, Mrs. Elisabeth Vilhelmina (née Berg)', 26.0, 'St. Charles, Illinois, US', 'Southampton', 'St. Charles, Illinois, US', '15', None, 3.0)\n",
            "(10, 1.0, 2, 'Nasser, Mrs. Nicholas (Adele Achem)', 'female', 14.0, 1, 0, '237736', 30.0708, None, 'C', 520.0, 'Nassr Allah, Mrs. Adal (née Akim)[62][77]', 14.0, 'Zahlé, Lebanon, Ottoman Empire', 'Cherbourg', 'Cleveland, Ohio, US', '?', None, 2.0)\n"
          ]
        }
      ]
    },
    {
      "cell_type": "markdown",
      "source": [
        "---\n",
        "#### $\\color{red}{Langchain-Database}$\n",
        "---\n",
        "\n",
        "Now we wrap the database with the Langchain object."
      ],
      "metadata": {
        "id": "OfSIGDfP-pea"
      }
    },
    {
      "cell_type": "code",
      "source": [
        "db = SQLDatabase.from_uri(uri)"
      ],
      "metadata": {
        "id": "JmAoIYeA0snR"
      },
      "execution_count": null,
      "outputs": []
    },
    {
      "cell_type": "code",
      "source": [
        "print(db.get_table_info())"
      ],
      "metadata": {
        "colab": {
          "base_uri": "https://localhost:8080/"
        },
        "id": "E3769Ik-JEdQ",
        "outputId": "4dc607d1-0feb-426c-ef29-5a9fb4a507d4"
      },
      "execution_count": null,
      "outputs": [
        {
          "output_type": "stream",
          "name": "stdout",
          "text": [
            "\n",
            "CREATE TABLE titanic_table (\n",
            "\t\"PassengerId\" INTEGER, \n",
            "\t\"Survived\" REAL, \n",
            "\t\"Pclass\" INTEGER, \n",
            "\t\"Name\" TEXT, \n",
            "\t\"Sex\" TEXT, \n",
            "\t\"Age\" REAL, \n",
            "\t\"SibSp\" INTEGER, \n",
            "\t\"Parch\" INTEGER, \n",
            "\t\"Ticket\" TEXT, \n",
            "\t\"Fare\" REAL, \n",
            "\t\"Cabin\" TEXT, \n",
            "\t\"Embarked\" TEXT, \n",
            "\t\"WikiId\" REAL, \n",
            "\t\"Name_wiki\" TEXT, \n",
            "\t\"Age_wiki\" REAL, \n",
            "\t\"Hometown\" TEXT, \n",
            "\t\"Boarded\" TEXT, \n",
            "\t\"Destination\" TEXT, \n",
            "\t\"Lifeboat\" TEXT, \n",
            "\t\"Body\" TEXT, \n",
            "\t\"Class\" REAL\n",
            ")\n",
            "\n",
            "/*\n",
            "3 rows from titanic_table table:\n",
            "PassengerId\tSurvived\tPclass\tName\tSex\tAge\tSibSp\tParch\tTicket\tFare\tCabin\tEmbarked\tWikiId\tName_wiki\tAge_wiki\tHometown\tBoarded\tDestination\tLifeboat\tBody\tClass\n",
            "1\t0.0\t3\tBraund, Mr. Owen Harris\tmale\t22.0\t1\t0\tA/5 21171\t7.25\tNone\tS\t691.0\tBraund, Mr. Owen Harris\t22.0\tBridgerule, Devon, England\tSouthampton\tQu'Appelle Valley, Saskatchewan, Canada\tNone\tNone\t3.0\n",
            "2\t1.0\t1\tCumings, Mrs. John Bradley (Florence Briggs Thayer)\tfemale\t38.0\t1\t0\tPC 17599\t71.2833\tC85\tC\t90.0\tCumings, Mrs. Florence Briggs (née Thayer)\t35.0\tNew York, New York, US\tCherbourg\tNew York, New York, US\t4\tNone\t1.0\n",
            "3\t1.0\t3\tHeikkinen, Miss. Laina\tfemale\t26.0\t0\t0\tSTON/O2. 3101282\t7.925\tNone\tS\t865.0\tHeikkinen, Miss Laina\t26.0\tJyväskylä, Finland\tSouthampton\tNew York City\t14?\tNone\t3.0\n",
            "*/\n"
          ]
        }
      ]
    },
    {
      "cell_type": "markdown",
      "source": [
        "---\n",
        "We will be using GPT-3.5 for the demo, so drop in an OpenAI key\n",
        "---\n",
        "---"
      ],
      "metadata": {
        "id": "joJM913i_UK7"
      }
    },
    {
      "cell_type": "code",
      "source": [
        "import getpass\n",
        "\n",
        "os.environ[\"OPENAI_API_KEY\"] = getpass.getpass(\"Open AI API Key:\")"
      ],
      "metadata": {
        "colab": {
          "base_uri": "https://localhost:8080/"
        },
        "id": "Rdh9Tuos_KIy",
        "outputId": "9c7dbafe-3fa3-4815-f081-5cb266185da3"
      },
      "execution_count": null,
      "outputs": [
        {
          "name": "stdout",
          "output_type": "stream",
          "text": [
            "Open AI API Key:··········\n"
          ]
        }
      ]
    },
    {
      "cell_type": "markdown",
      "source": [
        "---\n",
        "The toolkit specifies the tools that are available to the agent, namely the databse, and the LLM\n",
        "---\n",
        "---"
      ],
      "metadata": {
        "id": "l5etj1wB_ghK"
      }
    },
    {
      "cell_type": "code",
      "source": [
        "toolkit = SQLDatabaseToolkit(db=db, llm=OpenAI(temperature=0))"
      ],
      "metadata": {
        "id": "O0FstpQQ--Cj",
        "colab": {
          "base_uri": "https://localhost:8080/"
        },
        "outputId": "34776279-09ef-4f50-af44-26e616c905ce"
      },
      "execution_count": null,
      "outputs": [
        {
          "output_type": "stream",
          "name": "stderr",
          "text": [
            "/usr/local/lib/python3.10/dist-packages/langchain_core/_api/deprecation.py:119: LangChainDeprecationWarning: The class `OpenAI` was deprecated in LangChain 0.0.10 and will be removed in 0.3.0. An updated version of the class exists in the langchain-openai package and should be used instead. To use it run `pip install -U langchain-openai` and import as `from langchain_openai import OpenAI`.\n",
            "  warn_deprecated(\n"
          ]
        }
      ]
    },
    {
      "cell_type": "markdown",
      "source": [
        "---\n",
        "The agent executor wraps all the functionality required including the agent type defines how the logic of the agent functions.\n",
        "---\n",
        "---"
      ],
      "metadata": {
        "id": "hTT3TePq_1fx"
      }
    },
    {
      "cell_type": "code",
      "source": [
        "agent_executor = create_sql_agent(\n",
        "    llm=ChatOpenAI(temperature=0, model=\"gpt-3.5-turbo\"),\n",
        "    toolkit=toolkit,\n",
        "    verbose=True,\n",
        "    agent_type=AgentType.ZERO_SHOT_REACT_DESCRIPTION,\n",
        "    handle_parsing_errors=True,\n",
        ")"
      ],
      "metadata": {
        "id": "JsyxBQsnKKmL"
      },
      "execution_count": null,
      "outputs": []
    },
    {
      "cell_type": "markdown",
      "source": [
        "---\n",
        "## $\\color{blue}{Test}$\n",
        "---\n",
        "\n",
        "Very quickly if we have a database and an LLM we can interact with db in natural language."
      ],
      "metadata": {
        "id": "JaBtaMIcBNPh"
      }
    },
    {
      "cell_type": "markdown",
      "source": [
        "\n",
        "Here the LLM is given a modified table name, but manages to infer the table that we are referring to\n"
      ],
      "metadata": {
        "id": "IQQAQ4MbBcgB"
      }
    },
    {
      "cell_type": "code",
      "source": [
        "agent_executor.invoke(\"what columns are in the titanic table\")"
      ],
      "metadata": {
        "colab": {
          "base_uri": "https://localhost:8080/"
        },
        "id": "h-pb47yFKWhF",
        "outputId": "0179e853-dc4e-4183-c1ce-9b5028dc0634"
      },
      "execution_count": null,
      "outputs": [
        {
          "output_type": "stream",
          "name": "stdout",
          "text": [
            "\n",
            "\n",
            "\u001b[1m> Entering new SQL Agent Executor chain...\u001b[0m\n",
            "\u001b[32;1m\u001b[1;3mI should use the sql_db_schema tool to get the schema of the titanic table\n",
            "Action: sql_db_schema\n",
            "Action Input: titanic\u001b[0m\u001b[33;1m\u001b[1;3mError: table_names {'titanic'} not found in database\u001b[0m\u001b[32;1m\u001b[1;3mI should first check the list of tables in the database to make sure the titanic table exists\n",
            "Action: sql_db_list_tables\n",
            "Action Input: \u001b[0m\u001b[38;5;200m\u001b[1;3mtitanic_table\u001b[0m\u001b[32;1m\u001b[1;3mNow that I know the titanic table exists, I can use the sql_db_schema tool to get the schema of the titanic table\n",
            "Action: sql_db_schema\n",
            "Action Input: titanic\u001b[0m\u001b[33;1m\u001b[1;3mError: table_names {'titanic'} not found in database\u001b[0m\u001b[32;1m\u001b[1;3mI should double check the table name and try again\n",
            "Action: sql_db_schema\n",
            "Action Input: titanic_table\u001b[0m\u001b[33;1m\u001b[1;3m\n",
            "CREATE TABLE titanic_table (\n",
            "\t\"PassengerId\" INTEGER, \n",
            "\t\"Survived\" REAL, \n",
            "\t\"Pclass\" INTEGER, \n",
            "\t\"Name\" TEXT, \n",
            "\t\"Sex\" TEXT, \n",
            "\t\"Age\" REAL, \n",
            "\t\"SibSp\" INTEGER, \n",
            "\t\"Parch\" INTEGER, \n",
            "\t\"Ticket\" TEXT, \n",
            "\t\"Fare\" REAL, \n",
            "\t\"Cabin\" TEXT, \n",
            "\t\"Embarked\" TEXT, \n",
            "\t\"WikiId\" REAL, \n",
            "\t\"Name_wiki\" TEXT, \n",
            "\t\"Age_wiki\" REAL, \n",
            "\t\"Hometown\" TEXT, \n",
            "\t\"Boarded\" TEXT, \n",
            "\t\"Destination\" TEXT, \n",
            "\t\"Lifeboat\" TEXT, \n",
            "\t\"Body\" TEXT, \n",
            "\t\"Class\" REAL\n",
            ")\n",
            "\n",
            "/*\n",
            "3 rows from titanic_table table:\n",
            "PassengerId\tSurvived\tPclass\tName\tSex\tAge\tSibSp\tParch\tTicket\tFare\tCabin\tEmbarked\tWikiId\tName_wiki\tAge_wiki\tHometown\tBoarded\tDestination\tLifeboat\tBody\tClass\n",
            "1\t0.0\t3\tBraund, Mr. Owen Harris\tmale\t22.0\t1\t0\tA/5 21171\t7.25\tNone\tS\t691.0\tBraund, Mr. Owen Harris\t22.0\tBridgerule, Devon, England\tSouthampton\tQu'Appelle Valley, Saskatchewan, Canada\tNone\tNone\t3.0\n",
            "2\t1.0\t1\tCumings, Mrs. John Bradley (Florence Briggs Thayer)\tfemale\t38.0\t1\t0\tPC 17599\t71.2833\tC85\tC\t90.0\tCumings, Mrs. Florence Briggs (née Thayer)\t35.0\tNew York, New York, US\tCherbourg\tNew York, New York, US\t4\tNone\t1.0\n",
            "3\t1.0\t3\tHeikkinen, Miss. Laina\tfemale\t26.0\t0\t0\tSTON/O2. 3101282\t7.925\tNone\tS\t865.0\tHeikkinen, Miss Laina\t26.0\tJyväskylä, Finland\tSouthampton\tNew York City\t14?\tNone\t3.0\n",
            "*/\u001b[0m\u001b[32;1m\u001b[1;3mI now know the columns in the titanic table are PassengerId, Survived, Pclass, Name, Sex, Age, SibSp, Parch, Ticket, Fare, Cabin, Embarked, WikiId, Name_wiki, Age_wiki, Hometown, Boarded, Destination, Lifeboat, Body, Class.\n",
            "Final Answer: PassengerId, Survived, Pclass, Name, Sex, Age, SibSp, Parch, Ticket, Fare, Cabin, Embarked, WikiId, Name_wiki, Age_wiki, Hometown, Boarded, Destination, Lifeboat, Body, Class\u001b[0m\n",
            "\n",
            "\u001b[1m> Finished chain.\u001b[0m\n"
          ]
        },
        {
          "output_type": "execute_result",
          "data": {
            "text/plain": [
              "{'input': 'what columns are in the titanic table',\n",
              " 'output': 'PassengerId, Survived, Pclass, Name, Sex, Age, SibSp, Parch, Ticket, Fare, Cabin, Embarked, WikiId, Name_wiki, Age_wiki, Hometown, Boarded, Destination, Lifeboat, Body, Class'}"
            ]
          },
          "metadata": {},
          "execution_count": 17
        }
      ]
    },
    {
      "cell_type": "markdown",
      "source": [
        "---\n",
        "**Here on a more complex query we see the logic of the agent in operation.**\n",
        "\n",
        "```\n",
        "template = '''Answer the following questions as best you can. You have access to the following tools:\n",
        "\n",
        "{tools}\n",
        "\n",
        "Use the following format:\n",
        "\n",
        "Question: the input question you must answer\n",
        "Thought: you should always think about what to do\n",
        "Action: the action to take, should be one of [{tool_names}]\n",
        "Action Input: the input to the action\n",
        "Observation: the result of the action\n",
        "... (this Thought/Action/Action Input/Observation can repeat N times)\n",
        "Thought: I now know the final answer\n",
        "Final Answer: the final answer to the original input question\n",
        "\n",
        "Begin!\n",
        "\n",
        "Question: {input}\n",
        "Thought:{agent_scratchpad}'''\n",
        "```\n",
        "\n",
        "We see the format of the prompt goes through numerous steps using the tools, before the LLM is satisfied that it has the correct answer.\n",
        "\n",
        "The following example starts with an incorrect SQL statement where the agent tries to use a table that doesn't exist. After capturing the error the agent decides to search the schema of the tables available.\n",
        "\n",
        "The agent understands that the titanic_table 'name' field might lead to the correct answer and makes a new query. The query returns the correct answer, and the agent responds to the initial request, satisfied that it has found the correct information."
      ],
      "metadata": {
        "id": "fpmzA61JBpTx"
      }
    },
    {
      "cell_type": "code",
      "source": [
        "agent_executor.invoke(\"Was there anybody from the Futrelle family on board the titanic\")"
      ],
      "metadata": {
        "colab": {
          "base_uri": "https://localhost:8080/"
        },
        "id": "ALgE7Jrt69iT",
        "outputId": "3e822447-11ac-4fa6-9db5-bc88878bbb45"
      },
      "execution_count": null,
      "outputs": [
        {
          "output_type": "stream",
          "name": "stdout",
          "text": [
            "\n",
            "\n",
            "\u001b[1m> Entering new SQL Agent Executor chain...\u001b[0m\n",
            "\u001b[32;1m\u001b[1;3mI need to check the database to see if there were any passengers from the Futrelle family on board the Titanic.\n",
            "Action: sql_db_query_checker\n",
            "Action Input: SELECT * FROM passengers WHERE last_name = 'Futrelle'\u001b[0m\u001b[36;1m\u001b[1;3m SELECT * FROM passengers WHERE last_name = 'Futrelle'\u001b[0m\u001b[32;1m\u001b[1;3mI should now execute the query to get the final answer.\n",
            "Action: sql_db_query\n",
            "Action Input: SELECT * FROM passengers WHERE last_name = 'Futrelle'\u001b[0m\u001b[36;1m\u001b[1;3mError: (sqlite3.OperationalError) no such table: passengers\n",
            "[SQL: SELECT * FROM passengers WHERE last_name = 'Futrelle']\n",
            "(Background on this error at: https://sqlalche.me/e/20/e3q8)\u001b[0m\u001b[32;1m\u001b[1;3mI need to first check the list of tables in the database to ensure the 'passengers' table exists.\n",
            "Action: sql_db_list_tables\n",
            "Action Input: \u001b[0m\u001b[38;5;200m\u001b[1;3mtitanic_table\u001b[0m\u001b[32;1m\u001b[1;3mI should now check the schema of the 'titanic_table' to see if it contains information about passengers.\n",
            "Action: sql_db_schema\n",
            "Action Input: titanic_table\u001b[0m\u001b[33;1m\u001b[1;3m\n",
            "CREATE TABLE titanic_table (\n",
            "\t\"PassengerId\" INTEGER, \n",
            "\t\"Survived\" REAL, \n",
            "\t\"Pclass\" INTEGER, \n",
            "\t\"Name\" TEXT, \n",
            "\t\"Sex\" TEXT, \n",
            "\t\"Age\" REAL, \n",
            "\t\"SibSp\" INTEGER, \n",
            "\t\"Parch\" INTEGER, \n",
            "\t\"Ticket\" TEXT, \n",
            "\t\"Fare\" REAL, \n",
            "\t\"Cabin\" TEXT, \n",
            "\t\"Embarked\" TEXT, \n",
            "\t\"WikiId\" REAL, \n",
            "\t\"Name_wiki\" TEXT, \n",
            "\t\"Age_wiki\" REAL, \n",
            "\t\"Hometown\" TEXT, \n",
            "\t\"Boarded\" TEXT, \n",
            "\t\"Destination\" TEXT, \n",
            "\t\"Lifeboat\" TEXT, \n",
            "\t\"Body\" TEXT, \n",
            "\t\"Class\" REAL\n",
            ")\n",
            "\n",
            "/*\n",
            "3 rows from titanic_table table:\n",
            "PassengerId\tSurvived\tPclass\tName\tSex\tAge\tSibSp\tParch\tTicket\tFare\tCabin\tEmbarked\tWikiId\tName_wiki\tAge_wiki\tHometown\tBoarded\tDestination\tLifeboat\tBody\tClass\n",
            "1\t0.0\t3\tBraund, Mr. Owen Harris\tmale\t22.0\t1\t0\tA/5 21171\t7.25\tNone\tS\t691.0\tBraund, Mr. Owen Harris\t22.0\tBridgerule, Devon, England\tSouthampton\tQu'Appelle Valley, Saskatchewan, Canada\tNone\tNone\t3.0\n",
            "2\t1.0\t1\tCumings, Mrs. John Bradley (Florence Briggs Thayer)\tfemale\t38.0\t1\t0\tPC 17599\t71.2833\tC85\tC\t90.0\tCumings, Mrs. Florence Briggs (née Thayer)\t35.0\tNew York, New York, US\tCherbourg\tNew York, New York, US\t4\tNone\t1.0\n",
            "3\t1.0\t3\tHeikkinen, Miss. Laina\tfemale\t26.0\t0\t0\tSTON/O2. 3101282\t7.925\tNone\tS\t865.0\tHeikkinen, Miss Laina\t26.0\tJyväskylä, Finland\tSouthampton\tNew York City\t14?\tNone\t3.0\n",
            "*/\u001b[0m\u001b[32;1m\u001b[1;3mI can see that the 'passengers' table does not exist, but there is a 'titanic_table' that contains passenger information. I should modify my query to search for passengers with the last name 'Futrelle' in the 'titanic_table'.\n",
            "Action: sql_db_query_checker\n",
            "Action Input: SELECT * FROM titanic_table WHERE Name LIKE '%Futrelle%'\u001b[0m\u001b[36;1m\u001b[1;3m SELECT * FROM titanic_table WHERE Name LIKE '%Futrelle%'\u001b[0m\u001b[32;1m\u001b[1;3mI should now execute the modified query to get the final answer.\n",
            "Action: sql_db_query\n",
            "Action Input: SELECT * FROM titanic_table WHERE Name LIKE '%Futrelle%'\u001b[0m\u001b[36;1m\u001b[1;3m[(4, 1.0, 1, 'Futrelle, Mrs. Jacques Heath (Lily May Peel)', 'female', 35.0, 1, 0, '113803', 53.1, 'C123', 'S', 127.0, 'Futrelle, Mrs. Lily May (née Peel)', 35.0, 'Scituate, Massachusetts, US', 'Southampton', 'Scituate, Massachusetts, US', 'D', None, 1.0), (138, 0.0, 1, 'Futrelle, Mr. Jacques Heath', 'male', 37.0, 1, 0, '113803', 53.1, 'C123', 'S', 126.0, 'Futrelle, Mr. Jacques Heath', 37.0, 'Scituate, Massachusetts, US', 'Southampton', 'Scituate, Massachusetts, US', None, None, 1.0)]\u001b[0m\u001b[32;1m\u001b[1;3mI now know that there were passengers from the Futrelle family on board the Titanic.\n",
            "Final Answer: Yes, there were passengers from the Futrelle family on board the Titanic.\u001b[0m\n",
            "\n",
            "\u001b[1m> Finished chain.\u001b[0m\n"
          ]
        },
        {
          "output_type": "execute_result",
          "data": {
            "text/plain": [
              "{'input': 'Was there anybody from the Futrelle family on board the titanic',\n",
              " 'output': 'Yes, there were passengers from the Futrelle family on board the Titanic.'}"
            ]
          },
          "metadata": {},
          "execution_count": 18
        }
      ]
    }
  ]
}