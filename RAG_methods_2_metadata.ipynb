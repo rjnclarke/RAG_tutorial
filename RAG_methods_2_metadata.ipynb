{
  "nbformat": 4,
  "nbformat_minor": 0,
  "metadata": {
    "colab": {
      "provenance": [],
      "machine_shape": "hm",
      "toc_visible": true,
      "gpuType": "L4"
    },
    "kernelspec": {
      "name": "python3",
      "display_name": "Python 3"
    },
    "language_info": {
      "name": "python"
    },
    "accelerator": "GPU"
  },
  "cells": [
    {
      "cell_type": "markdown",
      "source": [
        "\n",
        "\n",
        "# RAG Methods - Metadata\n",
        "\n",
        "Many tasks are in reach when we have managed to quantify our text with vector representations. There are innumerable excellent sentence embedding models available on hugging face, and we are not obliged to go directly to OpenAI for there embedding models (although they offer an acceptable solution) as similar solutions are available for free.\n",
        "\n",
        "This notebook initially examines the task of classification, after having made vector representation of some text. In addition, once a vector store of text embeddings has been established, we need the functionality to be able to filter this database.\n",
        "\n",
        "Each text is asociated with its Metadata, this can be used to narrow down the search, by date for example.\n",
        "\n",
        "This code hangs off Langchain's massive library, that will not only wrap our database, but also our Embedding model. The inital phase is to have the data in tabular format before we convert all the data to Lanchain Document objects. A very convenient solution is the Langchain Dataframe Dataloader, here we simply specify the text column from which to make the embedding, and all the other columns become metadata. The fact that all this is one line of code, highlights the usecase for Langchain.\n"
      ],
      "metadata": {
        "id": "eJ4d1cPivyn7"
      }
    },
    {
      "cell_type": "markdown",
      "source": [
        "## $\\color{blue}{Sections:}$\n",
        "* Admin\n",
        "* Data\n",
        "* Vector Store\n",
        "* Query\n"
      ],
      "metadata": {
        "id": "LPd-fuEZdzLW"
      }
    },
    {
      "cell_type": "markdown",
      "source": [
        "---\n",
        "## $\\color{blue}{Admin}$\n",
        "---"
      ],
      "metadata": {
        "id": "n5Tdb6dAx6xI"
      }
    },
    {
      "cell_type": "code",
      "source": [
        "%%capture\n",
        "!pip install langchain"
      ],
      "metadata": {
        "id": "jigNT0KdxK3A"
      },
      "execution_count": null,
      "outputs": []
    },
    {
      "cell_type": "code",
      "source": [
        "%%capture\n",
        "pip install langchain-community"
      ],
      "metadata": {
        "id": "CfQJjZpAyK2B"
      },
      "execution_count": null,
      "outputs": []
    },
    {
      "cell_type": "code",
      "source": [
        "%%capture\n",
        "!pip install chromadb"
      ],
      "metadata": {
        "id": "z37ZtueOkSLw"
      },
      "execution_count": null,
      "outputs": []
    },
    {
      "cell_type": "code",
      "source": [
        "%%capture\n",
        "!pip install sentence_transformers"
      ],
      "metadata": {
        "id": "mqfBrjPKzc8p"
      },
      "execution_count": null,
      "outputs": []
    },
    {
      "cell_type": "code",
      "source": [
        "%%capture\n",
        "!pip install datasets"
      ],
      "metadata": {
        "id": "u_GqkD0VwlO0"
      },
      "execution_count": null,
      "outputs": []
    },
    {
      "cell_type": "code",
      "source": [
        "# native\n",
        "import pandas as pd\n",
        "import numpy as np\n",
        "import matplotlib.pyplot as plt\n",
        "import datetime\n",
        "\n",
        "# admin\n",
        "from google.colab import drive\n",
        "import os\n",
        "import getpass\n",
        "\n",
        "# ai\n",
        "from huggingface_hub import login\n",
        "from datasets import load_dataset"
      ],
      "metadata": {
        "id": "kcl63mezmUaK"
      },
      "execution_count": null,
      "outputs": []
    },
    {
      "cell_type": "code",
      "source": [
        "drive.mount(\"/content/drive\")\n",
        "%cd '/content/drive/MyDrive/'"
      ],
      "metadata": {
        "id": "PxjvZaZyIBs6"
      },
      "execution_count": null,
      "outputs": []
    },
    {
      "cell_type": "markdown",
      "source": [
        "---\n",
        "## $\\color{blue}{Data}$\n",
        "---\n",
        "\n",
        "Data from our toy dataset is imported from hugiging face with the datasetskn library. There are only three columns, but we can simulate another couple of columns to demonstrate filtering.\n",
        "\n",
        "This small sythetic dataset imagines an IT sevrice desk."
      ],
      "metadata": {
        "id": "2eJT9I2cyDkJ"
      }
    },
    {
      "cell_type": "code",
      "source": [
        "dataset = load_dataset(\"SparkExpedition/TicketsData\", split='train')"
      ],
      "metadata": {
        "id": "nATN-ZX3xFst"
      },
      "execution_count": null,
      "outputs": []
    },
    {
      "cell_type": "code",
      "source": [
        "D_master = {'t_cat': dataset['TECHNOLOGY'],\n",
        "            't_query': dataset['QUESTION'],\n",
        "            't_response': dataset['SOLUTION']}\n",
        "df = pd.DataFrame(D_master)"
      ],
      "metadata": {
        "id": "D7GS2gb8xVoT"
      },
      "execution_count": null,
      "outputs": []
    },
    {
      "cell_type": "code",
      "source": [
        "df.head()"
      ],
      "metadata": {
        "id": "zx_WzzkLuAMf",
        "colab": {
          "base_uri": "https://localhost:8080/",
          "height": 206
        },
        "outputId": "941a8517-b39d-439b-b26c-38f806fb420c"
      },
      "execution_count": null,
      "outputs": [
        {
          "output_type": "execute_result",
          "data": {
            "text/plain": [
              "       t_cat                                            t_query  \\\n",
              "0  Azure SQL  Which SQL cloud database deployment options ar...   \n",
              "1  Azure SQL  Error message: Conversion failed when converti...   \n",
              "2  Azure SQL  Cannot open database \"master\" requested by the...   \n",
              "3  Azure SQL  Error 40552: The session has been terminated b...   \n",
              "4  Azure SQL          Error 5: Cannot connect to < servername >   \n",
              "\n",
              "                                          t_response  resolved  days  id  \n",
              "0  Azure SQL Database is available as a single da...      True   -17   0  \n",
              "1  In the copy activity sink, under PolyBase sett...     False   -50   1  \n",
              "2  1. On the login screen of SSMS, select Options...      True   -19   2  \n",
              "3  The issue can occur in any DML operation such ...      True   -47   3  \n",
              "4  To resolve this issue, make sure that port 143...      True   -26   4  "
            ],
            "text/html": [
              "\n",
              "  <div id=\"df-521bf065-30e2-4107-b3b4-43f7a407cf0a\" class=\"colab-df-container\">\n",
              "    <div>\n",
              "<style scoped>\n",
              "    .dataframe tbody tr th:only-of-type {\n",
              "        vertical-align: middle;\n",
              "    }\n",
              "\n",
              "    .dataframe tbody tr th {\n",
              "        vertical-align: top;\n",
              "    }\n",
              "\n",
              "    .dataframe thead th {\n",
              "        text-align: right;\n",
              "    }\n",
              "</style>\n",
              "<table border=\"1\" class=\"dataframe\">\n",
              "  <thead>\n",
              "    <tr style=\"text-align: right;\">\n",
              "      <th></th>\n",
              "      <th>t_cat</th>\n",
              "      <th>t_query</th>\n",
              "      <th>t_response</th>\n",
              "      <th>resolved</th>\n",
              "      <th>days</th>\n",
              "      <th>id</th>\n",
              "    </tr>\n",
              "  </thead>\n",
              "  <tbody>\n",
              "    <tr>\n",
              "      <th>0</th>\n",
              "      <td>Azure SQL</td>\n",
              "      <td>Which SQL cloud database deployment options ar...</td>\n",
              "      <td>Azure SQL Database is available as a single da...</td>\n",
              "      <td>True</td>\n",
              "      <td>-17</td>\n",
              "      <td>0</td>\n",
              "    </tr>\n",
              "    <tr>\n",
              "      <th>1</th>\n",
              "      <td>Azure SQL</td>\n",
              "      <td>Error message: Conversion failed when converti...</td>\n",
              "      <td>In the copy activity sink, under PolyBase sett...</td>\n",
              "      <td>False</td>\n",
              "      <td>-50</td>\n",
              "      <td>1</td>\n",
              "    </tr>\n",
              "    <tr>\n",
              "      <th>2</th>\n",
              "      <td>Azure SQL</td>\n",
              "      <td>Cannot open database \"master\" requested by the...</td>\n",
              "      <td>1. On the login screen of SSMS, select Options...</td>\n",
              "      <td>True</td>\n",
              "      <td>-19</td>\n",
              "      <td>2</td>\n",
              "    </tr>\n",
              "    <tr>\n",
              "      <th>3</th>\n",
              "      <td>Azure SQL</td>\n",
              "      <td>Error 40552: The session has been terminated b...</td>\n",
              "      <td>The issue can occur in any DML operation such ...</td>\n",
              "      <td>True</td>\n",
              "      <td>-47</td>\n",
              "      <td>3</td>\n",
              "    </tr>\n",
              "    <tr>\n",
              "      <th>4</th>\n",
              "      <td>Azure SQL</td>\n",
              "      <td>Error 5: Cannot connect to &lt; servername &gt;</td>\n",
              "      <td>To resolve this issue, make sure that port 143...</td>\n",
              "      <td>True</td>\n",
              "      <td>-26</td>\n",
              "      <td>4</td>\n",
              "    </tr>\n",
              "  </tbody>\n",
              "</table>\n",
              "</div>\n",
              "    <div class=\"colab-df-buttons\">\n",
              "\n",
              "  <div class=\"colab-df-container\">\n",
              "    <button class=\"colab-df-convert\" onclick=\"convertToInteractive('df-521bf065-30e2-4107-b3b4-43f7a407cf0a')\"\n",
              "            title=\"Convert this dataframe to an interactive table.\"\n",
              "            style=\"display:none;\">\n",
              "\n",
              "  <svg xmlns=\"http://www.w3.org/2000/svg\" height=\"24px\" viewBox=\"0 -960 960 960\">\n",
              "    <path d=\"M120-120v-720h720v720H120Zm60-500h600v-160H180v160Zm220 220h160v-160H400v160Zm0 220h160v-160H400v160ZM180-400h160v-160H180v160Zm440 0h160v-160H620v160ZM180-180h160v-160H180v160Zm440 0h160v-160H620v160Z\"/>\n",
              "  </svg>\n",
              "    </button>\n",
              "\n",
              "  <style>\n",
              "    .colab-df-container {\n",
              "      display:flex;\n",
              "      gap: 12px;\n",
              "    }\n",
              "\n",
              "    .colab-df-convert {\n",
              "      background-color: #E8F0FE;\n",
              "      border: none;\n",
              "      border-radius: 50%;\n",
              "      cursor: pointer;\n",
              "      display: none;\n",
              "      fill: #1967D2;\n",
              "      height: 32px;\n",
              "      padding: 0 0 0 0;\n",
              "      width: 32px;\n",
              "    }\n",
              "\n",
              "    .colab-df-convert:hover {\n",
              "      background-color: #E2EBFA;\n",
              "      box-shadow: 0px 1px 2px rgba(60, 64, 67, 0.3), 0px 1px 3px 1px rgba(60, 64, 67, 0.15);\n",
              "      fill: #174EA6;\n",
              "    }\n",
              "\n",
              "    .colab-df-buttons div {\n",
              "      margin-bottom: 4px;\n",
              "    }\n",
              "\n",
              "    [theme=dark] .colab-df-convert {\n",
              "      background-color: #3B4455;\n",
              "      fill: #D2E3FC;\n",
              "    }\n",
              "\n",
              "    [theme=dark] .colab-df-convert:hover {\n",
              "      background-color: #434B5C;\n",
              "      box-shadow: 0px 1px 3px 1px rgba(0, 0, 0, 0.15);\n",
              "      filter: drop-shadow(0px 1px 2px rgba(0, 0, 0, 0.3));\n",
              "      fill: #FFFFFF;\n",
              "    }\n",
              "  </style>\n",
              "\n",
              "    <script>\n",
              "      const buttonEl =\n",
              "        document.querySelector('#df-521bf065-30e2-4107-b3b4-43f7a407cf0a button.colab-df-convert');\n",
              "      buttonEl.style.display =\n",
              "        google.colab.kernel.accessAllowed ? 'block' : 'none';\n",
              "\n",
              "      async function convertToInteractive(key) {\n",
              "        const element = document.querySelector('#df-521bf065-30e2-4107-b3b4-43f7a407cf0a');\n",
              "        const dataTable =\n",
              "          await google.colab.kernel.invokeFunction('convertToInteractive',\n",
              "                                                    [key], {});\n",
              "        if (!dataTable) return;\n",
              "\n",
              "        const docLinkHtml = 'Like what you see? Visit the ' +\n",
              "          '<a target=\"_blank\" href=https://colab.research.google.com/notebooks/data_table.ipynb>data table notebook</a>'\n",
              "          + ' to learn more about interactive tables.';\n",
              "        element.innerHTML = '';\n",
              "        dataTable['output_type'] = 'display_data';\n",
              "        await google.colab.output.renderOutput(dataTable, element);\n",
              "        const docLink = document.createElement('div');\n",
              "        docLink.innerHTML = docLinkHtml;\n",
              "        element.appendChild(docLink);\n",
              "      }\n",
              "    </script>\n",
              "  </div>\n",
              "\n",
              "\n",
              "<div id=\"df-77187a6e-25b4-40a6-a374-55f7456f335a\">\n",
              "  <button class=\"colab-df-quickchart\" onclick=\"quickchart('df-77187a6e-25b4-40a6-a374-55f7456f335a')\"\n",
              "            title=\"Suggest charts\"\n",
              "            style=\"display:none;\">\n",
              "\n",
              "<svg xmlns=\"http://www.w3.org/2000/svg\" height=\"24px\"viewBox=\"0 0 24 24\"\n",
              "     width=\"24px\">\n",
              "    <g>\n",
              "        <path d=\"M19 3H5c-1.1 0-2 .9-2 2v14c0 1.1.9 2 2 2h14c1.1 0 2-.9 2-2V5c0-1.1-.9-2-2-2zM9 17H7v-7h2v7zm4 0h-2V7h2v10zm4 0h-2v-4h2v4z\"/>\n",
              "    </g>\n",
              "</svg>\n",
              "  </button>\n",
              "\n",
              "<style>\n",
              "  .colab-df-quickchart {\n",
              "      --bg-color: #E8F0FE;\n",
              "      --fill-color: #1967D2;\n",
              "      --hover-bg-color: #E2EBFA;\n",
              "      --hover-fill-color: #174EA6;\n",
              "      --disabled-fill-color: #AAA;\n",
              "      --disabled-bg-color: #DDD;\n",
              "  }\n",
              "\n",
              "  [theme=dark] .colab-df-quickchart {\n",
              "      --bg-color: #3B4455;\n",
              "      --fill-color: #D2E3FC;\n",
              "      --hover-bg-color: #434B5C;\n",
              "      --hover-fill-color: #FFFFFF;\n",
              "      --disabled-bg-color: #3B4455;\n",
              "      --disabled-fill-color: #666;\n",
              "  }\n",
              "\n",
              "  .colab-df-quickchart {\n",
              "    background-color: var(--bg-color);\n",
              "    border: none;\n",
              "    border-radius: 50%;\n",
              "    cursor: pointer;\n",
              "    display: none;\n",
              "    fill: var(--fill-color);\n",
              "    height: 32px;\n",
              "    padding: 0;\n",
              "    width: 32px;\n",
              "  }\n",
              "\n",
              "  .colab-df-quickchart:hover {\n",
              "    background-color: var(--hover-bg-color);\n",
              "    box-shadow: 0 1px 2px rgba(60, 64, 67, 0.3), 0 1px 3px 1px rgba(60, 64, 67, 0.15);\n",
              "    fill: var(--button-hover-fill-color);\n",
              "  }\n",
              "\n",
              "  .colab-df-quickchart-complete:disabled,\n",
              "  .colab-df-quickchart-complete:disabled:hover {\n",
              "    background-color: var(--disabled-bg-color);\n",
              "    fill: var(--disabled-fill-color);\n",
              "    box-shadow: none;\n",
              "  }\n",
              "\n",
              "  .colab-df-spinner {\n",
              "    border: 2px solid var(--fill-color);\n",
              "    border-color: transparent;\n",
              "    border-bottom-color: var(--fill-color);\n",
              "    animation:\n",
              "      spin 1s steps(1) infinite;\n",
              "  }\n",
              "\n",
              "  @keyframes spin {\n",
              "    0% {\n",
              "      border-color: transparent;\n",
              "      border-bottom-color: var(--fill-color);\n",
              "      border-left-color: var(--fill-color);\n",
              "    }\n",
              "    20% {\n",
              "      border-color: transparent;\n",
              "      border-left-color: var(--fill-color);\n",
              "      border-top-color: var(--fill-color);\n",
              "    }\n",
              "    30% {\n",
              "      border-color: transparent;\n",
              "      border-left-color: var(--fill-color);\n",
              "      border-top-color: var(--fill-color);\n",
              "      border-right-color: var(--fill-color);\n",
              "    }\n",
              "    40% {\n",
              "      border-color: transparent;\n",
              "      border-right-color: var(--fill-color);\n",
              "      border-top-color: var(--fill-color);\n",
              "    }\n",
              "    60% {\n",
              "      border-color: transparent;\n",
              "      border-right-color: var(--fill-color);\n",
              "    }\n",
              "    80% {\n",
              "      border-color: transparent;\n",
              "      border-right-color: var(--fill-color);\n",
              "      border-bottom-color: var(--fill-color);\n",
              "    }\n",
              "    90% {\n",
              "      border-color: transparent;\n",
              "      border-bottom-color: var(--fill-color);\n",
              "    }\n",
              "  }\n",
              "</style>\n",
              "\n",
              "  <script>\n",
              "    async function quickchart(key) {\n",
              "      const quickchartButtonEl =\n",
              "        document.querySelector('#' + key + ' button');\n",
              "      quickchartButtonEl.disabled = true;  // To prevent multiple clicks.\n",
              "      quickchartButtonEl.classList.add('colab-df-spinner');\n",
              "      try {\n",
              "        const charts = await google.colab.kernel.invokeFunction(\n",
              "            'suggestCharts', [key], {});\n",
              "      } catch (error) {\n",
              "        console.error('Error during call to suggestCharts:', error);\n",
              "      }\n",
              "      quickchartButtonEl.classList.remove('colab-df-spinner');\n",
              "      quickchartButtonEl.classList.add('colab-df-quickchart-complete');\n",
              "    }\n",
              "    (() => {\n",
              "      let quickchartButtonEl =\n",
              "        document.querySelector('#df-77187a6e-25b4-40a6-a374-55f7456f335a button');\n",
              "      quickchartButtonEl.style.display =\n",
              "        google.colab.kernel.accessAllowed ? 'block' : 'none';\n",
              "    })();\n",
              "  </script>\n",
              "</div>\n",
              "    </div>\n",
              "  </div>\n"
            ],
            "application/vnd.google.colaboratory.intrinsic+json": {
              "type": "dataframe",
              "variable_name": "df",
              "summary": "{\n  \"name\": \"df\",\n  \"rows\": 263,\n  \"fields\": [\n    {\n      \"column\": \"t_cat\",\n      \"properties\": {\n        \"dtype\": \"category\",\n        \"num_unique_values\": 13,\n        \"samples\": [\n          \"GCP Big Query\",\n          \"GCP Cloud Run\",\n          \"Azure SQL\"\n        ],\n        \"semantic_type\": \"\",\n        \"description\": \"\"\n      }\n    },\n    {\n      \"column\": \"t_query\",\n      \"properties\": {\n        \"dtype\": \"string\",\n        \"num_unique_values\": 263,\n        \"samples\": [\n          \"My data is being automatically deleted.\",\n          \"I am not able to see the current operation's status.\",\n          \"When I run a transaction inside a try {} catch(error){} block in Firestore, \\nI noticed that when I try to store the error in logs, it appears as empty object. However, when I print it into console in the emulator, I get a proper error message.\"\n        ],\n        \"semantic_type\": \"\",\n        \"description\": \"\"\n      }\n    },\n    {\n      \"column\": \"t_response\",\n      \"properties\": {\n        \"dtype\": \"string\",\n        \"num_unique_values\": 262,\n        \"samples\": [\n          \"Replace your rules with this and try:\\n\\nrules_version = '2';\\nservice cloud.firestore {\\n  match /databases/{database}/documents {\\n    match /{multiSegment=**} {\\n      allow read, write;\\n    }\\n  }\\n}\",\n          \"The solution here is to have Terraform (or something else) manage the resources for you.\\n\\nYou can develop a module that creates the appropriate things for a user e.g. a dataset, a bucket, some perms, a service account etc.\\n\\nThat way all you need to do is add another user to your list and re-deploy. The other additional benefit here is that you can use the repo where the TF is stored as a source of truth.\",\n          \"If access was denied by the server, check to make sure the file share \\nname is correct.\"\n        ],\n        \"semantic_type\": \"\",\n        \"description\": \"\"\n      }\n    },\n    {\n      \"column\": \"resolved\",\n      \"properties\": {\n        \"dtype\": \"boolean\",\n        \"num_unique_values\": 2,\n        \"samples\": [\n          false,\n          true\n        ],\n        \"semantic_type\": \"\",\n        \"description\": \"\"\n      }\n    },\n    {\n      \"column\": \"days\",\n      \"properties\": {\n        \"dtype\": \"number\",\n        \"std\": 15,\n        \"min\": -50,\n        \"max\": 0,\n        \"num_unique_values\": 51,\n        \"samples\": [\n          -31,\n          -34\n        ],\n        \"semantic_type\": \"\",\n        \"description\": \"\"\n      }\n    },\n    {\n      \"column\": \"id\",\n      \"properties\": {\n        \"dtype\": \"number\",\n        \"std\": 76,\n        \"min\": 0,\n        \"max\": 262,\n        \"num_unique_values\": 263,\n        \"samples\": [\n          115,\n          120\n        ],\n        \"semantic_type\": \"\",\n        \"description\": \"\"\n      }\n    }\n  ]\n}"
            }
          },
          "metadata": {},
          "execution_count": 61
        }
      ]
    },
    {
      "cell_type": "code",
      "source": [
        "df.shape"
      ],
      "metadata": {
        "id": "7TQ5H9fhQFvc"
      },
      "execution_count": null,
      "outputs": []
    },
    {
      "cell_type": "markdown",
      "source": [
        "**Now we have categories, questions, and response. Lets add two more columns:\n",
        "\n",
        "*  Resolved - whether the ticket is resolved or not\n",
        "*  Days - here we will simulate with numbers as Chroma doesn't handle datetimes.\n"
      ],
      "metadata": {
        "id": "6xj24Gm2PW67"
      }
    },
    {
      "cell_type": "code",
      "source": [
        "# resolved\n",
        "np.random.seed(101)\n",
        "status = [True, False]\n",
        "resolved = list(np.random.choice(status, df.shape[0], replace=True, p=[.9,.1]))\n",
        "df['resolved'] = resolved\n",
        "\n",
        "# days\n",
        "day_range = list(range(-50, 1))\n",
        "days = list(np.random.choice(day_range, df.shape[0], replace=True))\n",
        "df['days'] = days"
      ],
      "metadata": {
        "id": "f4cdvAcjQCYd"
      },
      "execution_count": null,
      "outputs": []
    },
    {
      "cell_type": "code",
      "source": [
        "df.columns"
      ],
      "metadata": {
        "id": "Ya0212GQQ5y2",
        "colab": {
          "base_uri": "https://localhost:8080/"
        },
        "outputId": "99f7ff3c-d4c4-45e8-bddf-e0c8c1c83a68"
      },
      "execution_count": null,
      "outputs": [
        {
          "output_type": "execute_result",
          "data": {
            "text/plain": [
              "Index(['t_cat', 't_query', 't_response', 'resolved', 'days', 'id'], dtype='object')"
            ]
          },
          "metadata": {},
          "execution_count": 62
        }
      ]
    },
    {
      "cell_type": "code",
      "source": [
        "df.t_cat.value_counts()"
      ],
      "metadata": {
        "id": "zK5oLtsZ1T6d",
        "colab": {
          "base_uri": "https://localhost:8080/"
        },
        "outputId": "7c406269-fc5a-4924-c70a-c026e96323cb"
      },
      "execution_count": null,
      "outputs": [
        {
          "output_type": "execute_result",
          "data": {
            "text/plain": [
              "t_cat\n",
              "Azure AKS             21\n",
              "GCP Security IAM      21\n",
              "GCP Functions         21\n",
              "Azure SQL             20\n",
              "Azure Security IAM    20\n",
              "GCP Cloud Storage     20\n",
              "Azure - AML           20\n",
              "Azure Functions       20\n",
              "GCP Cloud SQL         20\n",
              "Azure Synapse         20\n",
              "GCP Cloud Run         20\n",
              "GCP Big Query         20\n",
              "GCP Fire Store        20\n",
              "Name: count, dtype: int64"
            ]
          },
          "metadata": {},
          "execution_count": 63
        }
      ]
    },
    {
      "cell_type": "markdown",
      "source": [
        "**Keep only categories with over 20 examples**"
      ],
      "metadata": {
        "id": "SYSwCz84SDsq"
      }
    },
    {
      "cell_type": "code",
      "source": [
        "cats = list(df.t_cat.value_counts().index[:13])"
      ],
      "metadata": {
        "id": "UnN9ALpMSCLs"
      },
      "execution_count": null,
      "outputs": []
    },
    {
      "cell_type": "code",
      "source": [
        "cats"
      ],
      "metadata": {
        "id": "SH-c-qoXTBpD"
      },
      "execution_count": null,
      "outputs": []
    },
    {
      "cell_type": "code",
      "source": [
        "df = df[df.t_cat.isin(cats)]\n",
        "df.reset_index(drop= True, inplace=True)\n",
        "df['id'] = df.index"
      ],
      "metadata": {
        "id": "lHavH8lntzpO"
      },
      "execution_count": null,
      "outputs": []
    },
    {
      "cell_type": "markdown",
      "source": [
        "---\n",
        "## $\\color{blue}{DataLoader}$\n",
        "---\n",
        "\n",
        "Import the Langchain DataLoad and create documents."
      ],
      "metadata": {
        "id": "L4s7LCRBnekq"
      }
    },
    {
      "cell_type": "code",
      "source": [
        "# langchain\n",
        "from langchain_community.document_loaders.dataframe import DataFrameLoader"
      ],
      "metadata": {
        "id": "L6nSgfLynd1D"
      },
      "execution_count": null,
      "outputs": []
    },
    {
      "cell_type": "code",
      "source": [
        "loader = DataFrameLoader(df,page_content_column=\"t_query\")"
      ],
      "metadata": {
        "id": "7Vu2HmCPzIUw"
      },
      "execution_count": null,
      "outputs": []
    },
    {
      "cell_type": "code",
      "source": [
        "data = loader.load()"
      ],
      "metadata": {
        "id": "u6TZ1V5_zf8Z"
      },
      "execution_count": null,
      "outputs": []
    },
    {
      "cell_type": "markdown",
      "source": [
        "**data is now a list of Langchain documents**"
      ],
      "metadata": {
        "id": "RdhGpQtTYG4o"
      }
    },
    {
      "cell_type": "code",
      "source": [
        "len(data)"
      ],
      "metadata": {
        "id": "6K3d9DoD1Y0V",
        "colab": {
          "base_uri": "https://localhost:8080/"
        },
        "outputId": "ea0cba26-249d-4d45-df30-43da19397069"
      },
      "execution_count": null,
      "outputs": [
        {
          "output_type": "execute_result",
          "data": {
            "text/plain": [
              "263"
            ]
          },
          "metadata": {},
          "execution_count": 64
        }
      ]
    },
    {
      "cell_type": "code",
      "source": [
        "type(data)"
      ],
      "metadata": {
        "id": "m9zHLOCJT5ZD",
        "colab": {
          "base_uri": "https://localhost:8080/"
        },
        "outputId": "37d488c1-e9d2-43bf-ce2c-22ee889746fc"
      },
      "execution_count": null,
      "outputs": [
        {
          "output_type": "execute_result",
          "data": {
            "text/plain": [
              "list"
            ]
          },
          "metadata": {},
          "execution_count": 65
        }
      ]
    },
    {
      "cell_type": "code",
      "source": [
        "a = data[0]"
      ],
      "metadata": {
        "id": "kaZw_hlY1a3W"
      },
      "execution_count": null,
      "outputs": []
    },
    {
      "cell_type": "code",
      "source": [
        "type(a)"
      ],
      "metadata": {
        "id": "U8dU_TJJpDXs",
        "colab": {
          "base_uri": "https://localhost:8080/",
          "height": 121
        },
        "outputId": "a4c229b9-5b25-45c4-97ca-25528a10c360"
      },
      "execution_count": null,
      "outputs": [
        {
          "output_type": "execute_result",
          "data": {
            "text/plain": [
              "langchain_core.documents.base.Document"
            ],
            "text/html": [
              "<div style=\"max-width:800px; border: 1px solid var(--colab-border-color);\"><style>\n",
              "      pre.function-repr-contents {\n",
              "        overflow-x: auto;\n",
              "        padding: 8px 12px;\n",
              "        max-height: 500px;\n",
              "      }\n",
              "\n",
              "      pre.function-repr-contents.function-repr-contents-collapsed {\n",
              "        cursor: pointer;\n",
              "        max-height: 100px;\n",
              "      }\n",
              "    </style>\n",
              "    <pre style=\"white-space: initial; background:\n",
              "         var(--colab-secondary-surface-color); padding: 8px 12px;\n",
              "         border-bottom: 1px solid var(--colab-border-color);\"><b>langchain_core.documents.base.Document</b><br/>def __init__(page_content: str, **kwargs: Any) -&gt; None</pre><pre class=\"function-repr-contents function-repr-contents-collapsed\" style=\"\"><a class=\"filepath\" style=\"display:none\" href=\"#\">/usr/local/lib/python3.10/dist-packages/langchain_core/documents/base.py</a>Class for storing a piece of text and associated metadata.</pre>\n",
              "      <script>\n",
              "      if (google.colab.kernel.accessAllowed && google.colab.files && google.colab.files.view) {\n",
              "        for (const element of document.querySelectorAll('.filepath')) {\n",
              "          element.style.display = 'block'\n",
              "          element.onclick = (event) => {\n",
              "            event.preventDefault();\n",
              "            event.stopPropagation();\n",
              "            google.colab.files.view(element.textContent, 9);\n",
              "          };\n",
              "        }\n",
              "      }\n",
              "      for (const element of document.querySelectorAll('.function-repr-contents')) {\n",
              "        element.onclick = (event) => {\n",
              "          event.preventDefault();\n",
              "          event.stopPropagation();\n",
              "          element.classList.toggle('function-repr-contents-collapsed');\n",
              "        };\n",
              "      }\n",
              "      </script>\n",
              "      </div>"
            ]
          },
          "metadata": {},
          "execution_count": 67
        }
      ]
    },
    {
      "cell_type": "code",
      "source": [
        "a.page_content"
      ],
      "metadata": {
        "id": "BHmzCbAA1eBG",
        "colab": {
          "base_uri": "https://localhost:8080/",
          "height": 35
        },
        "outputId": "85f57d23-7ec4-4576-81f8-ce818f6c72f9"
      },
      "execution_count": null,
      "outputs": [
        {
          "output_type": "execute_result",
          "data": {
            "text/plain": [
              "'Which SQL cloud database deployment options are \\navailable?'"
            ],
            "application/vnd.google.colaboratory.intrinsic+json": {
              "type": "string"
            }
          },
          "metadata": {},
          "execution_count": 68
        }
      ]
    },
    {
      "cell_type": "code",
      "source": [
        "a.metadata"
      ],
      "metadata": {
        "id": "4i12wnYC1jS9",
        "colab": {
          "base_uri": "https://localhost:8080/"
        },
        "outputId": "536f48cf-8dc3-4a10-967b-d75abaa1d4d4"
      },
      "execution_count": null,
      "outputs": [
        {
          "output_type": "execute_result",
          "data": {
            "text/plain": [
              "{'t_cat': 'Azure SQL',\n",
              " 't_response': 'Azure SQL Database is available as a single database with \\nits own set of resources managed via a logical server,and\\n as a pooled database in an elastic pool, with a shared set of resources managed through a logical server. In general, elastic pools are designed for a typical software-as-a-service (SaaS) application pattern, with one database per custtomer or tenant. With pools, you manage the collective performance, and the databases scale up or down automatically.',\n",
              " 'resolved': True,\n",
              " 'days': -17,\n",
              " 'id': 0}"
            ]
          },
          "metadata": {},
          "execution_count": 69
        }
      ]
    },
    {
      "cell_type": "markdown",
      "source": [
        "---\n",
        "## $\\color{blue}{Vector Store}$\n",
        "---\n",
        "\n",
        "Chroma vector store is used to save the data locally. This also gives us the possibility to add or to delete data from the db. In addition the metadata filtering becomes possible."
      ],
      "metadata": {
        "id": "nh5AtW5adIJA"
      }
    },
    {
      "cell_type": "code",
      "source": [
        "persist_directory = \"RAG_tutorial/dbs/toy_metadata.1.db\""
      ],
      "metadata": {
        "id": "jXQp8hi7qLQ8"
      },
      "execution_count": null,
      "outputs": []
    },
    {
      "cell_type": "code",
      "source": [
        "# ''"
      ],
      "metadata": {
        "id": "8qGE46_pUMy1"
      },
      "execution_count": null,
      "outputs": []
    },
    {
      "cell_type": "code",
      "source": [
        "HF_TOKEN = getpass.getpass(\"Hugging Face token please: \")"
      ],
      "metadata": {
        "id": "jO97ooinpsr6"
      },
      "execution_count": null,
      "outputs": []
    },
    {
      "cell_type": "code",
      "source": [
        "login(token=HF_TOKEN)\n",
        "os.environ['HUGGINGFACEHUB_API_TOKEN'] = HF_TOKEN"
      ],
      "metadata": {
        "id": "WpGzOl19qvEE"
      },
      "execution_count": null,
      "outputs": []
    },
    {
      "cell_type": "markdown",
      "source": [
        "**Now we need to download model from hugging face via Sentence Transformers**"
      ],
      "metadata": {
        "id": "RIOtn1rdn3r4"
      }
    },
    {
      "cell_type": "code",
      "source": [
        "from langchain_community.embeddings.sentence_transformer import (\n",
        "    SentenceTransformerEmbeddings,\n",
        ")"
      ],
      "metadata": {
        "id": "6GBoLMXboKE7"
      },
      "execution_count": null,
      "outputs": []
    },
    {
      "cell_type": "code",
      "source": [
        "embeddings = SentenceTransformerEmbeddings(model_name=\"BAAI/bge-m3\")\n"
      ],
      "metadata": {
        "id": "TbB9UYWhpsul"
      },
      "execution_count": null,
      "outputs": []
    },
    {
      "cell_type": "markdown",
      "source": [
        "**We now need the langchain wrapper over the chromadb vector store**"
      ],
      "metadata": {
        "id": "Ql7BunK2ofcC"
      }
    },
    {
      "cell_type": "code",
      "source": [
        "from langchain_community.vectorstores.chroma import Chroma"
      ],
      "metadata": {
        "id": "ih5Y-sPcofAY"
      },
      "execution_count": null,
      "outputs": []
    },
    {
      "cell_type": "code",
      "source": [
        "db = Chroma.from_documents(\n",
        "    documents=data,\n",
        "    embedding=embeddings,\n",
        "    persist_directory=persist_directory,\n",
        "    collection_name='toy_db'\n",
        ")\n",
        "\n",
        "db.persist()"
      ],
      "metadata": {
        "id": "Qz5s3asaoVKh"
      },
      "execution_count": null,
      "outputs": []
    },
    {
      "cell_type": "markdown",
      "source": [
        "**We don't need to rebuild the db every time, if we load the previously saved db we can run this on the cpu**"
      ],
      "metadata": {
        "id": "crLZPYqvpxdZ"
      }
    },
    {
      "cell_type": "code",
      "source": [
        "db = Chroma( persist_directory=persist_directory, embedding_function=embeddings, collection_name='toy_db')"
      ],
      "metadata": {
        "id": "we0CV4XxqXMK"
      },
      "execution_count": null,
      "outputs": []
    },
    {
      "cell_type": "markdown",
      "source": [
        "**Check if the data is in the database**\n",
        "\n",
        "We can access thek items of database directly, with filtering options. [Read the docs.](https://api.python.langchain.com/en/latest/vectorstores/langchain_community.vectorstores.chroma.Chroma.html)"
      ],
      "metadata": {
        "id": "WV_j-uw0Y7PY"
      }
    },
    {
      "cell_type": "code",
      "source": [
        "def peek(db, ticket_id=None):\n",
        "    \"\"\"\n",
        "    Check the db for data, optionally specifying a ticket id.\n",
        "\n",
        "    Parameters\n",
        "    ----------\n",
        "    ticket_id : int, optional\n",
        "        Ticket ID. The default is None.\n",
        "\n",
        "    Returns\n",
        "    -------\n",
        "    res : TYPE\n",
        "        DESCRIPTION.\n",
        "\n",
        "    \"\"\"\n",
        "    if not ticket_id:\n",
        "        ticket_id = int(np.random.choice(list(df.shape[0]), 1)[0])\n",
        "\n",
        "    if not ticket_id in list(df['id']):\n",
        "        print(f'ticket_id {ticket_id} is not in the database.')\n",
        "        return None\n",
        "\n",
        "    res = db.get(include=['metadatas', 'documents'], where = {'id': ticket_id})\n",
        "    return res"
      ],
      "metadata": {
        "id": "sDcwaC73VXEE"
      },
      "execution_count": null,
      "outputs": []
    },
    {
      "cell_type": "code",
      "source": [
        "a = peek(db,20)"
      ],
      "metadata": {
        "id": "Ff-UhPhZYhdn"
      },
      "execution_count": null,
      "outputs": []
    },
    {
      "cell_type": "code",
      "source": [
        "a"
      ],
      "metadata": {
        "colab": {
          "base_uri": "https://localhost:8080/"
        },
        "id": "-TrvozZAYnYx",
        "outputId": "ab15ddf9-8ef8-49b5-b441-aaa92946db59"
      },
      "execution_count": null,
      "outputs": [
        {
          "output_type": "execute_result",
          "data": {
            "text/plain": [
              "{'ids': ['16536230-86a8-4248-9558-156abe258d3b'],\n",
              " 'embeddings': None,\n",
              " 'metadatas': [{'days': -14,\n",
              "   'id': 20,\n",
              "   'resolved': True,\n",
              "   't_cat': 'Azure AKS',\n",
              "   't_response': \"Ensure that your client's IP address is within the ranges authorized by the cluster's API server:\\n\\n1. Find your local IP address. For information on how to find it on Windows and Linux, see How to find my IP.\\n\\n2. Update the range that's authorized by the API server by using the az aks update command in Azure CLI. Authorize your client's IP address.\"}],\n",
              " 'documents': [\"Client can't reach an Azure Kubernetes Service (AKS) cluster's API \"],\n",
              " 'uris': None,\n",
              " 'data': None}"
            ]
          },
          "metadata": {},
          "execution_count": 75
        }
      ]
    },
    {
      "cell_type": "code",
      "source": [
        "# a = db.get(include=['metadatas', 'documents', 'embeddings']) # To return the embeddings aswell"
      ],
      "metadata": {
        "id": "OzQuH7LxXTla"
      },
      "execution_count": null,
      "outputs": []
    },
    {
      "cell_type": "markdown",
      "source": [
        "**We can now query the database to find the closest matches to an input query.**"
      ],
      "metadata": {
        "id": "f4MXar95ZuFy"
      }
    },
    {
      "cell_type": "code",
      "source": [
        "query = \"I want to convert my string to an id\""
      ],
      "metadata": {
        "id": "yb6XIn1nZ96g"
      },
      "execution_count": null,
      "outputs": []
    },
    {
      "cell_type": "code",
      "source": [
        "res = db.similarity_search_with_score(query, k = 2)"
      ],
      "metadata": {
        "id": "RWUWZvURq6uB"
      },
      "execution_count": null,
      "outputs": []
    },
    {
      "cell_type": "code",
      "source": [
        "res"
      ],
      "metadata": {
        "colab": {
          "base_uri": "https://localhost:8080/"
        },
        "id": "_X3xEwWnaH4g",
        "outputId": "2b8d1e24-51f5-4d70-82e4-9101482de022"
      },
      "execution_count": null,
      "outputs": [
        {
          "output_type": "execute_result",
          "data": {
            "text/plain": [
              "[(Document(page_content='Error message: Conversion failed when converting from a \\ncharacter string to uniqueidentifier', metadata={'days': -50, 'id': 1, 'resolved': False, 't_cat': 'Azure SQL', 't_response': 'In the copy activity sink, under PolyBase settings, set the use type \\ndefault option to false.'}),\n",
              "  0.7504672408103943),\n",
              " (Document(page_content=' I get an error when I attempt to make my data public', metadata={'days': -36, 'id': 84, 'resolved': False, 't_cat': 'GCP Cloud Storage', 't_response': 'Make sure that you have the setIamPolicy permission for your object or bucket. This permission is granted, for example, in the Storage Admin role. If you have the setIamPolicy permission and you still get an error, your bucket might be subject to public access prevention, which does not allow access to allUsers or allAuthenticatedUsers. Public access prevention might be set on the bucket directly, or it might be enforced through an organization policy that is set at a higher level.\\n'}),\n",
              "  0.8706486821174622)]"
            ]
          },
          "metadata": {},
          "execution_count": 78
        }
      ]
    },
    {
      "cell_type": "markdown",
      "source": [
        "---\n",
        "## $\\color{blue}{Query}$\n",
        "---\n",
        "\n",
        "We now have a [Chroma db](https://api.python.langchain.com/en/latest/vectorstores/langchain_community.vectorstores.chroma.Chroma.html), which is langchain wrapped around chromadb with enough functionality to modify and query the underlying vectorstore which is built with SQLite.\n",
        "\n",
        "Now we can demonstrate filtering and ultimately build a wrapper for filtering the category and the date."
      ],
      "metadata": {
        "id": "0OXJ_D9drr5Q"
      }
    },
    {
      "cell_type": "markdown",
      "source": [
        "---\n",
        "#### $\\color{red}{Simple}$\n",
        "---"
      ],
      "metadata": {
        "id": "UePDeUC4tARh"
      }
    },
    {
      "cell_type": "code",
      "source": [
        "query = \"I want to convert my string to an id\""
      ],
      "metadata": {
        "id": "itycQFDZ1Iyu"
      },
      "execution_count": null,
      "outputs": []
    },
    {
      "cell_type": "code",
      "source": [
        "res = db.similarity_search_with_score(query, k = 4)"
      ],
      "metadata": {
        "id": "0Iu3b3mQpQrh"
      },
      "execution_count": null,
      "outputs": []
    },
    {
      "cell_type": "code",
      "source": [
        "res[0][1]"
      ],
      "metadata": {
        "id": "RcZQkDff1Qoa"
      },
      "execution_count": null,
      "outputs": []
    },
    {
      "cell_type": "code",
      "source": [
        "for el in res:\n",
        "  print('#######################')\n",
        "  print('\\n##### New Point #####\\n')\n",
        "  print(el[0].page_content, '\\n')\n",
        "  print(el[0].metadata['t_cat'])"
      ],
      "metadata": {
        "id": "BN-MFus82WsX",
        "colab": {
          "base_uri": "https://localhost:8080/"
        },
        "outputId": "9b2e1f43-158b-4931-9566-f8c5f2606d54"
      },
      "execution_count": null,
      "outputs": [
        {
          "output_type": "stream",
          "name": "stdout",
          "text": [
            "#######################\n",
            "\n",
            "##### New Point #####\n",
            "\n",
            "Error message: Conversion failed when converting from a \n",
            "character string to uniqueidentifier \n",
            "\n",
            "Azure SQL\n",
            "#######################\n",
            "\n",
            "##### New Point #####\n",
            "\n",
            " I get an error when I attempt to make my data public \n",
            "\n",
            "GCP Cloud Storage\n",
            "#######################\n",
            "\n",
            "##### New Point #####\n",
            "\n",
            "Unable to register the self-hosted IR  \n",
            "\n",
            "Azure Security IAM\n",
            "#######################\n",
            "\n",
            "##### New Point #####\n",
            "\n",
            "Getting the error message Bad syntax for dict arg when trying to set a \n",
            "flag. \n",
            "\n",
            "GCP Cloud SQL\n"
          ]
        }
      ]
    },
    {
      "cell_type": "markdown",
      "source": [
        "---\n",
        "#### $\\color{red}{Metadata-string-match}$\n",
        "---"
      ],
      "metadata": {
        "id": "D4ZaGOKO4o81"
      }
    },
    {
      "cell_type": "code",
      "source": [
        "df.t_cat.value_counts()"
      ],
      "metadata": {
        "id": "wj6C5Eur41zF"
      },
      "execution_count": null,
      "outputs": []
    },
    {
      "cell_type": "markdown",
      "source": [
        "**filter only the Normal**"
      ],
      "metadata": {
        "id": "Rb3FgAGZtshM"
      }
    },
    {
      "cell_type": "code",
      "source": [
        "res = db.similarity_search_with_score(query, k = 4, filter= {\"t_cat\": 'Azure SQL'} )"
      ],
      "metadata": {
        "id": "5QnnUrFK5O6P"
      },
      "execution_count": null,
      "outputs": []
    },
    {
      "cell_type": "code",
      "source": [
        "for el in res:\n",
        "  print('#######################')\n",
        "  print('\\n##### New Point #####\\n')\n",
        "  print(el[0].page_content, '\\n')\n",
        "  print(el[0].metadata['t_cat'])"
      ],
      "metadata": {
        "colab": {
          "base_uri": "https://localhost:8080/"
        },
        "id": "-URvmXO55eOe",
        "outputId": "ce5e3b42-70c9-4431-d753-058d3bd6ed12"
      },
      "execution_count": null,
      "outputs": [
        {
          "output_type": "stream",
          "name": "stdout",
          "text": [
            "#######################\n",
            "\n",
            "##### New Point #####\n",
            "\n",
            "Error message: Conversion failed when converting from a \n",
            "character string to uniqueidentifier \n",
            "\n",
            "Azure SQL\n",
            "#######################\n",
            "\n",
            "##### New Point #####\n",
            "\n",
            "c# error when connect to mysql \"Object cannot be cast from \n",
            "DBNull to other types\" (mariadb 10.3) \n",
            "\n",
            "Azure SQL\n",
            "#######################\n",
            "\n",
            "##### New Point #####\n",
            "\n",
            "Error code: 2056 - SqlInfoValidationFailed \n",
            "\n",
            "Azure SQL\n",
            "#######################\n",
            "\n",
            "##### New Point #####\n",
            "\n",
            "Error 5: Cannot connect to < servername > \n",
            "\n",
            "Azure SQL\n"
          ]
        }
      ]
    },
    {
      "cell_type": "markdown",
      "source": [
        "---\n",
        "#### $\\color{red}{Metadata->=/<=}$\n",
        "---"
      ],
      "metadata": {
        "id": "y6879Sy_5kRe"
      }
    },
    {
      "cell_type": "markdown",
      "source": [
        "**Note the result ids**"
      ],
      "metadata": {
        "id": "YIAXwg7QuHES"
      }
    },
    {
      "cell_type": "code",
      "source": [
        "res = db.similarity_search_with_score(query, k = 4)"
      ],
      "metadata": {
        "id": "scfwqeHG6IdO"
      },
      "execution_count": null,
      "outputs": []
    },
    {
      "cell_type": "code",
      "source": [
        "res[0][0].metadata"
      ],
      "metadata": {
        "id": "M-fRs6eDbjfk",
        "colab": {
          "base_uri": "https://localhost:8080/"
        },
        "outputId": "a1e4eabd-3eed-46a0-8b9b-970ac8d9c70d"
      },
      "execution_count": null,
      "outputs": [
        {
          "output_type": "execute_result",
          "data": {
            "text/plain": [
              "{'days': -50,\n",
              " 'id': 1,\n",
              " 'resolved': False,\n",
              " 't_cat': 'Azure SQL',\n",
              " 't_response': 'In the copy activity sink, under PolyBase settings, set the use type \\ndefault option to false.'}"
            ]
          },
          "metadata": {},
          "execution_count": 86
        }
      ]
    },
    {
      "cell_type": "code",
      "source": [
        "for el in res:\n",
        "  print(el[0].metadata['id'])"
      ],
      "metadata": {
        "colab": {
          "base_uri": "https://localhost:8080/"
        },
        "id": "VE6xJ6Ll50b-",
        "outputId": "b479dfe8-7e9d-40e3-9e30-abf2af624db4"
      },
      "execution_count": null,
      "outputs": [
        {
          "output_type": "stream",
          "name": "stdout",
          "text": [
            "1\n",
            "84\n",
            "51\n",
            "107\n"
          ]
        }
      ]
    },
    {
      "cell_type": "code",
      "source": [
        "res = db.similarity_search_with_score(query, k = 4, filter = {'id':{'$gt':51}} )"
      ],
      "metadata": {
        "id": "rB-4EE5rtht0"
      },
      "execution_count": null,
      "outputs": []
    },
    {
      "cell_type": "code",
      "source": [
        "for el in res:\n",
        "  print(el[0].metadata['id'])"
      ],
      "metadata": {
        "colab": {
          "base_uri": "https://localhost:8080/"
        },
        "id": "n_H3yVEVx8yV",
        "outputId": "a74835af-0d4a-462c-b0b2-65e5ce30ac3a"
      },
      "execution_count": null,
      "outputs": [
        {
          "output_type": "stream",
          "name": "stdout",
          "text": [
            "84\n",
            "107\n",
            "115\n",
            "245\n"
          ]
        }
      ]
    },
    {
      "cell_type": "markdown",
      "source": [
        "**in between two values**"
      ],
      "metadata": {
        "id": "hOwWtPjQ7yJO"
      }
    },
    {
      "cell_type": "code",
      "source": [
        "res = db.similarity_search_with_score(\n",
        "    query, k = 4, filter = {\"$and\": [{'id':{'$gt':110}}, {'id': {'$lte':135}}]}\n",
        ")"
      ],
      "metadata": {
        "id": "WjKn1CBU6rgq"
      },
      "execution_count": null,
      "outputs": []
    },
    {
      "cell_type": "code",
      "source": [
        "for el in res:\n",
        "  print(el[0].metadata['id'])"
      ],
      "metadata": {
        "colab": {
          "base_uri": "https://localhost:8080/"
        },
        "id": "DpwHaJsTyver",
        "outputId": "223b0649-42e8-4049-bf16-3379d8d31633"
      },
      "execution_count": null,
      "outputs": [
        {
          "output_type": "stream",
          "name": "stdout",
          "text": [
            "115\n",
            "119\n",
            "128\n",
            "125\n"
          ]
        }
      ]
    },
    {
      "cell_type": "markdown",
      "source": [
        "---\n",
        "#### $\\color{red}{Metadata-date}$\n",
        "---\n",
        "\n"
      ],
      "metadata": {
        "id": "FcdyXBBm71To"
      }
    },
    {
      "cell_type": "code",
      "source": [
        "res = db.similarity_search_with_score(query, k = 4 )"
      ],
      "metadata": {
        "id": "Y6q1uP0Feb6y"
      },
      "execution_count": null,
      "outputs": []
    },
    {
      "cell_type": "code",
      "source": [
        "for el in res:\n",
        "  print('#######################')\n",
        "  print('\\n##### New Point #####\\n')\n",
        "  print(el[0].page_content, '\\n')\n",
        "  print(el[0].metadata['t_cat'])\n",
        "  print(el[0].metadata['days'])\n",
        "  print(f\"resolved: {el[0].metadata['resolved']}.\")"
      ],
      "metadata": {
        "colab": {
          "base_uri": "https://localhost:8080/"
        },
        "id": "Qjaj0-DDeezC",
        "outputId": "f6073aff-65b8-444b-c8c6-49b34063ced2"
      },
      "execution_count": null,
      "outputs": [
        {
          "output_type": "stream",
          "name": "stdout",
          "text": [
            "#######################\n",
            "\n",
            "##### New Point #####\n",
            "\n",
            "Error message: Conversion failed when converting from a \n",
            "character string to uniqueidentifier \n",
            "\n",
            "Azure SQL\n",
            "-50\n",
            "resolved: False.\n",
            "#######################\n",
            "\n",
            "##### New Point #####\n",
            "\n",
            " I get an error when I attempt to make my data public \n",
            "\n",
            "GCP Cloud Storage\n",
            "-36\n",
            "resolved: False.\n",
            "#######################\n",
            "\n",
            "##### New Point #####\n",
            "\n",
            "Unable to register the self-hosted IR  \n",
            "\n",
            "Azure Security IAM\n",
            "-3\n",
            "resolved: True.\n",
            "#######################\n",
            "\n",
            "##### New Point #####\n",
            "\n",
            "Getting the error message Bad syntax for dict arg when trying to set a \n",
            "flag. \n",
            "\n",
            "GCP Cloud SQL\n",
            "-22\n",
            "resolved: True.\n"
          ]
        }
      ]
    },
    {
      "cell_type": "code",
      "source": [
        "res = db.similarity_search_with_score(query, k = 4, filter= {\"t_cat\": 'Azure SQL'} )"
      ],
      "metadata": {
        "id": "a_LYB4GterNy"
      },
      "execution_count": null,
      "outputs": []
    },
    {
      "cell_type": "code",
      "source": [
        "for el in res:\n",
        "  print('#######################')\n",
        "  print('\\n##### New Point #####\\n')\n",
        "  print(el[0].page_content, '\\n')\n",
        "  print(el[0].metadata['t_cat'])\n",
        "  print(el[0].metadata['days'])\n",
        "  print(f\"resolved: {el[0].metadata['resolved']}.\")"
      ],
      "metadata": {
        "id": "cCCT8TPUetqs"
      },
      "execution_count": null,
      "outputs": []
    },
    {
      "cell_type": "code",
      "source": [
        "res = db.similarity_search_with_score(\n",
        "    query, k = 4, filter = {\"$and\": [{'resolved': False}, {'days': {'$gte':-21}}]}\n",
        ")\n"
      ],
      "metadata": {
        "id": "3GFJHwmjv_Dv"
      },
      "execution_count": null,
      "outputs": []
    },
    {
      "cell_type": "code",
      "source": [
        "for el in res:\n",
        "  print('#######################')\n",
        "  print('\\n##### New Point #####\\n')\n",
        "  print(el[0].page_content, '\\n')\n",
        "  print(el[0].metadata['t_cat'])\n",
        "  print(el[0].metadata['days'])\n",
        "  print(f\"resolved: {el[0].metadata['resolved']}.\")"
      ],
      "metadata": {
        "colab": {
          "base_uri": "https://localhost:8080/"
        },
        "id": "6caSnuPXfD9R",
        "outputId": "f492bf45-a612-45fa-8fc3-99d618b6f9f1"
      },
      "execution_count": null,
      "outputs": [
        {
          "output_type": "stream",
          "name": "stdout",
          "text": [
            "#######################\n",
            "\n",
            "##### New Point #####\n",
            "\n",
            "How do I add or access an app.config file in Azure functions to add a \n",
            "database connection string? \n",
            "\n",
            "Azure Functions\n",
            "-13\n",
            "resolved: False.\n",
            "#######################\n",
            "\n",
            "##### New Point #####\n",
            "\n",
            "How can I manage who can access my instances? \n",
            "\n",
            "GCP Security IAM\n",
            "-13\n",
            "resolved: False.\n",
            "#######################\n",
            "\n",
            "##### New Point #####\n",
            "\n",
            "How do I set entry point in cloud function? \n",
            "\n",
            "GCP Functions\n",
            "-2\n",
            "resolved: False.\n",
            "#######################\n",
            "\n",
            "##### New Point #####\n",
            "\n",
            "Deployment failure: Insufficient permissions to (re)configure a trigger\n",
            "(permission denied for bucket <BUCKET_ID>). Please, give owner permissions to the editor role of the bucket and try again. \n",
            "\n",
            "GCP Functions\n",
            "-10\n",
            "resolved: False.\n"
          ]
        }
      ]
    },
    {
      "cell_type": "markdown",
      "source": [
        "**Similarity score**"
      ],
      "metadata": {
        "id": "tUvkfTb_gJOZ"
      }
    },
    {
      "cell_type": "code",
      "source": [
        "res = db.similarity_search_with_score(query, k = 4 )"
      ],
      "metadata": {
        "id": "rW_BkzcagQlI"
      },
      "execution_count": null,
      "outputs": []
    },
    {
      "cell_type": "code",
      "source": [
        "for el in res:\n",
        "  print('-' * 20)\n",
        "  print(el[0].page_content)\n",
        "  print(f\"cosine distance: {el[1]}\")  # 0 - 2 zero is the best\n",
        "  print(f\"cosine similarity: {1- el[1]}\")  # -1 to 1 one is the best\n"
      ],
      "metadata": {
        "id": "QXA55HZ6gLw4"
      },
      "execution_count": null,
      "outputs": []
    }
  ]
}